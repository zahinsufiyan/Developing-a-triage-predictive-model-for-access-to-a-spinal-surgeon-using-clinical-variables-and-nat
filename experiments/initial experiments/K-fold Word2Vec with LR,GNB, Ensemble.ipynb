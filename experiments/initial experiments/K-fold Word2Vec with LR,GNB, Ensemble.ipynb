{
 "cells": [
  {
   "cell_type": "code",
   "execution_count": 1,
   "id": "cb17d1ac",
   "metadata": {},
   "outputs": [
    {
     "name": "stdout",
     "output_type": "stream",
     "text": [
      "Requirement already satisfied: gensim in c:\\notebook\\lib\\site-packages (4.1.2)\n",
      "Requirement already satisfied: smart-open>=1.8.1 in c:\\notebook\\lib\\site-packages (from gensim) (5.2.1)\n",
      "Requirement already satisfied: numpy>=1.17.0 in c:\\notebook\\lib\\site-packages (from gensim) (1.20.3)\n",
      "Requirement already satisfied: Cython==0.29.23 in c:\\notebook\\lib\\site-packages (from gensim) (0.29.23)\n",
      "Requirement already satisfied: scipy>=0.18.1 in c:\\notebook\\lib\\site-packages (from gensim) (1.7.1)\n",
      "Note: you may need to restart the kernel to use updated packages.\n"
     ]
    }
   ],
   "source": [
    "pip install -U gensim"
   ]
  },
  {
   "cell_type": "code",
   "execution_count": 1,
   "id": "e6a18285",
   "metadata": {},
   "outputs": [],
   "source": [
    "import gensim\n",
    "import numpy as np\n",
    "import pandas as pd\n",
    "from sklearn.model_selection import train_test_split\n",
    "pd.set_option('display.max_colwidth', 100)\n",
    "from sklearn.linear_model import LogisticRegressionCV\n",
    "from sklearn.linear_model import LogisticRegression\n",
    "from sklearn.metrics import accuracy_score\n",
    "from sklearn.metrics import f1_score\n",
    "from sklearn.metrics import precision_score, recall_score\n",
    "from sklearn import model_selection, naive_bayes, svm\n",
    "from sklearn.linear_model import LogisticRegression\n",
    "from sklearn.naive_bayes import GaussianNB\n",
    "from sklearn.ensemble import RandomForestClassifier, VotingClassifier\n",
    "import seaborn as sns\n",
    "from sklearn.feature_extraction.text import CountVectorizer, TfidfVectorizer\n",
    "from sklearn.linear_model import LogisticRegression\n",
    "from sklearn.svm import SVC\n",
    "from sklearn.ensemble import VotingClassifier\n",
    "from sklearn.model_selection import KFold\n",
    "from sklearn.metrics import accuracy_score, precision_score, recall_score, f1_score\n",
    "from sklearn.metrics import confusion_matrix"
   ]
  },
  {
   "cell_type": "code",
   "execution_count": 2,
   "id": "c94fd563",
   "metadata": {},
   "outputs": [],
   "source": [
    "random_state = 100\n",
    "np.random.seed(random_state)"
   ]
  },
  {
   "cell_type": "code",
   "execution_count": 4,
   "id": "43424699",
   "metadata": {},
   "outputs": [
    {
     "data": {
      "text/html": [
       "<div>\n",
       "<style scoped>\n",
       "    .dataframe tbody tr th:only-of-type {\n",
       "        vertical-align: middle;\n",
       "    }\n",
       "\n",
       "    .dataframe tbody tr th {\n",
       "        vertical-align: top;\n",
       "    }\n",
       "\n",
       "    .dataframe thead th {\n",
       "        text-align: right;\n",
       "    }\n",
       "</style>\n",
       "<table border=\"1\" class=\"dataframe\">\n",
       "  <thead>\n",
       "    <tr style=\"text-align: right;\">\n",
       "      <th></th>\n",
       "      <th>Unnamed: 0</th>\n",
       "      <th>Outcome</th>\n",
       "      <th>mr_report</th>\n",
       "    </tr>\n",
       "  </thead>\n",
       "  <tbody>\n",
       "    <tr>\n",
       "      <th>0</th>\n",
       "      <td>0</td>\n",
       "      <td>0</td>\n",
       "      <td>Reason for Exam: CHRONIC, RECURRENT SEVERE LOWER BACKCAHE, STIFFNESS  Â   NEVE ROOT IMPINGMENT? ...</td>\n",
       "    </tr>\n",
       "    <tr>\n",
       "      <th>1</th>\n",
       "      <td>1</td>\n",
       "      <td>1</td>\n",
       "      <td>TECHNIQUE: Sagittal T1 and T2 images of the lumbosacral spine were obtained with axial T1 and T2...</td>\n",
       "    </tr>\n",
       "    <tr>\n",
       "      <th>2</th>\n",
       "      <td>2</td>\n",
       "      <td>0</td>\n",
       "      <td>TECHNIQUE:Â    NoncontrastÂ MRIÂ ofÂ theÂ lumbarÂ spineÂ protocol,Â withÂ sagittalÂ T1Â andÂ T2Â...</td>\n",
       "    </tr>\n",
       "    <tr>\n",
       "      <th>3</th>\n",
       "      <td>3</td>\n",
       "      <td>1</td>\n",
       "      <td>Narrative &amp; Impression MR LUMBAR SPINE Reason for Exam: PLEASSANT LADY WITH A PAST HX OF BREAST ...</td>\n",
       "    </tr>\n",
       "    <tr>\n",
       "      <th>4</th>\n",
       "      <td>4</td>\n",
       "      <td>0</td>\n",
       "      <td>MRÂ THORACICÂ SPINEÂ Â Â Â Â      ReasonÂ forÂ Exam:Â RECURRENTÂ LOWERÂ THORACICÂ ANDÂ LUMBARÂ P...</td>\n",
       "    </tr>\n",
       "  </tbody>\n",
       "</table>\n",
       "</div>"
      ],
      "text/plain": [
       "   Unnamed: 0  Outcome  \\\n",
       "0           0        0   \n",
       "1           1        1   \n",
       "2           2        0   \n",
       "3           3        1   \n",
       "4           4        0   \n",
       "\n",
       "                                                                                             mr_report  \n",
       "0  Reason for Exam: CHRONIC, RECURRENT SEVERE LOWER BACKCAHE, STIFFNESS  Â   NEVE ROOT IMPINGMENT? ...  \n",
       "1  TECHNIQUE: Sagittal T1 and T2 images of the lumbosacral spine were obtained with axial T1 and T2...  \n",
       "2  TECHNIQUE:Â    NoncontrastÂ MRIÂ ofÂ theÂ lumbarÂ spineÂ protocol,Â withÂ sagittalÂ T1Â andÂ T2Â...  \n",
       "3  Narrative & Impression MR LUMBAR SPINE Reason for Exam: PLEASSANT LADY WITH A PAST HX OF BREAST ...  \n",
       "4  MRÂ THORACICÂ SPINEÂ Â Â Â Â      ReasonÂ forÂ Exam:Â RECURRENTÂ LOWERÂ THORACICÂ ANDÂ LUMBARÂ P...  "
      ]
     },
     "execution_count": 4,
     "metadata": {},
     "output_type": "execute_result"
    }
   ],
   "source": [
    "# Loading dataset\n",
    "df2 = pd.read_csv(r\"C:\\Users\\zahin\\Full_SACv2.csv\",encoding='unicode_escape')\n",
    "df2['mr_report'] = df2['mr_report'].astype(str)\n",
    "\n",
    "df2.head()"
   ]
  },
  {
   "cell_type": "code",
   "execution_count": 5,
   "id": "01c91971",
   "metadata": {},
   "outputs": [
    {
     "data": {
      "image/png": "[encoded data removed]",
      "text/plain": [
       "<Figure size 432x288 with 1 Axes>"
      ]
     },
     "metadata": {
      "needs_background": "light"
     },
     "output_type": "display_data"
    }
   ],
   "source": [
    "ax = sns.countplot(x=\"Outcome\", data=df2)"
   ]
  },
  {
   "cell_type": "code",
   "execution_count": 19,
   "id": "fb208cc8",
   "metadata": {},
   "outputs": [
    {
     "name": "stdout",
     "output_type": "stream",
     "text": [
      "[341 599 249 116  60 275 756 606 129 167 743 721 514 493 668 479 482 660\n",
      " 630 416 577 203 659 255  32 127 542 543 527 680 139 261  19 208  54 410\n",
      " 695 241 313 166 164 509  46 465 523 234 661  51 408 726 406 409   5 716\n",
      " 563 590 623 188 709 713 452 333 240 319 382 348 730  12 273 118  20 421\n",
      " 376 170 707 586 268 569 282 686  38 507  79  76 284 364 571 560   2  58\n",
      " 227 137 108 359  93 490  96 536 519 614  14 402 474  91 731 257 369 429\n",
      " 486 352 425 204 481 169 312   9  61 585 302 462 495  59 648 387 596 574\n",
      " 397 595 504 307 107 120 184 253   4 270 656 662 153 187 466 742  74 358\n",
      " 394 544  52 715 734 345 162 644 719  78  98 181 458 579 213 412 604  31\n",
      " 651 286  16 441 759 207 342 670 300 576 211 582 363 148 298 310 171 435\n",
      " 366 331 667 160 168 537 131 230 642 476 478 747  25 103 449 502 288 635\n",
      " 124  11 633 291 669 175 228 733 545  48 728 444 469 238 190 506 583 122\n",
      " 528 518 339  70 318 155 538 152  15 646 415 428 380 354 448 608 568 330\n",
      " 525  56 299 612 378  22 622 128 666 357 561 541  24 174 370 247 468 186\n",
      "  41 433 321 533   3 520 638 565 224 529 411 555  37 460 196 698 717 551\n",
      "  28 383 221 110 488 592 508 422 736 643  47 156 511 485 619 637  55 454\n",
      " 185 691 414  63 699 700 308 567 613 201 229 236 757 745 195 328 578 197\n",
      " 631 632  68 163 516 737 141 755  94 598  33 159 260  72  90  69 290 447\n",
      " 179 694 143 309 515 652 264 594 524 199 277 336 100 732 517 311   6 123\n",
      " 463 453 269 636 558 149 265 353  73 665  67 530  77 480  82 739 575  49\n",
      " 407 344 144 113 714 556 142 484  36 176 226 445 427 566 477 214 335 572\n",
      " 220 625 620 232 564  35 287 751 266 570 672 404 611 639 626 690  85  40\n",
      " 727 513 685  42 396 389 304 263 431 375 350 674 111 259 377 325 753 285\n",
      " 138 628 209 244 276 418 609 439 722 212 177 237 692 346 562 741 252 621\n",
      " 351  57 267 205 235 724 552 121 400 332  81 436 729  23 101 385  64 323\n",
      " 316  30 470 503 491 497 272 296   0 271 498 459 106  26 355 657 675 532\n",
      " 372 705 723 239 151 293 135 640 539 320 294 340 217 198 112 597 391 510\n",
      " 664 464 231  39 534 475 456 242 262]\n"
     ]
    },
    {
     "data": {
      "text/plain": [
       "(267, 3)"
      ]
     },
     "execution_count": 19,
     "metadata": {},
     "output_type": "execute_result"
    }
   ],
   "source": [
    "# dropiing few negative outcomes to maintain balance\n",
    "remove_n = 495\n",
    "drop_indices = np.random.choice(df[(df.Outcome == 0)].index, remove_n, replace=False)\n",
    "print(drop_indices)\n",
    "df2 = df.drop(drop_indices)\n",
    "df2.reset_index(inplace=True)\n",
    "df2.shape"
   ]
  },
  {
   "cell_type": "code",
   "execution_count": 7,
   "id": "9c2367f4",
   "metadata": {},
   "outputs": [
    {
     "data": {
      "text/html": [
       "<div>\n",
       "<style scoped>\n",
       "    .dataframe tbody tr th:only-of-type {\n",
       "        vertical-align: middle;\n",
       "    }\n",
       "\n",
       "    .dataframe tbody tr th {\n",
       "        vertical-align: top;\n",
       "    }\n",
       "\n",
       "    .dataframe thead th {\n",
       "        text-align: right;\n",
       "    }\n",
       "</style>\n",
       "<table border=\"1\" class=\"dataframe\">\n",
       "  <thead>\n",
       "    <tr style=\"text-align: right;\">\n",
       "      <th></th>\n",
       "      <th>Unnamed: 0</th>\n",
       "      <th>Outcome</th>\n",
       "      <th>mr_report</th>\n",
       "      <th>text_clean</th>\n",
       "    </tr>\n",
       "  </thead>\n",
       "  <tbody>\n",
       "    <tr>\n",
       "      <th>0</th>\n",
       "      <td>0</td>\n",
       "      <td>0</td>\n",
       "      <td>Reason for Exam: CHRONIC, RECURRENT SEVERE LOWER BACKCAHE, STIFFNESS  Â   NEVE ROOT IMPINGMENT? ...</td>\n",
       "      <td>[reason, for, exam, chronic, recurrent, severe, lower, backcahe, stiffness, neve, root, impingme...</td>\n",
       "    </tr>\n",
       "    <tr>\n",
       "      <th>1</th>\n",
       "      <td>1</td>\n",
       "      <td>1</td>\n",
       "      <td>TECHNIQUE: Sagittal T1 and T2 images of the lumbosacral spine were obtained with axial T1 and T2...</td>\n",
       "      <td>[technique, sagittal, and, images, of, the, lumbosacral, spine, were, obtained, with, axial, and...</td>\n",
       "    </tr>\n",
       "    <tr>\n",
       "      <th>2</th>\n",
       "      <td>2</td>\n",
       "      <td>0</td>\n",
       "      <td>TECHNIQUE:Â    NoncontrastÂ MRIÂ ofÂ theÂ lumbarÂ spineÂ protocol,Â withÂ sagittalÂ T1Â andÂ T2Â...</td>\n",
       "      <td>[technique, noncontrastâ, mriâ, ofâ, theâ, lumbarâ, spineâ, protocol, withâ, sagittalâ, andâ, se...</td>\n",
       "    </tr>\n",
       "    <tr>\n",
       "      <th>3</th>\n",
       "      <td>3</td>\n",
       "      <td>1</td>\n",
       "      <td>Narrative &amp; Impression MR LUMBAR SPINE Reason for Exam: PLEASSANT LADY WITH A PAST HX OF BREAST ...</td>\n",
       "      <td>[narrative, impression, mr, lumbar, spine, reason, for, exam, pleassant, lady, with, past, hx, o...</td>\n",
       "    </tr>\n",
       "    <tr>\n",
       "      <th>4</th>\n",
       "      <td>4</td>\n",
       "      <td>0</td>\n",
       "      <td>MRÂ THORACICÂ SPINEÂ Â Â Â Â      ReasonÂ forÂ Exam:Â RECURRENTÂ LOWERÂ THORACICÂ ANDÂ LUMBARÂ P...</td>\n",
       "      <td>[mrâ, thoracicâ, spineâ, reasonâ, forâ, exam, recurrentâ, lowerâ, thoracicâ, andâ, lumbarâ, pain...</td>\n",
       "    </tr>\n",
       "  </tbody>\n",
       "</table>\n",
       "</div>"
      ],
      "text/plain": [
       "   Unnamed: 0  Outcome  \\\n",
       "0           0        0   \n",
       "1           1        1   \n",
       "2           2        0   \n",
       "3           3        1   \n",
       "4           4        0   \n",
       "\n",
       "                                                                                             mr_report  \\\n",
       "0  Reason for Exam: CHRONIC, RECURRENT SEVERE LOWER BACKCAHE, STIFFNESS  Â   NEVE ROOT IMPINGMENT? ...   \n",
       "1  TECHNIQUE: Sagittal T1 and T2 images of the lumbosacral spine were obtained with axial T1 and T2...   \n",
       "2  TECHNIQUE:Â    NoncontrastÂ MRIÂ ofÂ theÂ lumbarÂ spineÂ protocol,Â withÂ sagittalÂ T1Â andÂ T2Â...   \n",
       "3  Narrative & Impression MR LUMBAR SPINE Reason for Exam: PLEASSANT LADY WITH A PAST HX OF BREAST ...   \n",
       "4  MRÂ THORACICÂ SPINEÂ Â Â Â Â      ReasonÂ forÂ Exam:Â RECURRENTÂ LOWERÂ THORACICÂ ANDÂ LUMBARÂ P...   \n",
       "\n",
       "                                                                                            text_clean  \n",
       "0  [reason, for, exam, chronic, recurrent, severe, lower, backcahe, stiffness, neve, root, impingme...  \n",
       "1  [technique, sagittal, and, images, of, the, lumbosacral, spine, were, obtained, with, axial, and...  \n",
       "2  [technique, noncontrastâ, mriâ, ofâ, theâ, lumbarâ, spineâ, protocol, withâ, sagittalâ, andâ, se...  \n",
       "3  [narrative, impression, mr, lumbar, spine, reason, for, exam, pleassant, lady, with, past, hx, o...  \n",
       "4  [mrâ, thoracicâ, spineâ, reasonâ, forâ, exam, recurrentâ, lowerâ, thoracicâ, andâ, lumbarâ, pain...  "
      ]
     },
     "execution_count": 7,
     "metadata": {},
     "output_type": "execute_result"
    }
   ],
   "source": [
    "# Cleaning data using the built in cleaner in gensim\n",
    "df2['text_clean'] = df2['mr_report'].apply(lambda x: gensim.utils.simple_preprocess(x))\n",
    "df2.head()"
   ]
  },
  {
   "cell_type": "markdown",
   "id": "942c1eeb",
   "metadata": {},
   "source": [
    "# Logistic Regression: Five-fold cross-validation"
   ]
  },
  {
   "cell_type": "code",
   "execution_count": 8,
   "id": "7c96faa2",
   "metadata": {},
   "outputs": [
    {
     "name": "stderr",
     "output_type": "stream",
     "text": [
      "C:\\Users\\zahin\\AppData\\Local\\Temp/ipykernel_5688/1237651010.py:22: VisibleDeprecationWarning: Creating an ndarray from ragged nested sequences (which is a list-or-tuple of lists-or-tuples-or ndarrays with different lengths or shapes) is deprecated. If you meant to do this, you must specify 'dtype=object' when creating the ndarray.\n",
      "  X_train_vect = np.array([np.array([w2v_model.wv[i] for i in ls if i in words]) for ls in X_train])\n",
      "C:\\Users\\zahin\\AppData\\Local\\Temp/ipykernel_5688/1237651010.py:23: VisibleDeprecationWarning: Creating an ndarray from ragged nested sequences (which is a list-or-tuple of lists-or-tuples-or ndarrays with different lengths or shapes) is deprecated. If you meant to do this, you must specify 'dtype=object' when creating the ndarray.\n",
      "  X_test_vect = np.array([np.array([w2v_model.wv[i] for i in ls if i in words]) for ls in X_test])\n"
     ]
    },
    {
     "name": "stdout",
     "output_type": "stream",
     "text": [
      "Fold 1\n",
      "Accuracy -> 0.7597\n",
      "F1-Score -> 0.7813\n",
      "Precision -> 0.8197\n",
      "Recall -> 0.7463\n",
      "Specificity -> 0.6937\n",
      "Sensitivity -> 0.8197\n"
     ]
    },
    {
     "name": "stderr",
     "output_type": "stream",
     "text": [
      "C:\\Users\\zahin\\AppData\\Local\\Temp/ipykernel_5688/1237651010.py:22: VisibleDeprecationWarning: Creating an ndarray from ragged nested sequences (which is a list-or-tuple of lists-or-tuples-or ndarrays with different lengths or shapes) is deprecated. If you meant to do this, you must specify 'dtype=object' when creating the ndarray.\n",
      "  X_train_vect = np.array([np.array([w2v_model.wv[i] for i in ls if i in words]) for ls in X_train])\n",
      "C:\\Users\\zahin\\AppData\\Local\\Temp/ipykernel_5688/1237651010.py:23: VisibleDeprecationWarning: Creating an ndarray from ragged nested sequences (which is a list-or-tuple of lists-or-tuples-or ndarrays with different lengths or shapes) is deprecated. If you meant to do this, you must specify 'dtype=object' when creating the ndarray.\n",
      "  X_test_vect = np.array([np.array([w2v_model.wv[i] for i in ls if i in words]) for ls in X_test])\n"
     ]
    },
    {
     "name": "stdout",
     "output_type": "stream",
     "text": [
      "Fold 2\n",
      "Accuracy -> 0.7425\n",
      "F1-Score -> 0.7638\n",
      "Precision -> 0.8739\n",
      "Recall -> 0.6783\n",
      "Specificity -> 0.6230\n",
      "Sensitivity -> 0.8739\n"
     ]
    },
    {
     "name": "stderr",
     "output_type": "stream",
     "text": [
      "C:\\Users\\zahin\\AppData\\Local\\Temp/ipykernel_5688/1237651010.py:22: VisibleDeprecationWarning: Creating an ndarray from ragged nested sequences (which is a list-or-tuple of lists-or-tuples-or ndarrays with different lengths or shapes) is deprecated. If you meant to do this, you must specify 'dtype=object' when creating the ndarray.\n",
      "  X_train_vect = np.array([np.array([w2v_model.wv[i] for i in ls if i in words]) for ls in X_train])\n",
      "C:\\Users\\zahin\\AppData\\Local\\Temp/ipykernel_5688/1237651010.py:23: VisibleDeprecationWarning: Creating an ndarray from ragged nested sequences (which is a list-or-tuple of lists-or-tuples-or ndarrays with different lengths or shapes) is deprecated. If you meant to do this, you must specify 'dtype=object' when creating the ndarray.\n",
      "  X_test_vect = np.array([np.array([w2v_model.wv[i] for i in ls if i in words]) for ls in X_test])\n"
     ]
    },
    {
     "name": "stdout",
     "output_type": "stream",
     "text": [
      "Fold 3\n",
      "Accuracy -> 0.7974\n",
      "F1-Score -> 0.8171\n",
      "Precision -> 0.8824\n",
      "Recall -> 0.7609\n",
      "Specificity -> 0.7080\n",
      "Sensitivity -> 0.8824\n"
     ]
    },
    {
     "name": "stderr",
     "output_type": "stream",
     "text": [
      "C:\\Users\\zahin\\AppData\\Local\\Temp/ipykernel_5688/1237651010.py:22: VisibleDeprecationWarning: Creating an ndarray from ragged nested sequences (which is a list-or-tuple of lists-or-tuples-or ndarrays with different lengths or shapes) is deprecated. If you meant to do this, you must specify 'dtype=object' when creating the ndarray.\n",
      "  X_train_vect = np.array([np.array([w2v_model.wv[i] for i in ls if i in words]) for ls in X_train])\n",
      "C:\\Users\\zahin\\AppData\\Local\\Temp/ipykernel_5688/1237651010.py:23: VisibleDeprecationWarning: Creating an ndarray from ragged nested sequences (which is a list-or-tuple of lists-or-tuples-or ndarrays with different lengths or shapes) is deprecated. If you meant to do this, you must specify 'dtype=object' when creating the ndarray.\n",
      "  X_test_vect = np.array([np.array([w2v_model.wv[i] for i in ls if i in words]) for ls in X_test])\n"
     ]
    },
    {
     "name": "stdout",
     "output_type": "stream",
     "text": [
      "Fold 4\n",
      "Accuracy -> 0.7543\n",
      "F1-Score -> 0.7654\n",
      "Precision -> 0.8857\n",
      "Recall -> 0.6739\n",
      "Specificity -> 0.6457\n",
      "Sensitivity -> 0.8857\n"
     ]
    },
    {
     "name": "stderr",
     "output_type": "stream",
     "text": [
      "C:\\Users\\zahin\\AppData\\Local\\Temp/ipykernel_5688/1237651010.py:22: VisibleDeprecationWarning: Creating an ndarray from ragged nested sequences (which is a list-or-tuple of lists-or-tuples-or ndarrays with different lengths or shapes) is deprecated. If you meant to do this, you must specify 'dtype=object' when creating the ndarray.\n",
      "  X_train_vect = np.array([np.array([w2v_model.wv[i] for i in ls if i in words]) for ls in X_train])\n"
     ]
    },
    {
     "name": "stdout",
     "output_type": "stream",
     "text": [
      "Fold 5\n",
      "Accuracy -> 0.6767\n",
      "F1-Score -> 0.6032\n",
      "Precision -> 0.7403\n",
      "Recall -> 0.5089\n",
      "Specificity -> 0.6452\n",
      "Sensitivity -> 0.7403\n"
     ]
    },
    {
     "name": "stderr",
     "output_type": "stream",
     "text": [
      "C:\\Users\\zahin\\AppData\\Local\\Temp/ipykernel_5688/1237651010.py:23: VisibleDeprecationWarning: Creating an ndarray from ragged nested sequences (which is a list-or-tuple of lists-or-tuples-or ndarrays with different lengths or shapes) is deprecated. If you meant to do this, you must specify 'dtype=object' when creating the ndarray.\n",
      "  X_test_vect = np.array([np.array([w2v_model.wv[i] for i in ls if i in words]) for ls in X_test])\n"
     ]
    }
   ],
   "source": [
    "k = 5\n",
    "fold = 0\n",
    "\n",
    "accuracy = 0\n",
    "f1 = 0\n",
    "precision = 0\n",
    "recall = 0\n",
    "\n",
    "folds = KFold(n_splits=k, random_state=None, shuffle=False)\n",
    "\n",
    "for train_index, test_index in folds.split(df2['mr_report'], df2['Outcome']):\n",
    "    fold += 1\n",
    "    X_train, Y_train = df2['mr_report'][train_index], df2['Outcome'][train_index]\n",
    "    X_test, Y_test = df2['mr_report'][test_index], df2['Outcome'][test_index]\n",
    "    \n",
    "    \n",
    "    # Training the word2vec model\n",
    "    w2v_model = gensim.models.Word2Vec(X_train, vector_size=100, window=5, min_count=2)\n",
    "    \n",
    "    # Generate aggregated sentence vectors based on the word vectors for each word in the sentence\n",
    "    words = set(w2v_model.wv.index_to_key )\n",
    "    X_train_vect = np.array([np.array([w2v_model.wv[i] for i in ls if i in words]) for ls in X_train])\n",
    "    X_test_vect = np.array([np.array([w2v_model.wv[i] for i in ls if i in words]) for ls in X_test])\n",
    "    \n",
    "    X_train_vect_avg = []\n",
    "    for v in X_train_vect:\n",
    "        if v.size:\n",
    "            X_train_vect_avg.append(v.mean(axis=0))\n",
    "        else:\n",
    "            X_train_vect_avg.append(np.zeros(100, dtype=float))\n",
    "        \n",
    "    X_test_vect_avg = []\n",
    "    for v in X_test_vect:\n",
    "        if v.size:\n",
    "            X_test_vect_avg.append(v.mean(axis=0))\n",
    "        else:\n",
    "            X_test_vect_avg.append(np.zeros(100, dtype=float))\n",
    "    \n",
    "    \n",
    "    # fit the training dataset on the LR\n",
    "    lr = LogisticRegression(max_iter = 10000, class_weight = 'balanced', random_state=0)\n",
    "    lr.fit(X_train_vect_avg, Y_train.values.ravel())\n",
    "\n",
    "    # predicting the labels on validation dataset\n",
    "    Y_pred = lr.predict(X_test_vect_avg)\n",
    "        \n",
    "    accuracy += accuracy_score(Y_pred, Y_test)/k\n",
    "    f1 += f1_score(Y_pred, Y_test)/k\n",
    "    precision += precision_score(Y_pred, Y_test)/k\n",
    "    recall += recall_score(Y_pred, Y_test)/k\n",
    "    \n",
    "    #Specificity and Sensitivity\n",
    "    tn, fp, fn, tp = confusion_matrix(Y_test, Y_pred).ravel()\n",
    "    specificity = tn / (tn+fp)\n",
    "    sensitivity = tp / (tp + fn)\n",
    "    \n",
    "    \n",
    "    print(f\"Fold {fold}\")\n",
    "    print(f\"Accuracy -> {accuracy_score(Y_pred, Y_test):0.4f}\")\n",
    "    print(f\"F1-Score -> {f1_score(Y_pred, Y_test):0.4f}\")\n",
    "    print(f\"Precision -> {precision_score(Y_pred, Y_test):0.4f}\")\n",
    "    print(f\"Recall -> {recall_score(Y_pred, Y_test):0.4f}\")\n",
    "    \n",
    "    print(f\"Specificity -> {specificity:0.4f}\")\n",
    "    print(f\"Sensitivity -> {sensitivity:0.4f}\")"
   ]
  },
  {
   "cell_type": "code",
   "execution_count": 9,
   "id": "b709fc4d",
   "metadata": {},
   "outputs": [
    {
     "name": "stdout",
     "output_type": "stream",
     "text": [
      "Accuracy -> 0.7461\n",
      "F1-Score -> 0.7462\n",
      "Precision -> 0.8404\n",
      "Recall -> 0.6737\n"
     ]
    }
   ],
   "source": [
    "print(f\"Accuracy -> {accuracy:0.4f}\")\n",
    "print(f\"F1-Score -> {f1:0.4f}\")\n",
    "print(f\"Precision -> {precision:0.4f}\")\n",
    "print(f\"Recall -> {recall:0.4f}\")"
   ]
  },
  {
   "cell_type": "markdown",
   "id": "cb4dcb76",
   "metadata": {},
   "source": [
    "# GNB: Five-fold cross-validation"
   ]
  },
  {
   "cell_type": "code",
   "execution_count": 10,
   "id": "61d2c0a0",
   "metadata": {},
   "outputs": [
    {
     "name": "stderr",
     "output_type": "stream",
     "text": [
      "C:\\Users\\zahin\\AppData\\Local\\Temp/ipykernel_5688/1570402453.py:22: VisibleDeprecationWarning: Creating an ndarray from ragged nested sequences (which is a list-or-tuple of lists-or-tuples-or ndarrays with different lengths or shapes) is deprecated. If you meant to do this, you must specify 'dtype=object' when creating the ndarray.\n",
      "  X_train_vect = np.array([np.array([w2v_model.wv[i] for i in ls if i in words]) for ls in X_train])\n",
      "C:\\Users\\zahin\\AppData\\Local\\Temp/ipykernel_5688/1570402453.py:23: VisibleDeprecationWarning: Creating an ndarray from ragged nested sequences (which is a list-or-tuple of lists-or-tuples-or ndarrays with different lengths or shapes) is deprecated. If you meant to do this, you must specify 'dtype=object' when creating the ndarray.\n",
      "  X_test_vect = np.array([np.array([w2v_model.wv[i] for i in ls if i in words]) for ls in X_test])\n"
     ]
    },
    {
     "name": "stdout",
     "output_type": "stream",
     "text": [
      "Fold 1\n",
      "Accuracy -> 0.6137\n",
      "F1-Score -> 0.7188\n",
      "Precision -> 0.9426\n",
      "Recall -> 0.5808\n",
      "Specificity -> 0.2523\n",
      "Sensitivity -> 0.9426\n"
     ]
    },
    {
     "name": "stderr",
     "output_type": "stream",
     "text": [
      "C:\\Users\\zahin\\AppData\\Local\\Temp/ipykernel_5688/1570402453.py:22: VisibleDeprecationWarning: Creating an ndarray from ragged nested sequences (which is a list-or-tuple of lists-or-tuples-or ndarrays with different lengths or shapes) is deprecated. If you meant to do this, you must specify 'dtype=object' when creating the ndarray.\n",
      "  X_train_vect = np.array([np.array([w2v_model.wv[i] for i in ls if i in words]) for ls in X_train])\n",
      "C:\\Users\\zahin\\AppData\\Local\\Temp/ipykernel_5688/1570402453.py:23: VisibleDeprecationWarning: Creating an ndarray from ragged nested sequences (which is a list-or-tuple of lists-or-tuples-or ndarrays with different lengths or shapes) is deprecated. If you meant to do this, you must specify 'dtype=object' when creating the ndarray.\n",
      "  X_test_vect = np.array([np.array([w2v_model.wv[i] for i in ls if i in words]) for ls in X_test])\n"
     ]
    },
    {
     "name": "stdout",
     "output_type": "stream",
     "text": [
      "Fold 2\n",
      "Accuracy -> 0.5451\n",
      "F1-Score -> 0.6513\n",
      "Precision -> 0.8919\n",
      "Recall -> 0.5130\n",
      "Specificity -> 0.2295\n",
      "Sensitivity -> 0.8919\n"
     ]
    },
    {
     "name": "stderr",
     "output_type": "stream",
     "text": [
      "C:\\Users\\zahin\\AppData\\Local\\Temp/ipykernel_5688/1570402453.py:22: VisibleDeprecationWarning: Creating an ndarray from ragged nested sequences (which is a list-or-tuple of lists-or-tuples-or ndarrays with different lengths or shapes) is deprecated. If you meant to do this, you must specify 'dtype=object' when creating the ndarray.\n",
      "  X_train_vect = np.array([np.array([w2v_model.wv[i] for i in ls if i in words]) for ls in X_train])\n",
      "C:\\Users\\zahin\\AppData\\Local\\Temp/ipykernel_5688/1570402453.py:23: VisibleDeprecationWarning: Creating an ndarray from ragged nested sequences (which is a list-or-tuple of lists-or-tuples-or ndarrays with different lengths or shapes) is deprecated. If you meant to do this, you must specify 'dtype=object' when creating the ndarray.\n",
      "  X_test_vect = np.array([np.array([w2v_model.wv[i] for i in ls if i in words]) for ls in X_test])\n"
     ]
    },
    {
     "name": "stdout",
     "output_type": "stream",
     "text": [
      "Fold 3\n",
      "Accuracy -> 0.6207\n",
      "F1-Score -> 0.7197\n",
      "Precision -> 0.9496\n",
      "Recall -> 0.5795\n",
      "Specificity -> 0.2743\n",
      "Sensitivity -> 0.9496\n"
     ]
    },
    {
     "name": "stderr",
     "output_type": "stream",
     "text": [
      "C:\\Users\\zahin\\AppData\\Local\\Temp/ipykernel_5688/1570402453.py:22: VisibleDeprecationWarning: Creating an ndarray from ragged nested sequences (which is a list-or-tuple of lists-or-tuples-or ndarrays with different lengths or shapes) is deprecated. If you meant to do this, you must specify 'dtype=object' when creating the ndarray.\n",
      "  X_train_vect = np.array([np.array([w2v_model.wv[i] for i in ls if i in words]) for ls in X_train])\n",
      "C:\\Users\\zahin\\AppData\\Local\\Temp/ipykernel_5688/1570402453.py:23: VisibleDeprecationWarning: Creating an ndarray from ragged nested sequences (which is a list-or-tuple of lists-or-tuples-or ndarrays with different lengths or shapes) is deprecated. If you meant to do this, you must specify 'dtype=object' when creating the ndarray.\n",
      "  X_test_vect = np.array([np.array([w2v_model.wv[i] for i in ls if i in words]) for ls in X_test])\n"
     ]
    },
    {
     "name": "stdout",
     "output_type": "stream",
     "text": [
      "Fold 4\n",
      "Accuracy -> 0.5000\n",
      "F1-Score -> 0.6234\n",
      "Precision -> 0.9143\n",
      "Recall -> 0.4729\n",
      "Specificity -> 0.1575\n",
      "Sensitivity -> 0.9143\n"
     ]
    },
    {
     "name": "stderr",
     "output_type": "stream",
     "text": [
      "C:\\Users\\zahin\\AppData\\Local\\Temp/ipykernel_5688/1570402453.py:22: VisibleDeprecationWarning: Creating an ndarray from ragged nested sequences (which is a list-or-tuple of lists-or-tuples-or ndarrays with different lengths or shapes) is deprecated. If you meant to do this, you must specify 'dtype=object' when creating the ndarray.\n",
      "  X_train_vect = np.array([np.array([w2v_model.wv[i] for i in ls if i in words]) for ls in X_train])\n"
     ]
    },
    {
     "name": "stdout",
     "output_type": "stream",
     "text": [
      "Fold 5\n",
      "Accuracy -> 0.4655\n",
      "F1-Score -> 0.5338\n",
      "Precision -> 0.9221\n",
      "Recall -> 0.3757\n",
      "Specificity -> 0.2387\n",
      "Sensitivity -> 0.9221\n"
     ]
    },
    {
     "name": "stderr",
     "output_type": "stream",
     "text": [
      "C:\\Users\\zahin\\AppData\\Local\\Temp/ipykernel_5688/1570402453.py:23: VisibleDeprecationWarning: Creating an ndarray from ragged nested sequences (which is a list-or-tuple of lists-or-tuples-or ndarrays with different lengths or shapes) is deprecated. If you meant to do this, you must specify 'dtype=object' when creating the ndarray.\n",
      "  X_test_vect = np.array([np.array([w2v_model.wv[i] for i in ls if i in words]) for ls in X_test])\n"
     ]
    }
   ],
   "source": [
    "k = 5\n",
    "fold = 0\n",
    "\n",
    "accuracy = 0\n",
    "f1 = 0\n",
    "precision = 0\n",
    "recall = 0\n",
    "\n",
    "folds = KFold(n_splits=k, random_state=None, shuffle=False)\n",
    "\n",
    "for train_index, test_index in folds.split(df2['mr_report'], df2['Outcome']):\n",
    "    fold += 1\n",
    "    X_train, Y_train = df2['mr_report'][train_index], df2['Outcome'][train_index]\n",
    "    X_test, Y_test = df2['mr_report'][test_index], df2['Outcome'][test_index]\n",
    "    \n",
    "    \n",
    "    # Training the word2vec model\n",
    "    w2v_model = gensim.models.Word2Vec(X_train, vector_size=100, window=5, min_count=2)\n",
    "    \n",
    "    # Generate aggregated sentence vectors based on the word vectors for each word in the sentence\n",
    "    words = set(w2v_model.wv.index_to_key )\n",
    "    X_train_vect = np.array([np.array([w2v_model.wv[i] for i in ls if i in words]) for ls in X_train])\n",
    "    X_test_vect = np.array([np.array([w2v_model.wv[i] for i in ls if i in words]) for ls in X_test])\n",
    "    \n",
    "    X_train_vect_avg = []\n",
    "    for v in X_train_vect:\n",
    "        if v.size:\n",
    "            X_train_vect_avg.append(v.mean(axis=0))\n",
    "        else:\n",
    "            X_train_vect_avg.append(np.zeros(100, dtype=float))\n",
    "        \n",
    "    X_test_vect_avg = []\n",
    "    for v in X_test_vect:\n",
    "        if v.size:\n",
    "            X_test_vect_avg.append(v.mean(axis=0))\n",
    "        else:\n",
    "            X_test_vect_avg.append(np.zeros(100, dtype=float))\n",
    "    \n",
    "    \n",
    "    # fit the training dataset on the LR\n",
    "    gnb = GaussianNB()\n",
    "    gnb.fit(X_train_vect_avg, Y_train.values.ravel())\n",
    "\n",
    "    # predicting the labels on validation dataset\n",
    "    Y_pred = gnb.predict(X_test_vect_avg)\n",
    "        \n",
    "    accuracy += accuracy_score(Y_pred, Y_test)/k\n",
    "    f1 += f1_score(Y_pred, Y_test)/k\n",
    "    precision += precision_score(Y_pred, Y_test)/k\n",
    "    recall += recall_score(Y_pred, Y_test)/k\n",
    "    \n",
    "    #Specificity and Sensitivity\n",
    "    tn, fp, fn, tp = confusion_matrix(Y_test, Y_pred).ravel()\n",
    "    specificity = tn / (tn+fp)\n",
    "    sensitivity = tp / (tp + fn)\n",
    "    \n",
    "    print(f\"Fold {fold}\")\n",
    "    print(f\"Accuracy -> {accuracy_score(Y_pred, Y_test):0.4f}\")\n",
    "    print(f\"F1-Score -> {f1_score(Y_pred, Y_test):0.4f}\")\n",
    "    print(f\"Precision -> {precision_score(Y_pred, Y_test):0.4f}\")\n",
    "    print(f\"Recall -> {recall_score(Y_pred, Y_test):0.4f}\")\n",
    "    print(f\"Specificity -> {specificity:0.4f}\")\n",
    "    print(f\"Sensitivity -> {sensitivity:0.4f}\")"
   ]
  },
  {
   "cell_type": "code",
   "execution_count": 11,
   "id": "35c3cb99",
   "metadata": {},
   "outputs": [
    {
     "name": "stdout",
     "output_type": "stream",
     "text": [
      "Accuracy -> 0.5490\n",
      "F1-Score -> 0.6494\n",
      "Precision -> 0.9241\n",
      "Recall -> 0.5044\n"
     ]
    }
   ],
   "source": [
    "print(f\"Accuracy -> {accuracy:0.4f}\")\n",
    "print(f\"F1-Score -> {f1:0.4f}\")\n",
    "print(f\"Precision -> {precision:0.4f}\")\n",
    "print(f\"Recall -> {recall:0.4f}\")"
   ]
  },
  {
   "cell_type": "markdown",
   "id": "c0ff6b30",
   "metadata": {},
   "source": [
    "# LR + SVM Ensemble: Five-fold cross-validation"
   ]
  },
  {
   "cell_type": "code",
   "execution_count": 12,
   "id": "5af9b743",
   "metadata": {},
   "outputs": [
    {
     "name": "stderr",
     "output_type": "stream",
     "text": [
      "C:\\Users\\zahin\\AppData\\Local\\Temp/ipykernel_5688/738583658.py:22: VisibleDeprecationWarning: Creating an ndarray from ragged nested sequences (which is a list-or-tuple of lists-or-tuples-or ndarrays with different lengths or shapes) is deprecated. If you meant to do this, you must specify 'dtype=object' when creating the ndarray.\n",
      "  X_train_vect = np.array([np.array([w2v_model.wv[i] for i in ls if i in words]) for ls in X_train])\n",
      "C:\\Users\\zahin\\AppData\\Local\\Temp/ipykernel_5688/738583658.py:23: VisibleDeprecationWarning: Creating an ndarray from ragged nested sequences (which is a list-or-tuple of lists-or-tuples-or ndarrays with different lengths or shapes) is deprecated. If you meant to do this, you must specify 'dtype=object' when creating the ndarray.\n",
      "  X_test_vect = np.array([np.array([w2v_model.wv[i] for i in ls if i in words]) for ls in X_test])\n"
     ]
    },
    {
     "name": "stdout",
     "output_type": "stream",
     "text": [
      "Fold 1\n",
      "Accuracy -> 0.7639\n",
      "F1-Score -> 0.7791\n",
      "Precision -> 0.7951\n",
      "Recall -> 0.7638\n",
      "Specificity -> 0.7297\n",
      "Sensitivity -> 0.7951\n"
     ]
    },
    {
     "name": "stderr",
     "output_type": "stream",
     "text": [
      "C:\\Users\\zahin\\AppData\\Local\\Temp/ipykernel_5688/738583658.py:22: VisibleDeprecationWarning: Creating an ndarray from ragged nested sequences (which is a list-or-tuple of lists-or-tuples-or ndarrays with different lengths or shapes) is deprecated. If you meant to do this, you must specify 'dtype=object' when creating the ndarray.\n",
      "  X_train_vect = np.array([np.array([w2v_model.wv[i] for i in ls if i in words]) for ls in X_train])\n",
      "C:\\Users\\zahin\\AppData\\Local\\Temp/ipykernel_5688/738583658.py:23: VisibleDeprecationWarning: Creating an ndarray from ragged nested sequences (which is a list-or-tuple of lists-or-tuples-or ndarrays with different lengths or shapes) is deprecated. If you meant to do this, you must specify 'dtype=object' when creating the ndarray.\n",
      "  X_test_vect = np.array([np.array([w2v_model.wv[i] for i in ls if i in words]) for ls in X_test])\n"
     ]
    },
    {
     "name": "stdout",
     "output_type": "stream",
     "text": [
      "Fold 2\n",
      "Accuracy -> 0.7682\n",
      "F1-Score -> 0.7712\n",
      "Precision -> 0.8198\n",
      "Recall -> 0.7280\n",
      "Specificity -> 0.7213\n",
      "Sensitivity -> 0.8198\n"
     ]
    },
    {
     "name": "stderr",
     "output_type": "stream",
     "text": [
      "C:\\Users\\zahin\\AppData\\Local\\Temp/ipykernel_5688/738583658.py:22: VisibleDeprecationWarning: Creating an ndarray from ragged nested sequences (which is a list-or-tuple of lists-or-tuples-or ndarrays with different lengths or shapes) is deprecated. If you meant to do this, you must specify 'dtype=object' when creating the ndarray.\n",
      "  X_train_vect = np.array([np.array([w2v_model.wv[i] for i in ls if i in words]) for ls in X_train])\n",
      "C:\\Users\\zahin\\AppData\\Local\\Temp/ipykernel_5688/738583658.py:23: VisibleDeprecationWarning: Creating an ndarray from ragged nested sequences (which is a list-or-tuple of lists-or-tuples-or ndarrays with different lengths or shapes) is deprecated. If you meant to do this, you must specify 'dtype=object' when creating the ndarray.\n",
      "  X_test_vect = np.array([np.array([w2v_model.wv[i] for i in ls if i in words]) for ls in X_test])\n"
     ]
    },
    {
     "name": "stdout",
     "output_type": "stream",
     "text": [
      "Fold 3\n",
      "Accuracy -> 0.8319\n",
      "F1-Score -> 0.8395\n",
      "Precision -> 0.8571\n",
      "Recall -> 0.8226\n",
      "Specificity -> 0.8053\n",
      "Sensitivity -> 0.8571\n"
     ]
    },
    {
     "name": "stderr",
     "output_type": "stream",
     "text": [
      "C:\\Users\\zahin\\AppData\\Local\\Temp/ipykernel_5688/738583658.py:22: VisibleDeprecationWarning: Creating an ndarray from ragged nested sequences (which is a list-or-tuple of lists-or-tuples-or ndarrays with different lengths or shapes) is deprecated. If you meant to do this, you must specify 'dtype=object' when creating the ndarray.\n",
      "  X_train_vect = np.array([np.array([w2v_model.wv[i] for i in ls if i in words]) for ls in X_train])\n",
      "C:\\Users\\zahin\\AppData\\Local\\Temp/ipykernel_5688/738583658.py:23: VisibleDeprecationWarning: Creating an ndarray from ragged nested sequences (which is a list-or-tuple of lists-or-tuples-or ndarrays with different lengths or shapes) is deprecated. If you meant to do this, you must specify 'dtype=object' when creating the ndarray.\n",
      "  X_test_vect = np.array([np.array([w2v_model.wv[i] for i in ls if i in words]) for ls in X_test])\n"
     ]
    },
    {
     "name": "stdout",
     "output_type": "stream",
     "text": [
      "Fold 4\n",
      "Accuracy -> 0.7759\n",
      "F1-Score -> 0.7719\n",
      "Precision -> 0.8381\n",
      "Recall -> 0.7154\n",
      "Specificity -> 0.7244\n",
      "Sensitivity -> 0.8381\n"
     ]
    },
    {
     "name": "stderr",
     "output_type": "stream",
     "text": [
      "C:\\Users\\zahin\\AppData\\Local\\Temp/ipykernel_5688/738583658.py:22: VisibleDeprecationWarning: Creating an ndarray from ragged nested sequences (which is a list-or-tuple of lists-or-tuples-or ndarrays with different lengths or shapes) is deprecated. If you meant to do this, you must specify 'dtype=object' when creating the ndarray.\n",
      "  X_train_vect = np.array([np.array([w2v_model.wv[i] for i in ls if i in words]) for ls in X_train])\n"
     ]
    },
    {
     "name": "stdout",
     "output_type": "stream",
     "text": [
      "Fold 5\n",
      "Accuracy -> 0.7026\n",
      "F1-Score -> 0.6057\n",
      "Precision -> 0.6883\n",
      "Recall -> 0.5408\n",
      "Specificity -> 0.7097\n",
      "Sensitivity -> 0.6883\n"
     ]
    },
    {
     "name": "stderr",
     "output_type": "stream",
     "text": [
      "C:\\Users\\zahin\\AppData\\Local\\Temp/ipykernel_5688/738583658.py:23: VisibleDeprecationWarning: Creating an ndarray from ragged nested sequences (which is a list-or-tuple of lists-or-tuples-or ndarrays with different lengths or shapes) is deprecated. If you meant to do this, you must specify 'dtype=object' when creating the ndarray.\n",
      "  X_test_vect = np.array([np.array([w2v_model.wv[i] for i in ls if i in words]) for ls in X_test])\n"
     ]
    }
   ],
   "source": [
    "k = 5\n",
    "fold = 0\n",
    "\n",
    "accuracy = 0\n",
    "f1 = 0\n",
    "precision = 0\n",
    "recall = 0\n",
    "\n",
    "folds = KFold(n_splits=k, random_state=None, shuffle=False)\n",
    "\n",
    "for train_index, test_index in folds.split(df2['mr_report'], df2['Outcome']):\n",
    "    fold += 1\n",
    "    X_train, Y_train = df2['mr_report'][train_index], df2['Outcome'][train_index]\n",
    "    X_test, Y_test = df2['mr_report'][test_index], df2['Outcome'][test_index]\n",
    "    \n",
    "    \n",
    "    # Training the word2vec model\n",
    "    w2v_model = gensim.models.Word2Vec(X_train, vector_size=100, window=5, min_count=2)\n",
    "    \n",
    "    # Generate aggregated sentence vectors based on the word vectors for each word in the sentence\n",
    "    words = set(w2v_model.wv.index_to_key )\n",
    "    X_train_vect = np.array([np.array([w2v_model.wv[i] for i in ls if i in words]) for ls in X_train])\n",
    "    X_test_vect = np.array([np.array([w2v_model.wv[i] for i in ls if i in words]) for ls in X_test])\n",
    "    \n",
    "    X_train_vect_avg = []\n",
    "    for v in X_train_vect:\n",
    "        if v.size:\n",
    "            X_train_vect_avg.append(v.mean(axis=0))\n",
    "        else:\n",
    "            X_train_vect_avg.append(np.zeros(100, dtype=float))\n",
    "        \n",
    "    X_test_vect_avg = []\n",
    "    for v in X_test_vect:\n",
    "        if v.size:\n",
    "            X_test_vect_avg.append(v.mean(axis=0))\n",
    "        else:\n",
    "            X_test_vect_avg.append(np.zeros(100, dtype=float))\n",
    "    \n",
    "    clf1 = LogisticRegression(multi_class='multinomial', class_weight = 'balanced', random_state=0)\n",
    "    clf2 = RandomForestClassifier(n_estimators=50, random_state=1)\n",
    "    clf3 = GaussianNB()\n",
    "    \n",
    "    # fit the training dataset on the LR\n",
    "    eclf1 = VotingClassifier(estimators=[('lr', clf1), ('gnb', clf3)], voting='hard')\n",
    "    eclf1.fit(X_train_vect_avg, Y_train.values.ravel())\n",
    "\n",
    "    # predicting the labels on validation dataset\n",
    "    Y_pred = eclf1.predict(X_test_vect_avg)\n",
    "        \n",
    "    accuracy += accuracy_score(Y_pred, Y_test)/k\n",
    "    f1 += f1_score(Y_pred, Y_test)/k\n",
    "    precision += precision_score(Y_pred, Y_test)/k\n",
    "    recall += recall_score(Y_pred, Y_test)/k\n",
    "    \n",
    "    #Specificity and Sensitivity\n",
    "    tn, fp, fn, tp = confusion_matrix(Y_test, Y_pred).ravel()\n",
    "    specificity = tn / (tn+fp)\n",
    "    sensitivity = tp / (tp + fn)\n",
    "    \n",
    "    print(f\"Fold {fold}\")\n",
    "    print(f\"Accuracy -> {accuracy_score(Y_pred, Y_test):0.4f}\")\n",
    "    print(f\"F1-Score -> {f1_score(Y_pred, Y_test):0.4f}\")\n",
    "    print(f\"Precision -> {precision_score(Y_pred, Y_test):0.4f}\")\n",
    "    print(f\"Recall -> {recall_score(Y_pred, Y_test):0.4f}\")\n",
    "    print(f\"Specificity -> {specificity:0.4f}\")\n",
    "    print(f\"Sensitivity -> {sensitivity:0.4f}\")"
   ]
  },
  {
   "cell_type": "code",
   "execution_count": 13,
   "id": "49b9c186",
   "metadata": {},
   "outputs": [
    {
     "name": "stdout",
     "output_type": "stream",
     "text": [
      "Accuracy -> 0.7685\n",
      "F1-Score -> 0.7535\n",
      "Precision -> 0.7997\n",
      "Recall -> 0.7141\n"
     ]
    }
   ],
   "source": [
    "print(f\"Accuracy -> {accuracy:0.4f}\")\n",
    "print(f\"F1-Score -> {f1:0.4f}\")\n",
    "print(f\"Precision -> {precision:0.4f}\")\n",
    "print(f\"Recall -> {recall:0.4f}\")"
   ]
  },
  {
   "cell_type": "code",
   "execution_count": null,
   "id": "df54a6fc",
   "metadata": {},
   "outputs": [],
   "source": []
  }
 ],
 "metadata": {
  "kernelspec": {
   "display_name": "Python 3 (ipykernel)",
   "language": "python",
   "name": "python3"
  },
  "language_info": {
   "codemirror_mode": {
    "name": "ipython",
    "version": 3
   },
   "file_extension": ".py",
   "mimetype": "text/x-python",
   "name": "python",
   "nbconvert_exporter": "python",
   "pygments_lexer": "ipython3",
   "version": "3.9.7"
  }
 },
 "nbformat": 4,
 "nbformat_minor": 5
}
