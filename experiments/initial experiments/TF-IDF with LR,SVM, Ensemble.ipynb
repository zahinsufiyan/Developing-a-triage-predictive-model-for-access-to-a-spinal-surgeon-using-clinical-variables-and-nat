{
 "cells": [
  {
   "cell_type": "code",
   "execution_count": 1,
   "id": "36bc0e47",
   "metadata": {},
   "outputs": [],
   "source": [
    "import pandas as pd\n",
    "import numpy as np\n",
    "from nltk.tokenize import word_tokenize\n",
    "from nltk import pos_tag\n",
    "from nltk.corpus import stopwords\n",
    "from nltk.stem import WordNetLemmatizer\n",
    "from sklearn.preprocessing import LabelEncoder\n",
    "from collections import defaultdict\n",
    "from nltk.corpus import wordnet as wn\n",
    "from sklearn.feature_extraction.text import TfidfVectorizer\n",
    "from sklearn import model_selection, naive_bayes, svm\n",
    "from sklearn.metrics import accuracy_score\n",
    "from sklearn.metrics import f1_score\n",
    "from sklearn.linear_model import LogisticRegressionCV\n",
    "from sklearn.linear_model import LogisticRegression\n",
    "from sklearn.ensemble import VotingClassifier"
   ]
  },
  {
   "cell_type": "code",
   "execution_count": 2,
   "id": "da47cc98",
   "metadata": {},
   "outputs": [
    {
     "name": "stderr",
     "output_type": "stream",
     "text": [
      "[nltk_data] Downloading package punkt to\n",
      "[nltk_data]     C:\\Users\\zahin\\AppData\\Roaming\\nltk_data...\n",
      "[nltk_data]   Package punkt is already up-to-date!\n"
     ]
    },
    {
     "data": {
      "text/plain": [
       "True"
      ]
     },
     "execution_count": 2,
     "metadata": {},
     "output_type": "execute_result"
    }
   ],
   "source": [
    "import nltk\n",
    "nltk.download('punkt')"
   ]
  },
  {
   "cell_type": "code",
   "execution_count": 3,
   "id": "d3b97d04",
   "metadata": {},
   "outputs": [
    {
     "name": "stderr",
     "output_type": "stream",
     "text": [
      "[nltk_data] Downloading package wordnet to\n",
      "[nltk_data]     C:\\Users\\zahin\\AppData\\Roaming\\nltk_data...\n",
      "[nltk_data]   Package wordnet is already up-to-date!\n"
     ]
    },
    {
     "data": {
      "text/plain": [
       "True"
      ]
     },
     "execution_count": 3,
     "metadata": {},
     "output_type": "execute_result"
    }
   ],
   "source": [
    "import nltk\n",
    "nltk.download('wordnet')"
   ]
  },
  {
   "cell_type": "code",
   "execution_count": 4,
   "id": "3511a750",
   "metadata": {},
   "outputs": [
    {
     "name": "stderr",
     "output_type": "stream",
     "text": [
      "[nltk_data] Downloading package averaged_perceptron_tagger to\n",
      "[nltk_data]     C:\\Users\\zahin\\AppData\\Roaming\\nltk_data...\n",
      "[nltk_data]   Package averaged_perceptron_tagger is already up-to-\n",
      "[nltk_data]       date!\n"
     ]
    },
    {
     "data": {
      "text/plain": [
       "True"
      ]
     },
     "execution_count": 4,
     "metadata": {},
     "output_type": "execute_result"
    }
   ],
   "source": [
    "import nltk\n",
    "nltk.download('averaged_perceptron_tagger')"
   ]
  },
  {
   "cell_type": "code",
   "execution_count": 5,
   "id": "9152a3da",
   "metadata": {},
   "outputs": [
    {
     "name": "stderr",
     "output_type": "stream",
     "text": [
      "[nltk_data] Downloading package stopwords to\n",
      "[nltk_data]     C:\\Users\\zahin\\AppData\\Roaming\\nltk_data...\n",
      "[nltk_data]   Package stopwords is already up-to-date!\n"
     ]
    },
    {
     "data": {
      "text/plain": [
       "True"
      ]
     },
     "execution_count": 5,
     "metadata": {},
     "output_type": "execute_result"
    }
   ],
   "source": [
    "import nltk\n",
    "nltk.download('stopwords')"
   ]
  },
  {
   "cell_type": "code",
   "execution_count": 6,
   "id": "6fbfd9c5",
   "metadata": {},
   "outputs": [],
   "source": [
    "np.random.seed(200)"
   ]
  },
  {
   "cell_type": "code",
   "execution_count": 7,
   "id": "fb510b9b",
   "metadata": {},
   "outputs": [],
   "source": [
    "df = pd.read_csv(r\"D:\\E\\Baikka\\Project\\KEC SAC radiology data for CS 8.3.2022.csv\",encoding='utf-8')\n",
    "df['mr_report'] = df['mr_report'].astype(str)"
   ]
  },
  {
   "cell_type": "code",
   "execution_count": 8,
   "id": "791a2a15",
   "metadata": {},
   "outputs": [
    {
     "data": {
      "text/html": [
       "<div>\n",
       "<style scoped>\n",
       "    .dataframe tbody tr th:only-of-type {\n",
       "        vertical-align: middle;\n",
       "    }\n",
       "\n",
       "    .dataframe tbody tr th {\n",
       "        vertical-align: top;\n",
       "    }\n",
       "\n",
       "    .dataframe thead th {\n",
       "        text-align: right;\n",
       "    }\n",
       "</style>\n",
       "<table border=\"1\" class=\"dataframe\">\n",
       "  <thead>\n",
       "    <tr style=\"text-align: right;\">\n",
       "      <th></th>\n",
       "      <th>Outcome</th>\n",
       "      <th>mr_report</th>\n",
       "    </tr>\n",
       "  </thead>\n",
       "  <tbody>\n",
       "    <tr>\n",
       "      <th>0</th>\n",
       "      <td>0</td>\n",
       "      <td>Reason for Exam: CHRONIC LOWER BACK PAIN.  GET...</td>\n",
       "    </tr>\n",
       "    <tr>\n",
       "      <th>1</th>\n",
       "      <td>0</td>\n",
       "      <td>Reason for Exam: KNOWN MULTILEVEL DEGENERATIVE...</td>\n",
       "    </tr>\n",
       "    <tr>\n",
       "      <th>2</th>\n",
       "      <td>0</td>\n",
       "      <td>MR LUMBAR SPINE    Reason for Exam: PROGRESSIV...</td>\n",
       "    </tr>\n",
       "    <tr>\n",
       "      <th>3</th>\n",
       "      <td>0</td>\n",
       "      <td>MR CERVICAL SPINE    Reason for Exam: HAS HX O...</td>\n",
       "    </tr>\n",
       "    <tr>\n",
       "      <th>4</th>\n",
       "      <td>0</td>\n",
       "      <td>MRI lumbar spine     Comparison: No prior     ...</td>\n",
       "    </tr>\n",
       "  </tbody>\n",
       "</table>\n",
       "</div>"
      ],
      "text/plain": [
       "   Outcome                                          mr_report\n",
       "0        0  Reason for Exam: CHRONIC LOWER BACK PAIN.  GET...\n",
       "1        0  Reason for Exam: KNOWN MULTILEVEL DEGENERATIVE...\n",
       "2        0  MR LUMBAR SPINE    Reason for Exam: PROGRESSIV...\n",
       "3        0  MR CERVICAL SPINE    Reason for Exam: HAS HX O...\n",
       "4        0  MRI lumbar spine     Comparison: No prior     ..."
      ]
     },
     "execution_count": 8,
     "metadata": {},
     "output_type": "execute_result"
    }
   ],
   "source": [
    "df.head()"
   ]
  },
  {
   "cell_type": "code",
   "execution_count": 9,
   "id": "8625c397",
   "metadata": {},
   "outputs": [
    {
     "name": "stdout",
     "output_type": "stream",
     "text": [
      "[ 65 111 364   4 351  93 269 221  70  32  77 268  42 270 353 171 207 310\n",
      " 107 180  36  51 195 263 275 218 247 177 196 251 201 331 144 222 203 326\n",
      "  12 299 210 311 294  22 126 369 161 153 298   8 264 175 276  86 137 273\n",
      " 357  35 109 328 228  54 301 266 101 365  41 162 323 119 355 288 333 238\n",
      "  67 143 199  11 146   9 200  20  18 360 349 178 363 337 283 184   5  75\n",
      " 117 103  19 176  47 344  40 234 255 148 361 235 253 188 280 106  61  78\n",
      " 345  33 114 306 319  82 116 295  23  95 286 123 145 343 212 183 132 340\n",
      " 133 265  88  59  37 170 118  31 166 305]\n"
     ]
    },
    {
     "data": {
      "text/plain": [
       "(235, 3)"
      ]
     },
     "execution_count": 9,
     "metadata": {},
     "output_type": "execute_result"
    }
   ],
   "source": [
    "# dropiing few negative outcomes to maintain balance\n",
    "remove_n = 136\n",
    "drop_indices = np.random.choice(df[(df.Outcome == 0)].index, remove_n, replace=False)\n",
    "print(drop_indices)\n",
    "df2 = df.drop(drop_indices)\n",
    "df2.reset_index(inplace=True)\n",
    "df2.shape"
   ]
  },
  {
   "cell_type": "code",
   "execution_count": 10,
   "id": "f3cedf1b",
   "metadata": {},
   "outputs": [
    {
     "data": {
      "text/html": [
       "<div>\n",
       "<style scoped>\n",
       "    .dataframe tbody tr th:only-of-type {\n",
       "        vertical-align: middle;\n",
       "    }\n",
       "\n",
       "    .dataframe tbody tr th {\n",
       "        vertical-align: top;\n",
       "    }\n",
       "\n",
       "    .dataframe thead th {\n",
       "        text-align: right;\n",
       "    }\n",
       "</style>\n",
       "<table border=\"1\" class=\"dataframe\">\n",
       "  <thead>\n",
       "    <tr style=\"text-align: right;\">\n",
       "      <th></th>\n",
       "      <th>index</th>\n",
       "      <th>Outcome</th>\n",
       "      <th>mr_report</th>\n",
       "    </tr>\n",
       "  </thead>\n",
       "  <tbody>\n",
       "    <tr>\n",
       "      <th>0</th>\n",
       "      <td>0</td>\n",
       "      <td>0</td>\n",
       "      <td>Reason for Exam: CHRONIC LOWER BACK PAIN.  GET...</td>\n",
       "    </tr>\n",
       "    <tr>\n",
       "      <th>1</th>\n",
       "      <td>1</td>\n",
       "      <td>0</td>\n",
       "      <td>Reason for Exam: KNOWN MULTILEVEL DEGENERATIVE...</td>\n",
       "    </tr>\n",
       "    <tr>\n",
       "      <th>2</th>\n",
       "      <td>2</td>\n",
       "      <td>0</td>\n",
       "      <td>MR LUMBAR SPINE    Reason for Exam: PROGRESSIV...</td>\n",
       "    </tr>\n",
       "    <tr>\n",
       "      <th>3</th>\n",
       "      <td>3</td>\n",
       "      <td>0</td>\n",
       "      <td>MR CERVICAL SPINE    Reason for Exam: HAS HX O...</td>\n",
       "    </tr>\n",
       "    <tr>\n",
       "      <th>4</th>\n",
       "      <td>6</td>\n",
       "      <td>0</td>\n",
       "      <td>Reason for Exam: LOW BACK PAIN, PAIN AND NUMBN...</td>\n",
       "    </tr>\n",
       "    <tr>\n",
       "      <th>...</th>\n",
       "      <td>...</td>\n",
       "      <td>...</td>\n",
       "      <td>...</td>\n",
       "    </tr>\n",
       "    <tr>\n",
       "      <th>230</th>\n",
       "      <td>362</td>\n",
       "      <td>0</td>\n",
       "      <td>FINDINGS:  L1/2: Remote compression fracture o...</td>\n",
       "    </tr>\n",
       "    <tr>\n",
       "      <th>231</th>\n",
       "      <td>366</td>\n",
       "      <td>0</td>\n",
       "      <td>Reason for Exam: LONG STANDING H/O LOWER BACK ...</td>\n",
       "    </tr>\n",
       "    <tr>\n",
       "      <th>232</th>\n",
       "      <td>367</td>\n",
       "      <td>0</td>\n",
       "      <td>TECHNIQUE: Sagittal T2, sagittal T1, axial T2,...</td>\n",
       "    </tr>\n",
       "    <tr>\n",
       "      <th>233</th>\n",
       "      <td>368</td>\n",
       "      <td>0</td>\n",
       "      <td>HISTORY: FELL BACKWARDS IN AUG2019 AND PAIN AN...</td>\n",
       "    </tr>\n",
       "    <tr>\n",
       "      <th>234</th>\n",
       "      <td>370</td>\n",
       "      <td>0</td>\n",
       "      <td>Reason for Exam: CHRONIC BACK PAIN X 9 YEARS, ...</td>\n",
       "    </tr>\n",
       "  </tbody>\n",
       "</table>\n",
       "<p>235 rows × 3 columns</p>\n",
       "</div>"
      ],
      "text/plain": [
       "     index  Outcome                                          mr_report\n",
       "0        0        0  Reason for Exam: CHRONIC LOWER BACK PAIN.  GET...\n",
       "1        1        0  Reason for Exam: KNOWN MULTILEVEL DEGENERATIVE...\n",
       "2        2        0  MR LUMBAR SPINE    Reason for Exam: PROGRESSIV...\n",
       "3        3        0  MR CERVICAL SPINE    Reason for Exam: HAS HX O...\n",
       "4        6        0  Reason for Exam: LOW BACK PAIN, PAIN AND NUMBN...\n",
       "..     ...      ...                                                ...\n",
       "230    362        0  FINDINGS:  L1/2: Remote compression fracture o...\n",
       "231    366        0  Reason for Exam: LONG STANDING H/O LOWER BACK ...\n",
       "232    367        0  TECHNIQUE: Sagittal T2, sagittal T1, axial T2,...\n",
       "233    368        0  HISTORY: FELL BACKWARDS IN AUG2019 AND PAIN AN...\n",
       "234    370        0  Reason for Exam: CHRONIC BACK PAIN X 9 YEARS, ...\n",
       "\n",
       "[235 rows x 3 columns]"
      ]
     },
     "execution_count": 10,
     "metadata": {},
     "output_type": "execute_result"
    }
   ],
   "source": [
    "df2[:300]"
   ]
  },
  {
   "cell_type": "markdown",
   "id": "f14394dc",
   "metadata": {},
   "source": [
    "# Data pre-processing"
   ]
  },
  {
   "cell_type": "code",
   "execution_count": 11,
   "id": "37bfa276",
   "metadata": {},
   "outputs": [],
   "source": [
    "# Removing blank rows if any.\n",
    "df['mr_report'].dropna(inplace=True)"
   ]
  },
  {
   "cell_type": "code",
   "execution_count": 12,
   "id": "3b5e9075",
   "metadata": {},
   "outputs": [],
   "source": [
    "# Changing all the text to lower case.\n",
    "df2['mr_report'] = [entry.lower() for entry in df2['mr_report']]"
   ]
  },
  {
   "cell_type": "code",
   "execution_count": 13,
   "id": "4559e18b",
   "metadata": {},
   "outputs": [],
   "source": [
    "# Tokenization : Each entry in the mri_report will be broken into set of words\n",
    "df2['mr_report']= [word_tokenize(entry) for entry in df2['mr_report']]"
   ]
  },
  {
   "cell_type": "code",
   "execution_count": 14,
   "id": "fd221b97",
   "metadata": {},
   "outputs": [],
   "source": [
    "# Removing Stop words, Non-Numeric and perfom Word Stemming/Lemmenting\n",
    "\n",
    "# WordNetLemmatizer requires Pos tags to understand if the word is noun or verb or adjective etc. By default it is set to Noun\n",
    "tag_map = defaultdict(lambda : wn.NOUN)\n",
    "tag_map['J'] = wn.ADJ\n",
    "tag_map['V'] = wn.VERB\n",
    "tag_map['R'] = wn.ADV\n",
    "\n",
    "\n",
    "\n",
    "for index,entry in enumerate(df2['mr_report']):\n",
    "    # Declaring Empty List to store the words that follow the rules for this step\n",
    "    Final_words = []\n",
    "    # Initializing WordNetLemmatizer()\n",
    "    word_Lemmatized = WordNetLemmatizer()\n",
    "    # pos_tag function below will provide the 'tag' i.e if the word is Noun(N) or Verb(V) or something else.\n",
    "    for word, tag in pos_tag(entry):\n",
    "        # Below condition is to check for Stop words and consider only alphabets\n",
    "        if word not in stopwords.words('english') and word.isalpha():\n",
    "            word_Final = word_Lemmatized.lemmatize(word,tag_map[tag[0]])\n",
    "            Final_words.append(word_Final)\n",
    "    # The final processed set of words for each iteration will be stored in 'text_final'\n",
    "    df2.loc[index,'text_final'] = str(Final_words)"
   ]
  },
  {
   "cell_type": "code",
   "execution_count": 15,
   "id": "b3f1bb5b",
   "metadata": {},
   "outputs": [],
   "source": [
    "Train_X, Test_X, Train_Y, Test_Y = model_selection.train_test_split(df2['text_final'],df2['Outcome'],test_size=0.2)"
   ]
  },
  {
   "cell_type": "code",
   "execution_count": 16,
   "id": "1bba99df",
   "metadata": {},
   "outputs": [
    {
     "name": "stdout",
     "output_type": "stream",
     "text": [
      "227    ['technique', 'multiplanar', 'multisequence', ...\n",
      "56     ['mr', 'thoracic', 'spine', 'reason', 'exam', ...\n",
      "118    ['clinical', 'history', 'progressive', 'back',...\n",
      "98     ['mr', 'lumbar', 'spine', 'reason', 'exam', 'm...\n",
      "39     ['mr', 'cervical', 'spine', 'reason', 'exam', ...\n",
      "199    ['narrative', 'impression', 'mr', 'lumbar', 's...\n",
      "20     ['procedure', 'name', 'mr', 'brachial', 'plexu...\n",
      "154    ['mr', 'cervical', 'spine', 'reason', 'exam', ...\n",
      "129    ['narrative', 'impression', 'mr', 'lumbar', 's...\n",
      "122    ['narrative', 'impression', 'mr', 'lumbar', 's...\n",
      "Name: text_final, dtype: object\n"
     ]
    }
   ],
   "source": [
    "print(Train_X[:10])"
   ]
  },
  {
   "cell_type": "code",
   "execution_count": 17,
   "id": "398fc57e",
   "metadata": {},
   "outputs": [
    {
     "name": "stdout",
     "output_type": "stream",
     "text": [
      "227    0\n",
      "56     0\n",
      "118    0\n",
      "98     1\n",
      "39     1\n",
      "199    1\n",
      "20     0\n",
      "154    0\n",
      "129    0\n",
      "122    0\n",
      "Name: Outcome, dtype: int64\n"
     ]
    }
   ],
   "source": [
    "print(Train_Y[:10])"
   ]
  },
  {
   "cell_type": "code",
   "execution_count": 18,
   "id": "073e6e1b",
   "metadata": {},
   "outputs": [],
   "source": [
    "# Term Frequency: This summarizes how often a given word appears within a document\n",
    "# Inverse Document Frequency: This down scales words that appear a lot across documents.\n",
    "\n",
    "# fit the TG-IDF model on the whole mri_report. \n",
    "# This will help TF-IDF build a vocabulary of words which it has learned from the MRI data \n",
    "# and it will assign a unique integer number to each of these words.\n",
    "\n",
    "\n",
    "Tfidf_vect = TfidfVectorizer(max_features=5000)\n",
    "Tfidf_vect.fit(df2['text_final'])\n",
    "\n",
    "# Finally we will transform Train_X and Test_X to vectorized Train_X_Tfidf and Test_X_Tfidf\n",
    "# Each row will be a list of unique integer number and its associated importance calculated by TF-IDF.\n",
    "Train_X_Tfidf = Tfidf_vect.transform(Train_X)\n",
    "Test_X_Tfidf = Tfidf_vect.transform(Test_X)"
   ]
  },
  {
   "cell_type": "code",
   "execution_count": 19,
   "id": "170c7dcc",
   "metadata": {},
   "outputs": [
    {
     "name": "stdout",
     "output_type": "stream",
     "text": [
      "{'reason': 1451, 'exam': 611, 'chronic': 274, 'lower': 1005, 'back': 164, 'pain': 1257, 'get': 732, 'bad': 169, 'time': 1809, 'affect': 38, 'patient': 1288, 'life': 967, 'quality': 1420, 'show': 1625, 'spondylolisthesis': 1683, 'severe': 1612, 'degenerative': 440, 'change': 266, 'mri': 1113, 'lumbar': 1007, 'spine': 1673, 'technique': 1779, 'routine': 1545, 'finding': 670, 'defect': 430, 'par': 1261, 'interarticularis': 873, 'bilaterally': 188, 'grade': 740, 'spondylolytic': 1685, 'identify': 815, 'approximately': 108, 'mm': 1097, 'anterolisthesis': 83, 'demonstrate': 447, 'alignment': 51, 'posterior': 1344, 'margin': 1027, 'rest': 1512, 'vertebra': 1910, 'maintain': 1015, 'modic': 1101, 'endplate': 582, 'present': 1365, 'level': 961, 'focal': 690, 'lesion': 956, 'hyperintensity': 801, 'arise': 116, 'within': 1946, 'vertebral': 1911, 'body': 195, 'likely': 977, 'represent': 1499, 'small': 1659, 'hemangioma': 767, 'osseous': 1236, 'destructive': 476, 'compression': 318, 'fracture': 705, 'spinal': 1672, 'cord': 377, 'terminate': 1786, 'disc': 510, 'interspace': 880, 'conus': 368, 'medullaris': 1058, 'cauda': 242, 'equina': 594, 'appear': 98, 'normal': 1187, 'minor': 1090, 'desiccation': 471, 'borderline': 198, 'bulge': 213, 'protrusion': 1405, 'facet': 644, 'joint': 918, 'hypertrophy': 805, 'nerve': 1154, 'root': 1539, 'impingement': 827, 'narrowing': 1143, 'intervertebral': 886, 'shallow': 1615, 'ligamentum': 974, 'flavum': 683, 'tapering': 1773, 'lateral': 943, 'recess': 1458, 'significant': 1631, 'central': 252, 'stenosis': 1703, 'neural': 1156, 'foraminal': 699, 'see': 1586, 'spondylitic': 1678, 'uncovering': 1872, 'aspect': 131, 'annular': 76, 'bulging': 214, 'bilateral': 187, 'pronounced': 1399, 'right': 1533, 'degree': 442, 'thickening': 1798, 'due': 543, 'irritation': 911, 'complex': 315, 'abut': 7, 'transiting': 1835, 'impression': 832, 'listhesis': 988, 'superior': 1743, 'great': 746, 'left': 951, 'early': 551, 'degeneration': 439, 'however': 793, 'mild': 1079, 'know': 930, 'multilevel': 1120, 'disease': 521, 'gradual': 742, 'worsen': 1954, 'low': 1004, 'lt': 1006, 'radiculopathy': 1433, 'previous': 1374, 'leukemia': 960, 'recurred': 1463, 'please': 1323, 'compare': 304, 'mr': 1112, 'perform': 1296, 'comparison': 305, 'multiple': 1122, 'study': 1720, 'include': 837, 'ct': 404, 'abdomen': 1, 'pelvis': 1293, 'july': 921, 'october': 1220, 'radiograph': 1435, 'bone': 196, 'scan': 1569, 'five': 674, 'type': 1860, 'confirm': 332, 'prior': 1377, 'dextroconvex': 489, 'curvature': 408, 'height': 764, 'minimal': 1087, 'retrolisthesis': 1519, 'cm': 290, 'similar': 1633, 'malalignment': 1019, 'throughout': 1807, 'thoracic': 1804, 'space': 1666, 'narrow': 1141, 'vacuum': 1896, 'phenomenon': 1308, 'pronounce': 1398, 'irregularity': 908, 'interspinous': 883, 'developmentally': 486, 'canal': 228, 'short': 1623, 'pedicle': 1291, 'normally': 1188, 'position': 1335, 'focally': 691, 'indent': 844, 'ventral': 1904, 'thecal': 1793, 'sac': 1550, 'partially': 1278, 'image': 820, 'renal': 1493, 'cortical': 384, 'cyst': 410, 'imaged': 821, 'si': 1626, 'osteophyte': 1240, 'flatten': 679, 'schmorl': 1573, 'node': 1175, 'inferior': 853, 'leave': 950, 'diffuse': 503, 'asymmetrically': 141, 'large': 939, 'together': 1819, 'result': 1514, 'moderate': 1099, 'superimposed': 1742, 'paracentral': 1262, 'slight': 1652, 'superimpose': 1741, 'advance': 34, 'effacement': 559, 'periradicular': 1303, 'csf': 403, 'crowding': 402, 'reduced': 1467, 'ap': 93, 'diameter': 496, 'measure': 1048, 'transit': 1834, 'interpose': 878, 'material': 1035, 'tiny': 1813, 'possible': 1340, 'exit': 617, 'well': 1939, 'progression': 1389, 'arthropathy': 122, 'salient': 1561, 'abnormality': 4, 'presence': 1364, 'multifactorial': 1118, 'also': 56, 'vary': 1901, 'several': 1611, 'outline': 1245, 'compromise': 320, 'along': 55, 'upon': 1885, 'progressively': 1391, 'rt': 1547, 'side': 1627, 'leg': 953, 'burn': 217, 'technical': 1778, 'sagittal': 1559, 'axial': 161, 'radiographs': 1438, 'december': 422, 'marrow': 1032, 'signal': 1629, 'aside': 129, 'discogenic': 515, 'visualized': 1920, 'portion': 1334, 'morphology': 1105, 'epidural': 592, 'lipomatosis': 985, 'prominent': 1397, 'fat': 650, 'note': 1192, 'extraspinal': 636, 'structure': 1719, 'unremarkable': 1883, 'neuroforaminal': 1160, 'loss': 1003, 'marginal': 1028, 'zone': 1966, 'eccentric': 552, 'involve': 902, 'extend': 625, 'far': 649, 'laterally': 944, 'tear': 1776, 'expected': 621, 'contact': 354, 'displacement': 524, 'transversing': 1840, 'careful': 233, 'correlation': 381, 'imaging': 822, 'need': 1150, 'procedural': 1381, 'intervention': 885, 'combine': 298, 'cervical': 263, 'hx': 795, 'mva': 1128, 'neck': 1149, 'numbness': 1202, 'weak': 1931, 'arm': 117, 'cause': 245, 'symptom': 1763, 'sag': 1558, 'ax': 160, 'clinical': 284, 'information': 859, 'available': 157, 'straightening': 1714, 'lordosis': 1000, 'atlantoaxial': 143, 'congruent': 335, 'aggressive': 42, 'apparent': 97, 'subtle': 1735, 'increase': 842, 'paraspinal': 1267, 'soft': 1661, 'tissue': 1815, 'visualize': 1919, 'fossa': 704, 'panus': 1259, 'formation': 702, 'herniation': 780, 'osteophytic': 1242, 'ridging': 1532, 'uncovertebral': 1873, 'extrusion': 641, 'moderately': 1100, 'subarachnoid': 1722, 'dorsal': 537, 'preserve': 1367, 'hypertrophic': 804, 'mildly': 1081, 'severely': 1613, 'upper': 1886, 'flattening': 680, 'definite': 434, 'foot': 695, 'stand': 1695, 'minute': 1094, 'rule': 1549, 'lumbosacral': 1009, 'pathology': 1287, 'september': 1598, 'insight': 865, 'hermitage': 777, 'protocol': 1402, 'plain': 1317, 'reversal': 1527, 'may': 1041, 'positional': 1336, 'otherwise': 1244, 'satisfactory': 1564, 'demonstrates': 449, 'circumferential': 276, 'could': 385, 'either': 565, 'recurrent': 1464, 'backcahe': 166, 'stiffness': 1708, 'neve': 1169, 'impingment': 829, 'november': 1196, 'limit': 980, 'terminates': 1787, 'posterolateral': 1347, 'fissure': 672, 'marked': 1030, 'progressed': 1388, 'procedure': 1382, 'name': 1138, 'contrast': 363, 'history': 788, 'disk': 522, 'attach': 150, 'repurted': 1500, 'apart': 94, 'technologist': 1780, 'entire': 588, 'region': 1478, 'obtain': 1213, 'sacrum': 1556, 'make': 1018, 'recent': 1456, 'date': 415, 'end': 580, 'distal': 527, 'foramen': 696, 'evident': 609, 'displace': 523, 'posteriorly': 1345, 'associate': 136, 'decreased': 426, 'apophyseal': 96, 'without': 1947, 'none': 1184, 'slightly': 1653, 'artifact': 126, 'relate': 1480, 'habitus': 754, 'transversely': 1839, 'orient': 1231, 'band': 171, 'hypointense': 807, 'across': 19, 'anterior': 79, 'weight': 1937, 'sequence': 1600, 'favor': 652, 'rather': 1446, 'true': 1852, 'keep': 925, 'component': 316, 'conspicuous': 348, 'raise': 1444, 'possibility': 1339, 'downward': 540, 'traversing': 1843, 'advanced': 35, 'exacerbate': 610, 'essentially': 600, 'complete': 313, 'surround': 1751, 'crescentic': 397, 'hyperintense': 799, 'describe': 467, 'give': 733, 'provided': 1407, 'weakness': 1933, 'surgery': 1749, 'opinion': 1228, 'warrant': 1929, 'sciatica': 1576, 'distribution': 532, 'grossly': 751, 'purpose': 1417, 'report': 1498, 'free': 711, 'label': 934, 'concern': 325, 'anteriorly': 80, 'exiting': 618, 'descend': 465, 'synovial': 1768, 'conjunction': 339, 'secondary': 1584, 'patent': 1284, 'abutment': 8, 'extraforaminal': 633, 'location': 995, 'asymmetric': 140, 'unenhanced': 1879, 'january': 917, 'caliber': 226, 'suspicious': 1757, 'nature': 1146, 'musculature': 1126, 'thin': 1801, 'osteoarthritis': 1239, 'reduce': 1466, 'hypotrophic': 812, 'widely': 1943, 'broad': 209, 'base': 175, 'neuroforamina': 1159, 'assessment': 134, 'summary': 1739, 'combination': 297, 'dextroscoliosis': 491, 'two': 1858, 'focus': 692, 'consistent': 347, 'hemangiomata': 768, 'suspect': 1754, 'laminotomy': 938, 'function': 718, 'bowel': 200, 'bladder': 192, 'control': 367, 'slip': 1654, 'query': 1421, 'scoliosis': 1579, 'convex': 370, 'generalized': 728, 'heterogeneity': 781, 'elsewhere': 572, 'tarlov': 1775, 'mass': 1033, 'effect': 561, 'encroachment': 579, 'sized': 1645, 'protrude': 1403, 'migrate': 1077, 'cephalad': 258, 'cortex': 383, 'sequestration': 1604, 'effusion': 562, 'transverse': 1838, 'spondylolysis': 1684, 'milder': 1080, 'detail': 477, 'respective': 1509, 'spondylotic': 1687, 'gross': 750, 'acute': 21, 'migraine': 1076, 'resoponding': 1507, 'muscle': 1125, 'relaxant': 1484, 'nsaid': 1197, 'ongoing': 1224, 'week': 1936, 'tingle': 1810, 'damage': 413, 'additional': 24, 'develop': 482, 'since': 1637, 'presumably': 1369, 'etiology': 603, 'craniocervical': 394, 'junction': 923, 'appropriately': 106, 'intensity': 871, 'efface': 558, 'compress': 317, 'spur': 1689, 'minimally': 1088, 'bony': 197, 'eccentrically': 553, 'development': 484, 'lesser': 959, 'neurosurgical': 1168, 'consultation': 353, 'helpful': 766, 'noncontrast': 1182, 'acquire': 16, 'stir': 1710, 'skull': 1648, 'bottom': 199, 'medic': 1052, 'reference': 1470, 'straighten': 1713, 'physiologic': 1312, 'extent': 630, 'contour': 361, 'convincing': 374, 'alteration': 58, 'fairly': 647, 'convince': 373, 'somewhat': 1664, 'intermediate': 875, 'predominant': 1357, 'proximal': 1408, 'maintained': 1016, 'leftward': 952, 'reasonably': 1453, 'symmetric': 1761, 'particularly': 1280, 'contouring': 362, 'area': 114, 'confidently': 329, 'felt': 657, 'artifactual': 127, 'extends': 627, 'contribute': 364, 'radical': 1430, 'pai': 1256, 'persistent': 1305, 'despite': 474, 'competitive': 309, 'management': 1021, 'request': 1501, 'neurosurgeon': 1166, 'film': 666, 'medullary': 1059, 'incidental': 836, 'tip': 1814, 'spondylosis': 1686, 'described': 468, 'year': 1959, 'complain': 310, 'hand': 757, 'unchanged': 1868, 'partial': 1277, 'fusion': 721, 'rudimentary': 1548, 'hypoplasia': 809, 'lamina': 936, 'rotoscoliosis': 1543, 'localizer': 993, 'overgrowth': 1250, 'progress': 1387, 'interval': 884, 'rotate': 1541, 'neuroforamen': 1158, 'remain': 1488, 'osteophytes': 1241, 'sign': 1628, 'mark': 1029, 'remainder': 1489, 'adequate': 26, 'size': 1644, 'intrinsic': 899, 'syrinx': 1769, 'edema': 556, 'demyelination': 452, 'reverse': 1528, 'congenital': 333, 'radicular': 1431, 'quadricep': 1419, 'atrophy': 148, 'persist': 1304, 'last': 940, 'one': 1223, 'designate': 472, 'levoconvex': 962, 'situate': 1642, 'triangular': 1848, 'configuration': 330, 'dimension': 505, 'bridge': 207, 'element': 570, 'kidney': 927, 'atrophic': 147, 'tr': 1830, 'cc': 248, 'multifactoral': 1117, 'appearance': 99, 'continous': 359, 'around': 119, 'xray': 1957, 'follow': 694, 'ahead': 44, 'clinic': 283, 'ass': 132, 'associated': 137, 'depression': 462, 'potentially': 1352, 'old': 1222, 'trauma': 1841, 'evidence': 608, 'suggest': 1736, 'abnormal': 3, 'assume': 139, 'generalize': 727, 'thicken': 1796, 'centrally': 254, 'pole': 1331, 'simple': 1635, 'paravertebral': 1269, 'retroperitoneum': 1522, 'discuss': 520, 'clumping': 289, 'major': 1017, 'intravertebral': 898, 'apex': 95, 'locate': 994, 'retroperitoneal': 1521, 'impress': 831, 'convincingly': 375, 'impinge': 826, 'today': 1816, 'brachial': 203, 'plexus': 1325, 'atroghy': 146, 'decrease': 425, 'grip': 748, 'data': 414, 'female': 658, 'multiplanar': 1121, 'multisequence': 1123, 'cerebellar': 260, 'tonsil': 1821, 'appropriate': 105, 'volume': 1922, 'probable': 1378, 'oa': 1206, 'predominantly': 1358, 'fluid': 689, 'collection': 294, 'paraspinous': 1268, 'enhancement': 584, 'lung': 1011, 'clear': 280, 'detect': 479, 'examination': 612, 'male': 1020, 'crohn': 399, 'intraforaminal': 891, 'trefoil': 1846, 'shaped': 1617, 'crowd': 401, 'factor': 646, 'detailed': 478, 'post': 1342, 'radiate': 1426, 'groin': 749, 'lift': 968, 'recetn': 1459, 'explain': 623, 'provide': 1406, 'mid': 1073, 'direct': 507, 'intra': 887, 'pt': 1414, 'complaining': 311, 'lbp': 947, 'issue': 915, 'lately': 942, 'motor': 1107, 'sxs': 1760, 'therefore': 1795, 'repeat': 1495, 'accession': 11, 'in': 835, 'osteophytosis': 1243, 'arthrosis': 123, 'overall': 1249, 'progressive': 1390, 'lumen': 1010, 'combined': 299, 'allow': 53, 'couple': 387, 'millimeter': 1084, 'spinereason': 1674, 'march': 1026, 'ligamentous': 973, 'deteriorate': 480, 'yesterday': 1962, 'institutional': 868, 'constitutionally': 351, 'noncompressive': 1181, 'touch': 1827, 'descending': 466, 'flaval': 682, 'buckling': 212, 'bulky': 216, 'conclusion': 326, 'grey': 747, 'nun': 1204, 'community': 302, 'hospital': 791, 'gnh': 737, 'radiology': 1441, 'towards': 1828, 'nkda': 1174, 'pmhx': 1329, 'stress': 1715, 'anxiety': 90, 'medication': 1054, 'parasagittal': 1266, 'narrative': 1140, 'misericordia': 1095, 'mch': 1043, 'op': 1226, 'admit': 31, 'shoulder': 1624, 'define': 433, 'extradural': 632, 'paracentrally': 1263, 'limbus': 979, 'developmental': 485, 'abuts': 9, 'prominence': 1396, 'suggestive': 1738, 'suspected': 1755, 'extensive': 629, 'generally': 729, 'lie': 966, 'discs': 518, 'posterocentral': 1346, 'fatty': 651, 'metaplasia': 1066, 'relatively': 1483, 'superadded': 1740, 'urgent': 1888, 'surgical': 1750, 'recommend': 1460, 'paresthesia': 1272, 'every': 607, 'morning': 1103, 'weaken': 1932, 'myelopathy': 1133, 'congenitally': 334, 'progessive': 1386, 'peripheral': 1301, 'neuropathy': 1165, 'harrington': 758, 'rod': 1536, 'shape': 1616, 'susceptibility': 1753, 'spleen': 1676, 'enlarge': 585, 'splenomegaly': 1677, 'worsening': 1955, 'injury': 862, 'assess': 133, 'overlie': 1251, 'laminectomy': 937, 'perineural': 1300, 'fibrosis': 663, 'predominately': 1359, 'delay': 445, 'ventrally': 1905, 'indentation': 845, 'numb': 1200, 'month': 1102, 'conservative': 341, 'tx': 1859, 'improvement': 834, 'breast': 206, 'cancer': 229, 'center': 249, 'background': 167, 'myelomalacia': 1130, 'clinically': 285, 'less': 958, 'calcification': 222, 'longitudinal': 998, 'ligament': 970, 'encroach': 578, 'foramina': 697, 'considerable': 343, 'whether': 1940, 'require': 1502, 'debilitating': 420, 'radiating': 1428, 'thigh': 1800, 'reduction': 1468, 'annulus': 77, 'vague': 1897, 'town': 1829, 'still': 1709, 'wait': 1923, 'chart': 269, 'transfer': 1833, 'wedge': 1934, 'comprssion': 321, 'red': 1465, 'limb': 978, 'fecal': 655, 'incontinence': 840, 'advise': 37, 'er': 596, 'say': 1567, 'slowly': 1657, 'involvment': 905, 'refer': 1469, 'urgently': 1889, 'orthopedic': 1235, 'surgeon': 1748, 'dictation': 499, 'noted': 1193, 'adjacent': 29, 'medial': 1050, 'stable': 1693, 'lumbarization': 1008, 'new': 1171, 'lat': 941, 'heterogenous': 783, 'replacement': 1497, 'resultant': 1515, 'clearly': 281, 'narrowed': 1142, 'drop': 542, 'dorsiflexion': 538, 'radius': 1442, 'traverse': 1842, 'find': 669, 'osteoarthritic': 1238, 'constant': 349, 'tingling': 1811, 'try': 1853, 'gabapentin': 722, 'appt': 110, 'addendum': 22, 'final': 668, 'paragraph': 1264, 'subcutaneous': 1726, 'sebaceous': 1583, 'electronically': 569, 'verify': 1908, 'nivmand': 1173, 'khorramiarani': 926, 'pm': 1328, 'original': 1232, 'high': 784, 'february': 654, 'centered': 251, 'midline': 1074, 'fetal': 660, 'lobulations': 991, 'account': 14, 'lobulated': 990, 'ultrasound': 1864, 'deltoid': 446, 'flexor': 686, 'axillary': 162, 'dysfunction': 548, 'await': 159, 'conductive': 328, 'emf': 574, 'ask': 130, 'incomplete': 838, 'segmentation': 1589, 'long': 996, 'relief': 1487, 'neurosurgery': 1167, 'per': 1294, 'hemicord': 771, 'tonsillar': 1822, 'considerably': 344, 'significantly': 1632, 'levorotoscoliosis': 963, 'patchy': 1283, 'tearing': 1777, 'altered': 59, 'rotation': 1542, 'walking': 1926, 'mic': 1069, 'observe': 1212, 'ii': 816, 'substantial': 1734, 'though': 1806, 'distortion': 530, 'ligamenta': 971, 'flava': 681, 'obliteration': 1209, 'fiber': 661, 'point': 1330, 'individual': 851, 'discernible': 512, 'subarticular': 1723, 'numerous': 1203, 'site': 1641, 'many': 1025, 'yrs': 1965, 'cramp': 390, 'calf': 225, 'forward': 703, 'flexion': 685, 'form': 701, 'pair': 1258, 'primarily': 1376, 'expect': 620, 'responsible': 1511, 'exuberant': 642, 'disproportionately': 526, 'radiculpat': 1434, 'trace': 1831, 'exhibits': 616, 'inferiorly': 854, 'possibly': 1341, 'problematic': 1380, 'evaluation': 605, 'intermittent': 876, 'radiation': 1429, 'intact': 869, 'come': 300, 'close': 287, 'approximation': 109, 'buttock': 219, 'onset': 1225, 'perianal': 1298, 'thank': 1791, 'metal': 1065, 'obscure': 1211, 'view': 1916, 'depict': 460, 'postoperative': 1350, 'capacious': 231, 'extruded': 639, 'fragment': 706, 'presume': 1370, 'sacroiliac': 1554, 'extrude': 638, 'distally': 528, 'exhibit': 615, 'indicate': 847, 'contain': 356, 'broadbased': 210, 'wedging': 1935, 'oblique': 1208, 'line': 983, 'flow': 688, 'dense': 457, 'sclerosis': 1577, 'latter': 945, 'spurring': 1690, 'least': 949, 'april': 111, 'edematous': 557, 'behind': 179, 'segment': 1588, 'prolapse': 1393, 'except': 613, 'sclerotic': 1578, 'pre': 1354, 'preserved': 1368, 'intend': 870, 'previously': 1375, 'resolve': 1506, 'iv': 916, 'indication': 849, 'gadolinium': 723, 'linear': 984, 'hypointensity': 808, 'dural': 545, 'sleeve': 1650, 'consider': 342, 'extrudsion': 640, 'standard': 1696, 'review': 1529, 'prevertebral': 1373, 'spasm': 1668, 'skeleton': 1647, 'subsequent': 1731, 'limited': 982, 'visualization': 1918, 'anatomy': 68, 'cranial': 391, 'anteroposterior': 86, 'questionable': 1423, 'sleeves': 1651, 'surface': 1747, 'myelopathic': 1132, 'especially': 599, 'june': 924, 'although': 60, 'degrade': 441, 'motion': 1106, 'midthoracic': 1075, 'mention': 1063, 'recall': 1455, 'check': 270, 'cover': 389, 'thoracolumbar': 1805, 'administration': 30, 'intradural': 890, 'extra': 631, 'tube': 1854, 'rim': 1535, 'solid': 1663, 'enhance': 583, 'inferomedially': 855, 'differential': 500, 'diagnosis': 494, 'cystic': 411, 'meningioma': 1062, 'schwannoma': 1574, 'displaces': 525, 'medially': 1051, 'myxopapillary': 1135, 'ependymoma': 590, 'seem': 1587, 'tumor': 1855, 'worse': 1953, 'document': 535, 'planning': 1319, 'buckle': 211, 'xrays': 1958, 'eagel': 549, 'syndrome': 1767, 'past': 1282, 'therapy': 1794, 'sciatic': 1575, 'improve': 833, 'steroid': 1707, 'injection': 860, 'narcotic': 1139, 'relevant': 1486, 'radiographically': 1437, 'thickness': 1799, 'abdominal': 2, 'pelvic': 1292, 'content': 357, 'near': 1147, 'maximum': 1040, 'related': 1481, 'potential': 1351, 'lordotic': 1001, 'do': 533, 'mexico': 1068, 'select': 1590, 'chest': 271, 'proximally': 1409, 'return': 1524, 'extramedullary': 634, 'maximal': 1038, 'craniocaudal': 393, 'length': 955, 'superiorly': 1744, 'attempt': 151, 'markedly': 1031, 'nevertheless': 1170, 'overt': 1252, 'diffusion': 504, 'restriction': 1513, 'lesional': 957, 'parenchymal': 1271, 'tethering': 1790, 'rightward': 1534, 'count': 386, 'causing': 246, 'alter': 57, 'theca': 1792, 'facetal': 645, 'presumed': 1371, 'arachnoid': 112, 'similarly': 1634, 'infiltration': 856, 'underlying': 1876, 'adhesion': 28, 'feature': 653, 'nabor': 1136, 'iii': 817, 'meningeal': 1061, 'epidermoid': 591, 'referral': 1471, 'sandy': 1563, 'practice': 1353, 'manager': 1022, 'kindly': 928, 'convey': 372, 'clinician': 286, 'dr': 541, 'mcdonald': 1042, 'prolonged': 1395, 'trial': 1847, 'physiotherapy': 1313, 'benefit': 181, 'ddd': 418, 'ambiguous': 61, 'mobile': 1098, 'retroposition': 1523, 'unroofing': 1884, 'horizontal': 790, 'tenderness': 1783, 'sacroiliitis': 1555, 'correlate': 379, 'transitional': 1837, 'pseudoarthrosis': 1413, 'process': 1383, 'sacral': 1551, 'alar': 45, 'completely': 314, 'fuse': 720, 'rib': 1530, 'hypoplastic': 810, 'characteristic': 267, 'top': 1824, 'currently': 407, 'shoot': 1621, 'toe': 1817, 'interfere': 874, 'sleep': 1649, 'daily': 412, 'activity': 20, 'interspaces': 881, 'longer': 997, 'knee': 929, 'vertical': 1912, 'hydration': 796, 'interpretation': 879, 'unfolding': 1880, 'increased': 843, 'particular': 1279, 'filum': 667, 'amount': 64, 'project': 1392, 'anterolateral': 81, 'attendant': 152, 'ch': 265, 'lipping': 987, 'phn': 1309, 'br': 202, 'att': 149, 'imes': 823, 'convexity': 371, 'dehydrate': 443, 'proximity': 1410, 'variable': 1898, 'concavity': 323, 'scoliotic': 1580, 'curve': 409, 'yo': 1963, 'ankylose': 74, 'spondylitis': 1679, 'predictable': 1356, 'recur': 1462, 'episode': 593, 'gluteal': 736, 'ambulation': 63, 'neuropathic': 1164, 'fall': 648, 'poly': 1332, 'column': 296, 'assimilation': 135, 'acquisition': 18, 'sparing': 1667, 'exposed': 624, 'laxity': 946, 'mechanical': 1049, 'erosion': 597, 'percent': 1295, 'heterogeneous': 782, 'migration': 1078, 'enter': 587, 'compensatory': 308, 'widening': 1944, 'additionally': 25, 'severity': 1614, 'designation': 473, 'hematopoietic': 770, 'bag': 170, 'plane': 1318, 'plate': 1321, 'trivial': 1850, 'myelitis': 1129, 'compatible': 306, 'encephalomalacia': 577, 'categorization': 239, 'category': 241, 'correspond': 382, 'ankle': 73, 'myotomal': 1134, 'denervation': 453, 'emg': 575, 'paresthesiae': 1273, 'adverse': 36, 'brain': 204, 'postcontrast': 1343, 'intracranial': 889, 'hemorrhage': 774, 'infarction': 852, 'demyelinate': 450, 'visible': 1917, 'ventricular': 1907, 'system': 1770, 'termination': 1788, 'tonsils': 1823, 'approximate': 107, 'magnum': 1013, 'brainstem': 205, 'hemisphere': 773, 'scallop': 1568, 'pituitary': 1316, 'gland': 734, 'anatomic': 66, 'variance': 1899, 'inflammatory': 858, 'mucosal': 1114, 'maxillary': 1037, 'ethmoidal': 602, 'sinus': 1639, 'deviation': 488, 'nasal': 1144, 'septum': 1599, 'eft': 563, 'conduction': 327, 'ago': 43, 'netcare': 1155, 'walk': 1925, 'copy': 376, 'coronal': 378, 'slippage': 1655, 'levoscoliosis': 964, 'subluxation': 1730, 'electrodiagnostic': 568, 'candidate': 230, 'treatment': 1844, 'utilized': 1894, 'symptomatology': 1765, 'respectively': 1510, 'enough': 586, 'paul': 1290, 'healthcare': 763, 'centre': 255, 'accord': 13, 'intravenous': 897, 'oblong': 1210, 'bright': 208, 'round': 1544, 'nodule': 1176, 'contiguous': 358, 'remodeling': 1491, 'chronicity': 275, 'preferentially': 1360, 'jump': 922, 'truck': 1851, 'dominant': 536, 'reflex': 1473, 'indeterminate': 846, 'significance': 1630, 'biochemical': 189, 'psa': 1412, 'role': 1538, 'nuclear': 1198, 'medicine': 1055, 'take': 1771, 'august': 156, 'localized': 992, 'hys': 814, 'light': 975, 'sharp': 1618, 'dull': 544, 'sensation': 1593, 'forefoot': 700, 'move': 1110, 'reflexes': 1474, 'absent': 6, 'slr': 1658, 'negative': 1153, 'hack': 755, 'noe': 1177, 'nyd': 1205, 'htn': 794, 'obesity': 1207, 'entrance': 589, 'part': 1276, 'positioning': 1337, 'homogeneous': 789, 'underdeveloped': 1874, 'appreciate': 102, 'straddle': 1712, 'regional': 1479, 'atlantooccipital': 145, 'sit': 1640, 'prostate': 1401, 'ca': 220, 'neg': 1152, 'abd': 0, 'chnage': 272, 'correlating': 380, 'milk': 1083, 'calcium': 224, 'void': 1921, 'contributes': 365, 'standing': 1697, 'radiographic': 1436, 'six': 1643, 'nonribbearing': 1185, 'incompletely': 839, 'evaluate': 604, 'impinges': 828, 'intrathecal': 896, 'radiates': 1427, 'go': 738, 'align': 50, 'undersurface': 1877, 'fissuring': 673, 'addition': 23, 'oct': 1219, 'punctate': 1416, 'caudal': 243, 'consequence': 340, 'rdrhc': 1447, 'maximally': 1039, 'uncomfortable': 1869, 'scanner': 1570, 'tolerate': 1820, 'rebooked': 1454, 'bilat': 186, 'cad': 221, 'basis': 176, 'respect': 1508, 'seven': 1610, 'artery': 120, 'carotid': 234, 'ow': 1253, 'rad': 1425, 'treceps': 1845, 'investigation': 901, 'anterolaterally': 82, 'posterolaterally': 1348, 'striking': 1717, 'predental': 1355, 'minuscule': 1093, 'immediately': 824, 'would': 1956, 'prudent': 1411, 'distribute': 531, 'ilium': 819, 'avidly': 158, 'infiltrative': 857, 'contacting': 355, 'multifocal': 1119, 'discrete': 517, 'geographic': 731, 'hematology': 769, 'island': 914, 'iliac': 818, 'parapelvic': 1265, 'notably': 1191, 'rotary': 1540, 'preservation': 1366, 'unimpeded': 1882, 'ligamental': 972, 'setting': 1609, 'oval': 1248, 'benign': 182, 'limitation': 981, 'nondedicated': 1183, 'fully': 717, 'irritate': 909, 'difficulty': 502, 'scout': 1581, 'density': 458, 'multi': 1116, 'fibroid': 662, 'uterus': 1893, 'colic': 292, 'lady': 935, 'hypermobile': 802, 'ed': 555, 'aortic': 92, 'aneurysm': 71, 'century': 257, 'park': 1275, 'hip': 787, 'herniated': 779, 'dedicated': 428, 'hyperintensities': 800, 'underlie': 1875, 'hajar': 756, 'frank': 708, 'spondyloarthropathy': 1680, 'syndesmosis': 1766, 'barely': 172, 'erosive': 598, 'age': 40, 'seminal': 1591, 'vesicle': 1913, 'radiologist': 1440, 'tingly': 1812, 'surviver': 1752, 'reveal': 1525, 'inter': 872, 'suspicion': 1756, 'neurological': 1163, 'cranioforaminal': 395, 'vascular': 1902, 'preoperative': 1363, 'fixation': 675, 'screw': 1582, 'fibrotic': 664, 'claudication': 279, 'flag': 676, 'sx': 1759, 'decompression': 424, 'contributing': 366, 'subsequently': 1732, 'reformatted': 1476, 'atheromatous': 142, 'mineralization': 1086, 'aorta': 91, 'yr': 1964, 'massage': 1034, 'continue': 360, 'carpenter': 235, 'compressive': 319, 'arthritis': 121, 'inversion': 900, 'recovery': 1461, 'saturate': 1565, 'discectomy': 511, 'hemilaminectomies': 772, 'description': 469, 'like': 976, 'occur': 1218, 'residual': 1504, 'appreciable': 101, 'scar': 1571, 'denkema': 455, 'gradient': 741, 'internalize': 877, 'dehydration': 444, 'plus': 1327, 'minus': 1092, 'paresthsia': 1274, 'carry': 236, 'lbs': 948, 'stool': 1711, 'extending': 626, 'swell': 1758, 'deformity': 437, 'positive': 1338, 'obvious': 1214, 'cervicomedullary': 264, 'good': 739, 'noncomplex': 1180, 'appearing': 100, 'encapsulate': 576, 'nonaggressive': 1179, 'lipomatous': 986, 'pattern': 1289, 'care': 232, 'dx': 547, 'utilizing': 1895, 'definitive': 435, 'face': 643, 'bulk': 215, 'exclude': 614, 'degenerate': 438, 'irregular': 907, 'hilum': 786, 'hilar': 785, 'elective': 566, 'regard': 1477, 'notable': 1190, 'characterize': 268, 'start': 1698, 'neurologic': 1162, 'difficult': 501, 'current': 406, 'subligamentous': 1729, 'width': 1945, 'unaffected': 1866, 'dermatome': 464, 'articulation': 125, 'thinned': 1802, 'adequately': 27, 'diminish': 506, 'deposit': 461, 'state': 1699, 'perhaps': 1297, 'shift': 1620, 'really': 1450, 'prev': 1372, 'conjoined': 337, 'conjoin': 336, 'legs': 954, 'flex': 684, 'work': 1951, 'flooring': 687, 'installer': 867, 'replace': 1496, 'clump': 288, 'become': 177, 'definitively': 436, 'reflect': 1472, 'consist': 346, 'anterosuperior': 88, 'posteromedial': 1349, 'foraminae': 698, 'outside': 1247, 'worker': 1952, 'compensation': 307, 'board': 194, 'professional': 1385, 'whole': 1942, 'question': 1422, 'official': 1221, 'diagnostic': 495, 'use': 1891, 'help': 765, 'wcb': 1930, 'caseworker': 238, 'decide': 423, 'concave': 322, 'day': 417, 'uncover': 1870, 'thumb': 1808, 'physio': 1311, 'mountain': 1109, 'bike': 185, 'kyphosis': 932, 'specifically': 1670, 'substance': 1733, 'medium': 1057, 'impact': 825, 'frfse': 712, 'fse': 715, 'cube': 405, 'occult': 1217, 'approach': 103, 'approaching': 104, 'dibilitating': 497, 'hepatic': 776, 'steatosis': 1701, 'series': 1605, 'venous': 1903, 'directly': 509, 'separate': 1597, 'fell': 656, 'injure': 861, 'ambulance': 62, 'toradol': 1825, 'lifting': 969, 'lymphadenopathy': 1012, 'parenchyma': 1270, 'resolution': 1505, 'collectively': 295, 'anterolithesis': 84, 'propose': 1400, 'defer': 431, 'needs': 1151, 'woman': 1950, 'gait': 724, 'subjective': 1728, 'urgency': 1887, 'micturition': 1072, 'spasticity': 1669, 'pathological': 1285, 'babinskin': 163, 'meadowlark': 1046, 'efw': 564, 'gulf': 753, 'square': 1691, 'classic': 278, 'neurogenic': 1161, 'hernia': 778, 'anatomically': 67, 'orthopaedic': 1234, 'pertinent': 1306, 'case': 237, 'create': 396, 'software': 1662, 'belong': 180, 'incorporate': 841, 'glitch': 735, 'konstantin': 931, 'papa': 1260, 'flair': 677, 'echo': 554, 'head': 759, 'cerebral': 262, 'ischemia': 912, 'frontotemporal': 714, 'lobe': 989, 'scattered': 1572, 'deep': 429, 'white': 1941, 'matter': 1036, 'hyper': 798, 'millimetric': 1085, 'ubo': 1862, 'nonspecific': 1186, 'microangiopathy': 1071, 'expansile': 619, 'hydrocephalus': 797, 'cerebellopontine': 261, 'angle': 72, 'petrous': 1307, 'inner': 864, 'ear': 550, 'orbital': 1230, 'temporal': 1782, 'microangiopathic': 1070, 'terra': 1789, 'losa': 1002, 'myelomalacic': 1131, 'saddle': 1557, 'anesthesia': 70, 'multisequential': 1124, 'sacralized': 1553, 'sacralization': 1552, 'platform': 1322, 'relative': 1482, 'demonstrated': 448, 'aforementioned': 39, 'accounting': 15, 'extrarenal': 635, 'subendplate': 1727, 'nearly': 1148, 'meet': 1060, 'criterion': 398, 'section': 1585, 'reformats': 1475, 'algorithm': 49, 'atlantodens': 144, 'stripping': 1718, 'confines': 331, 'craniocaudad': 392, 'ascend': 128, 'passage': 1281, 'extension': 628, 'perilesional': 1299, 'experience': 622, 'extremity': 637, 'rah': 1443, 'allin': 52, 'occipital': 1216, 'finger': 671, 'stepwise': 1706, 'burning': 218, 'supratentorial': 1745, 'subcortical': 1725, 'centrum': 256, 'semiovale': 1592, 'frontal': 713, 'ventricle': 1906, 'basal': 174, 'cistern': 277, 'intraaxial': 888, 'orbit': 1229, 'nasopharynx': 1145, 'reactive': 1449, 'vessel': 1914, 'ischemic': 913, 'tofield': 1818, 'health': 762, 'skeletal': 1646, 'bmi': 193, 'distort': 529, 'radiculopathies': 1432, 'spondylolesthesis': 1682, 'status': 1700, 'plantar': 1320, 'urinary': 1890, 'intersperse': 882, 'protruded': 1404, 'guide': 752, 'accident': 12, 'stenotic': 1704, 'unable': 1865, 'categorize': 240, 'pregnancy': 1361, 'flat': 678, 'versus': 1909, 'sequential': 1601, 'departmental': 459, 'denote': 456, 'intranuclear': 893, 'course': 388, 'subchondral': 1724, 'ankylosis': 75, 'functional': 719, 'follicle': 693, 'adnexa': 32, 'sliver': 1656, 'endometrium': 581, 'intraosseous': 894, 'femoral': 659, 'biomechanics': 190, 'generator': 730, 'target': 1774, 'fill': 665, 'wk': 1948, 'produce': 1384, 'indicates': 848, 'backache': 165, 'spondyloisthesis': 1681, 'quite': 1424, 'minorly': 1091, 'besides': 184, 'minimum': 1089, 'suggestion': 1737, 'resulting': 1516, 'instability': 866, 'shooting': 1622, 'movement': 1111, 'antalgic': 78, 'occasional': 1215, 'gre': 745, 'intramedullary': 892, 'mucous': 1115, 'retention': 1518, 'sphenoid': 1671, 'must': 1127, 'conventional': 369, 'mainly': 1014, 'determine': 481, 'dedicate': 427, 'wks': 1949, 'discharge': 513, 'put': 1418, 'involved': 903, 'sympt': 1762, 'cephalocaudad': 259, 'opening': 1227, 'sure': 1746, 'nothing': 1194, 'miss': 1096, 'pathologu': 1286, 'aggravatomg': 41, 'ossification': 1237, 'duration': 546, 'climb': 282, 'stair': 1694, 'complains': 312, 'twice': 1857, 'denies': 454, 'dermatomal': 463, 'unfortunately': 1881, 'gastric': 725, 'wake': 1924, 'night': 1172, 'bp': 201, 'elevate': 571, 'metastatic': 1067, 'spread': 1688, 'lg': 965, 'mottle': 1108, 'hypoxic': 813, 'caudally': 244, 'remains': 1490, 'discopathy': 516, 'constellation': 350, 'inlet': 863, 'attenuation': 154, 'attenuate': 153, 'pad': 1255, 'mediolateral': 1056, 'effacing': 560, 'revealing': 1526, 'bertolotti': 183, 'pll': 1326, 'taper': 1772, 'vestigial': 1915, 'transition': 1836, 'importance': 830, 'probably': 1379, 'consult': 352, 'pin': 1315, 'sensitivity': 1594, 'morphologically': 1104, 'collapse': 293, 'direction': 508, 'subacute': 1721, 'richard': 1531, 'turner': 1856, 'frcpc': 710, 'mdt': 1045, 'royal': 1546, 'alexandra': 48, 'medical': 1053, 'indicative': 850, 'almost': 54, 'reasonable': 1452, 'sandeep': 1562, 'naik': 1137, 'coexistent': 291, 'gavin': 726, 'alastair': 46, 'armstrong': 118, 'md': 1044, 'doctor': 534, 'barker': 173, 'stephanie': 1705, 'stenosed': 1702, 'shem': 1619, 'dharampaul': 492, 'transcription': 1832, 'prolapsed': 1394, 'calcify': 223, 'dated': 416, 'association': 138, 'total': 1826, 'intrasubstance': 895, 'relay': 1485, 'communicator': 301, 'establish': 601, 'yellow': 1960, 'alert': 47, 'frame': 707, 'ramin': 1445, 'mandegaran': 1023, 'discitis': 514, 'saturation': 1566, 'granulation': 744, 'spinous': 1675, 'joseph': 919, 'sommerfeldt': 1665, 'pleassant': 1324, 'look': 999, 'retrolithesis': 1520, 'stability': 1692, 'radiography': 1439, 'unaltered': 1867, 'dec': 421, 'mean': 1047, 'sep': 1596, 'uah': 1861, 'anteromedially': 85, 'number': 1201, 'calibre': 227, 'nucleus': 1199, 'pulposus': 1415, 'demyelinating': 451, 'sinonasal': 1638, 'thickened': 1797, 'doubtful': 539, 'symptomatic': 1764, 'developed': 483, 'underwent': 1878, 'attributable': 155, 'deviate': 487, 'dictate': 498, 'resident': 1503, 'roger': 1537, 'croutze': 400, 'thomas': 1803, 'arthur': 124, 'yeo': 1961, 'abuzehar': 10, 'salahdine': 1560, 'ulnar': 1863, 'graft': 743, 'hypoesthesia': 806, 'areflexic': 115, 'hyporeflexia': 811, 'dessication': 475, 'variant': 1900, 'retain': 1517, 'preliminary': 1362, 'pickard': 1314, 'telephone': 1781, 'hour': 792, 'debilitate': 419, 'bed': 178, 'terminale': 1784, 'conjoint': 338, 'neuralgia': 1157, 'dextrocurvature': 490, 'involvement': 904, 'adnexal': 33, 'want': 1928, 'nov': 1195, 'full': 716, 'weighted': 1938, 'equivocal': 595, 'electively': 567, 'outpatient': 1246, 'recentlyhe': 1457, 'session': 1608, 'ir': 906, 'headache': 760, 'serious': 1606, 'smoker': 1660, 'anemia': 69, 'cbc': 247, 'remote': 1492, 'pack': 1254, 'physical': 1310, 'anteroright': 87, 'manifest': 1024, 'absence': 5, 'discusesed': 519, 'henven': 775, 'ortho': 1233, 'reaction': 1448, 'frankly': 709, 'sequester': 1602, 'even': 606, 'irritating': 910, 'sensory': 1595, 'amplitude': 65, 'compaction': 303, 'sequestered': 1603, 'emerge': 573, 'mesh': 1064, 'wall': 1927, 'repair': 1494, 'cholecystectomy': 273, 'periphery': 1302, 'uncovered': 1871, 'acquired': 17, 'non': 1178, 'normenclature': 1189, 'pons': 1333, 'simply': 1636, 'hypertension': 803, 'diabetes': 493, 'kyphotic': 933, 'strike': 1716, 'mildmoderate': 1082, 'concentric': 324, 'usual': 1892, 'service': 1607, 'consideration': 345, 'deficient': 432, 'terminalis': 1785, 'judge': 920, 'antrum': 89, 'bipartite': 191, 'arch': 113, 'backwards': 168, 'triceps': 1849, 'healing': 761, 'centeralize': 250, 'centralize': 253, 'desiccate': 470}\n"
     ]
    }
   ],
   "source": [
    "#  the vocabulary that it has learned from the mri_report\n",
    "print(Tfidf_vect.vocabulary_)"
   ]
  },
  {
   "cell_type": "code",
   "execution_count": 20,
   "id": "67420487",
   "metadata": {},
   "outputs": [
    {
     "name": "stdout",
     "output_type": "stream",
     "text": [
      "  (0, 1947)\t0.05457257036770288\n",
      "  (0, 1946)\t0.040718628905094055\n",
      "  (0, 1939)\t0.055804794303892374\n",
      "  (0, 1920)\t0.05302852729266345\n",
      "  (0, 1911)\t0.06023903014402536\n",
      "  (0, 1883)\t0.08891451443169272\n",
      "  (0, 1871)\t0.12914646746262604\n",
      "  (0, 1860)\t0.04687178499351783\n",
      "  (0, 1838)\t0.07652328184367437\n",
      "  (0, 1815)\t0.05802242373037838\n",
      "  (0, 1798)\t0.08405344569540316\n",
      "  (0, 1793)\t0.04093486003612818\n",
      "  (0, 1779)\t0.03011951507201268\n",
      "  (0, 1754)\t0.15523038684160306\n",
      "  (0, 1750)\t0.07353488293174823\n",
      "  (0, 1703)\t0.25936200212769256\n",
      "  (0, 1693)\t0.09312765262217139\n",
      "  (0, 1673)\t0.049139471757392895\n",
      "  (0, 1672)\t0.21272407695954249\n",
      "  (0, 1666)\t0.040292335102522524\n",
      "  (0, 1661)\t0.05946677956726508\n",
      "  (0, 1631)\t0.12543730316859192\n",
      "  (0, 1629)\t0.028441861164525382\n",
      "  (0, 1612)\t0.11034672036240811\n",
      "  (0, 1584)\t0.07008502956907274\n",
      "  :\t:\n",
      "  (187, 464)\t0.10667589763542691\n",
      "  (187, 440)\t0.06922377439721841\n",
      "  (187, 434)\t0.061567984998674025\n",
      "  (187, 409)\t0.10667589763542691\n",
      "  (187, 406)\t0.11473770279277655\n",
      "  (187, 379)\t0.09651922430933538\n",
      "  (187, 370)\t0.07604744767171635\n",
      "  (187, 368)\t0.02811387996384093\n",
      "  (187, 367)\t0.10667589763542691\n",
      "  (187, 305)\t0.03220316590530021\n",
      "  (187, 290)\t0.12048393974304215\n",
      "  (187, 266)\t0.048808035818716594\n",
      "  (187, 252)\t0.031738953582914\n",
      "  (187, 228)\t0.0258287437596694\n",
      "  (187, 225)\t0.10095595584761195\n",
      "  (187, 213)\t0.06139233552383911\n",
      "  (187, 195)\t0.027735147408604683\n",
      "  (187, 187)\t0.030841830376571643\n",
      "  (187, 164)\t0.08328467733752784\n",
      "  (187, 122)\t0.050343519109551205\n",
      "  (187, 108)\t0.05840532426690085\n",
      "  (187, 56)\t0.04646022292635648\n",
      "  (187, 55)\t0.18268177578496955\n",
      "  (187, 51)\t0.03417663814018382\n",
      "  (187, 4)\t0.20696118264338478\n"
     ]
    }
   ],
   "source": [
    "# Printing the vectorized data\n",
    "print(Train_X_Tfidf)"
   ]
  },
  {
   "cell_type": "markdown",
   "id": "d92bb320",
   "metadata": {},
   "source": [
    "# Using Support Vector Machine\n"
   ]
  },
  {
   "cell_type": "code",
   "execution_count": 22,
   "id": "657e1f2f",
   "metadata": {},
   "outputs": [
    {
     "name": "stdout",
     "output_type": "stream",
     "text": [
      "SVM Accuracy Score ->  78.72340425531915\n",
      "F1-Score ->  0.5833333333333334\n"
     ]
    }
   ],
   "source": [
    "# fit the training dataset on the SVM\n",
    "SVM = svm.SVC(C=9, kernel='linear', degree=3, gamma='auto')\n",
    "SVM.fit(Train_X_Tfidf,Train_Y)\n",
    "\n",
    "# predicting the labels on validation dataset\n",
    "predictions_SVM = SVM.predict(Test_X_Tfidf)\n",
    "\n",
    "# Use accuracy_score function to get the accuracy\n",
    "print(\"SVM Accuracy Score -> \",accuracy_score(predictions_SVM, Test_Y)*100)\n",
    "print(\"F1-Score -> \",f1_score(predictions_SVM, Test_Y))"
   ]
  },
  {
   "cell_type": "code",
   "execution_count": 23,
   "id": "f91dd7ef",
   "metadata": {},
   "outputs": [
    {
     "name": "stdout",
     "output_type": "stream",
     "text": [
      "SVM Accuracy Score and F1-Score when c= 1 -> 76.59574468085107 and 0.2666666666666667\n",
      "SVM Accuracy Score and F1-Score when c= 2 -> 78.72340425531915 and 0.4444444444444444\n",
      "SVM Accuracy Score and F1-Score when c= 3 -> 80.85106382978722 and 0.5263157894736842\n",
      "SVM Accuracy Score and F1-Score when c= 4 -> 85.1063829787234 and 0.631578947368421\n",
      "SVM Accuracy Score and F1-Score when c= 5 -> 82.97872340425532 and 0.6\n",
      "SVM Accuracy Score and F1-Score when c= 6 -> 78.72340425531915 and 0.5454545454545455\n",
      "SVM Accuracy Score and F1-Score when c= 7 -> 76.59574468085107 and 0.5217391304347826\n",
      "SVM Accuracy Score and F1-Score when c= 8 -> 78.72340425531915 and 0.5833333333333334\n",
      "SVM Accuracy Score and F1-Score when c= 9 -> 78.72340425531915 and 0.5833333333333334\n",
      "SVM Accuracy Score and F1-Score when c= 10 -> 78.72340425531915 and 0.5833333333333334\n"
     ]
    }
   ],
   "source": [
    "c_range = [ 1, 2, 3, 4, 5, 6, 7, 8, 9, 10]\n",
    "\n",
    "c_scores = []\n",
    "f_scores = []\n",
    "\n",
    "# we will loop through reasonable values of c\n",
    "for c in c_range:\n",
    "    \n",
    "    # fit the training dataset on the SVM\n",
    "    SVM = svm.SVC(C=c, kernel='linear', degree=3, gamma='auto')\n",
    "    SVM.fit(Train_X_Tfidf,Train_Y)\n",
    "    # predicting the labels on validation dataset\n",
    "    predictions_SVM = SVM.predict(Test_X_Tfidf)\n",
    "    \n",
    "    accuracy = accuracy_score(predictions_SVM, Test_Y)*100\n",
    "    f1 = f1_score(predictions_SVM, Test_Y)\n",
    "    \n",
    "    c_scores.append(accuracy)\n",
    "    f_scores.append(f1)\n",
    "    \n",
    "    print(\"SVM Accuracy Score and F1-Score when c=\", c, \"->\", accuracy_score(predictions_SVM, Test_Y)*100, \"and\", f1_score(predictions_SVM, Test_Y))\n",
    "\n"
   ]
  },
  {
   "cell_type": "markdown",
   "id": "51451493",
   "metadata": {},
   "source": [
    "# Using Logistic Regression"
   ]
  },
  {
   "cell_type": "code",
   "execution_count": 24,
   "id": "e69b3a4f",
   "metadata": {},
   "outputs": [
    {
     "name": "stdout",
     "output_type": "stream",
     "text": [
      "LR Accuracy Score ->  78.72340425531915\n",
      "F1-Score ->  0.6428571428571429\n"
     ]
    }
   ],
   "source": [
    "# fit the training dataset on the LR\n",
    "lr = LogisticRegressionCV(cv=5, class_weight = 'balanced', random_state=0)\n",
    "lr.fit(Train_X_Tfidf,Train_Y)\n",
    "\n",
    "# predicting the labels on validation dataset\n",
    "predictions_LR = lr.predict(Test_X_Tfidf)\n",
    "\n",
    "print(\"LR Accuracy Score -> \",accuracy_score(predictions_LR, Test_Y)*100)\n",
    "print(\"F1-Score -> \",f1_score(predictions_LR, Test_Y))"
   ]
  },
  {
   "cell_type": "markdown",
   "id": "a06cc90e",
   "metadata": {},
   "source": [
    "# Using Voting Ensembles"
   ]
  },
  {
   "cell_type": "code",
   "execution_count": 25,
   "id": "1ef144dd",
   "metadata": {},
   "outputs": [
    {
     "name": "stdout",
     "output_type": "stream",
     "text": [
      "Hard voting Accuracy Score ->  82.97872340425532\n",
      "Hard voting F1-Score ->  0.6363636363636364\n"
     ]
    }
   ],
   "source": [
    "clf1 = LogisticRegression(multi_class='multinomial', class_weight = 'balanced', random_state=0)\n",
    "clf2 = svm.SVC(C=9, kernel='linear', degree=3, gamma='auto')\n",
    "\n",
    "eclf1 = VotingClassifier(estimators=[('lr', clf1), ('svm', clf2)], voting='hard')\n",
    "eclf1 = eclf1.fit(Train_X_Tfidf,Train_Y)\n",
    "predictions_eclf1 = eclf1.predict(Test_X_Tfidf)\n",
    "print(\"Hard voting Accuracy Score -> \",accuracy_score(predictions_eclf1, Test_Y)*100)\n",
    "print(\"Hard voting F1-Score -> \",f1_score(predictions_eclf1, Test_Y))\n",
    "\n"
   ]
  },
  {
   "cell_type": "code",
   "execution_count": null,
   "id": "bc247863",
   "metadata": {},
   "outputs": [],
   "source": []
  }
 ],
 "metadata": {
  "kernelspec": {
   "display_name": "Python 3 (ipykernel)",
   "language": "python",
   "name": "python3"
  },
  "language_info": {
   "codemirror_mode": {
    "name": "ipython",
    "version": 3
   },
   "file_extension": ".py",
   "mimetype": "text/x-python",
   "name": "python",
   "nbconvert_exporter": "python",
   "pygments_lexer": "ipython3",
   "version": "3.9.7"
  }
 },
 "nbformat": 4,
 "nbformat_minor": 5
}
