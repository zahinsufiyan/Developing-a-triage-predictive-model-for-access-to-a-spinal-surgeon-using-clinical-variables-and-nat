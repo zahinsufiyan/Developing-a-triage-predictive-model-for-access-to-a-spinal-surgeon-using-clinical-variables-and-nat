{
 "cells": [
  {
   "cell_type": "code",
   "execution_count": 1,
   "id": "d1b9a669",
   "metadata": {},
   "outputs": [
    {
     "name": "stdout",
     "output_type": "stream",
     "text": [
      "Requirement already satisfied: gensim in c:\\notebook\\lib\\site-packages (4.1.2)\n",
      "Requirement already satisfied: scipy>=0.18.1 in c:\\notebook\\lib\\site-packages (from gensim) (1.7.1)\n",
      "Requirement already satisfied: numpy>=1.17.0 in c:\\notebook\\lib\\site-packages (from gensim) (1.20.3)\n",
      "Requirement already satisfied: Cython==0.29.23 in c:\\notebook\\lib\\site-packages (from gensim) (0.29.23)\n",
      "Requirement already satisfied: smart-open>=1.8.1 in c:\\notebook\\lib\\site-packages (from gensim) (5.2.1)\n",
      "Note: you may need to restart the kernel to use updated packages.\n"
     ]
    }
   ],
   "source": [
    "pip install -U gensim"
   ]
  },
  {
   "cell_type": "code",
   "execution_count": 2,
   "id": "e09347f7",
   "metadata": {},
   "outputs": [
    {
     "name": "stdout",
     "output_type": "stream",
     "text": [
      "Requirement already satisfied: nlpaug in c:\\notebook\\lib\\site-packages (1.1.10)\n",
      "Requirement already satisfied: requests>=2.22.0 in c:\\notebook\\lib\\site-packages (from nlpaug) (2.26.0)\n",
      "Requirement already satisfied: numpy>=1.16.2 in c:\\notebook\\lib\\site-packages (from nlpaug) (1.20.3)\n",
      "Requirement already satisfied: pandas>=1.2.0 in c:\\notebook\\lib\\site-packages (from nlpaug) (1.3.4)\n",
      "Requirement already satisfied: pytz>=2017.3 in c:\\notebook\\lib\\site-packages (from pandas>=1.2.0->nlpaug) (2021.3)\n",
      "Requirement already satisfied: python-dateutil>=2.7.3 in c:\\notebook\\lib\\site-packages (from pandas>=1.2.0->nlpaug) (2.8.2)\n",
      "Requirement already satisfied: six>=1.5 in c:\\notebook\\lib\\site-packages (from python-dateutil>=2.7.3->pandas>=1.2.0->nlpaug) (1.16.0)\n",
      "Requirement already satisfied: charset-normalizer~=2.0.0 in c:\\notebook\\lib\\site-packages (from requests>=2.22.0->nlpaug) (2.0.4)\n",
      "Requirement already satisfied: idna<4,>=2.5 in c:\\notebook\\lib\\site-packages (from requests>=2.22.0->nlpaug) (3.2)\n",
      "Requirement already satisfied: certifi>=2017.4.17 in c:\\notebook\\lib\\site-packages (from requests>=2.22.0->nlpaug) (2021.10.8)\n",
      "Requirement already satisfied: urllib3<1.27,>=1.21.1 in c:\\notebook\\lib\\site-packages (from requests>=2.22.0->nlpaug) (1.26.7)\n"
     ]
    }
   ],
   "source": [
    "!pip install nlpaug"
   ]
  },
  {
   "cell_type": "code",
   "execution_count": 32,
   "id": "b64ed7cb",
   "metadata": {},
   "outputs": [],
   "source": [
    "import gensim\n",
    "import numpy as np\n",
    "import pandas as pd\n",
    "from sklearn.model_selection import train_test_split\n",
    "pd.set_option('display.max_colwidth', 100)\n",
    "from sklearn.linear_model import LogisticRegressionCV\n",
    "from sklearn.linear_model import LogisticRegression\n",
    "from sklearn.metrics import accuracy_score\n",
    "from sklearn.metrics import f1_score\n",
    "from sklearn.metrics import precision_score, recall_score\n",
    "from sklearn import model_selection, naive_bayes, svm\n",
    "from sklearn.linear_model import LogisticRegression\n",
    "from sklearn.naive_bayes import GaussianNB\n",
    "from sklearn.ensemble import RandomForestClassifier, VotingClassifier\n",
    "import seaborn as sns\n",
    "from sklearn.feature_extraction.text import CountVectorizer, TfidfVectorizer\n",
    "from sklearn.linear_model import LogisticRegression\n",
    "from sklearn.svm import SVC\n",
    "from sklearn.ensemble import VotingClassifier\n",
    "from sklearn.model_selection import KFold\n",
    "from sklearn.metrics import accuracy_score, precision_score, recall_score, f1_score"
   ]
  },
  {
   "cell_type": "code",
   "execution_count": 33,
   "id": "c05f0182",
   "metadata": {},
   "outputs": [
    {
     "name": "stderr",
     "output_type": "stream",
     "text": [
      "[nltk_data] Downloading collection 'all'\n",
      "[nltk_data]    | \n",
      "[nltk_data]    | Downloading package abc to\n",
      "[nltk_data]    |     C:\\Users\\zahin\\AppData\\Roaming\\nltk_data...\n",
      "[nltk_data]    |   Package abc is already up-to-date!\n",
      "[nltk_data]    | Downloading package alpino to\n",
      "[nltk_data]    |     C:\\Users\\zahin\\AppData\\Roaming\\nltk_data...\n",
      "[nltk_data]    |   Package alpino is already up-to-date!\n",
      "[nltk_data]    | Downloading package averaged_perceptron_tagger to\n",
      "[nltk_data]    |     C:\\Users\\zahin\\AppData\\Roaming\\nltk_data...\n",
      "[nltk_data]    |   Package averaged_perceptron_tagger is already up-\n",
      "[nltk_data]    |       to-date!\n",
      "[nltk_data]    | Downloading package averaged_perceptron_tagger_ru to\n",
      "[nltk_data]    |     C:\\Users\\zahin\\AppData\\Roaming\\nltk_data...\n",
      "[nltk_data]    |   Package averaged_perceptron_tagger_ru is already\n",
      "[nltk_data]    |       up-to-date!\n",
      "[nltk_data]    | Downloading package basque_grammars to\n",
      "[nltk_data]    |     C:\\Users\\zahin\\AppData\\Roaming\\nltk_data...\n",
      "[nltk_data]    |   Package basque_grammars is already up-to-date!\n",
      "[nltk_data]    | Downloading package biocreative_ppi to\n",
      "[nltk_data]    |     C:\\Users\\zahin\\AppData\\Roaming\\nltk_data...\n",
      "[nltk_data]    |   Package biocreative_ppi is already up-to-date!\n",
      "[nltk_data]    | Downloading package bllip_wsj_no_aux to\n",
      "[nltk_data]    |     C:\\Users\\zahin\\AppData\\Roaming\\nltk_data...\n",
      "[nltk_data]    |   Package bllip_wsj_no_aux is already up-to-date!\n",
      "[nltk_data]    | Downloading package book_grammars to\n",
      "[nltk_data]    |     C:\\Users\\zahin\\AppData\\Roaming\\nltk_data...\n",
      "[nltk_data]    |   Package book_grammars is already up-to-date!\n",
      "[nltk_data]    | Downloading package brown to\n",
      "[nltk_data]    |     C:\\Users\\zahin\\AppData\\Roaming\\nltk_data...\n",
      "[nltk_data]    |   Package brown is already up-to-date!\n",
      "[nltk_data]    | Downloading package brown_tei to\n",
      "[nltk_data]    |     C:\\Users\\zahin\\AppData\\Roaming\\nltk_data...\n",
      "[nltk_data]    |   Package brown_tei is already up-to-date!\n",
      "[nltk_data]    | Downloading package cess_cat to\n",
      "[nltk_data]    |     C:\\Users\\zahin\\AppData\\Roaming\\nltk_data...\n",
      "[nltk_data]    |   Package cess_cat is already up-to-date!\n",
      "[nltk_data]    | Downloading package cess_esp to\n",
      "[nltk_data]    |     C:\\Users\\zahin\\AppData\\Roaming\\nltk_data...\n",
      "[nltk_data]    |   Package cess_esp is already up-to-date!\n",
      "[nltk_data]    | Downloading package chat80 to\n",
      "[nltk_data]    |     C:\\Users\\zahin\\AppData\\Roaming\\nltk_data...\n",
      "[nltk_data]    |   Package chat80 is already up-to-date!\n",
      "[nltk_data]    | Downloading package city_database to\n",
      "[nltk_data]    |     C:\\Users\\zahin\\AppData\\Roaming\\nltk_data...\n",
      "[nltk_data]    |   Package city_database is already up-to-date!\n",
      "[nltk_data]    | Downloading package cmudict to\n",
      "[nltk_data]    |     C:\\Users\\zahin\\AppData\\Roaming\\nltk_data...\n",
      "[nltk_data]    |   Package cmudict is already up-to-date!\n",
      "[nltk_data]    | Downloading package comparative_sentences to\n",
      "[nltk_data]    |     C:\\Users\\zahin\\AppData\\Roaming\\nltk_data...\n",
      "[nltk_data]    |   Package comparative_sentences is already up-to-\n",
      "[nltk_data]    |       date!\n",
      "[nltk_data]    | Downloading package comtrans to\n",
      "[nltk_data]    |     C:\\Users\\zahin\\AppData\\Roaming\\nltk_data...\n",
      "[nltk_data]    |   Package comtrans is already up-to-date!\n",
      "[nltk_data]    | Downloading package conll2000 to\n",
      "[nltk_data]    |     C:\\Users\\zahin\\AppData\\Roaming\\nltk_data...\n",
      "[nltk_data]    |   Package conll2000 is already up-to-date!\n",
      "[nltk_data]    | Downloading package conll2002 to\n",
      "[nltk_data]    |     C:\\Users\\zahin\\AppData\\Roaming\\nltk_data...\n",
      "[nltk_data]    |   Package conll2002 is already up-to-date!\n",
      "[nltk_data]    | Downloading package conll2007 to\n",
      "[nltk_data]    |     C:\\Users\\zahin\\AppData\\Roaming\\nltk_data...\n",
      "[nltk_data]    |   Package conll2007 is already up-to-date!\n",
      "[nltk_data]    | Downloading package crubadan to\n",
      "[nltk_data]    |     C:\\Users\\zahin\\AppData\\Roaming\\nltk_data...\n",
      "[nltk_data]    |   Package crubadan is already up-to-date!\n",
      "[nltk_data]    | Downloading package dependency_treebank to\n",
      "[nltk_data]    |     C:\\Users\\zahin\\AppData\\Roaming\\nltk_data...\n",
      "[nltk_data]    |   Package dependency_treebank is already up-to-date!\n",
      "[nltk_data]    | Downloading package dolch to\n",
      "[nltk_data]    |     C:\\Users\\zahin\\AppData\\Roaming\\nltk_data...\n",
      "[nltk_data]    |   Package dolch is already up-to-date!\n",
      "[nltk_data]    | Downloading package europarl_raw to\n",
      "[nltk_data]    |     C:\\Users\\zahin\\AppData\\Roaming\\nltk_data...\n",
      "[nltk_data]    |   Package europarl_raw is already up-to-date!\n",
      "[nltk_data]    | Downloading package extended_omw to\n",
      "[nltk_data]    |     C:\\Users\\zahin\\AppData\\Roaming\\nltk_data...\n",
      "[nltk_data]    |   Package extended_omw is already up-to-date!\n",
      "[nltk_data]    | Downloading package floresta to\n",
      "[nltk_data]    |     C:\\Users\\zahin\\AppData\\Roaming\\nltk_data...\n",
      "[nltk_data]    |   Package floresta is already up-to-date!\n",
      "[nltk_data]    | Downloading package framenet_v15 to\n",
      "[nltk_data]    |     C:\\Users\\zahin\\AppData\\Roaming\\nltk_data...\n",
      "[nltk_data]    |   Package framenet_v15 is already up-to-date!\n",
      "[nltk_data]    | Downloading package framenet_v17 to\n",
      "[nltk_data]    |     C:\\Users\\zahin\\AppData\\Roaming\\nltk_data...\n",
      "[nltk_data]    |   Package framenet_v17 is already up-to-date!\n",
      "[nltk_data]    | Downloading package gazetteers to\n",
      "[nltk_data]    |     C:\\Users\\zahin\\AppData\\Roaming\\nltk_data...\n",
      "[nltk_data]    |   Package gazetteers is already up-to-date!\n",
      "[nltk_data]    | Downloading package genesis to\n",
      "[nltk_data]    |     C:\\Users\\zahin\\AppData\\Roaming\\nltk_data...\n",
      "[nltk_data]    |   Package genesis is already up-to-date!\n",
      "[nltk_data]    | Downloading package gutenberg to\n",
      "[nltk_data]    |     C:\\Users\\zahin\\AppData\\Roaming\\nltk_data...\n",
      "[nltk_data]    |   Package gutenberg is already up-to-date!\n",
      "[nltk_data]    | Downloading package ieer to\n",
      "[nltk_data]    |     C:\\Users\\zahin\\AppData\\Roaming\\nltk_data...\n",
      "[nltk_data]    |   Package ieer is already up-to-date!\n",
      "[nltk_data]    | Downloading package inaugural to\n",
      "[nltk_data]    |     C:\\Users\\zahin\\AppData\\Roaming\\nltk_data...\n",
      "[nltk_data]    |   Package inaugural is already up-to-date!\n",
      "[nltk_data]    | Downloading package indian to\n",
      "[nltk_data]    |     C:\\Users\\zahin\\AppData\\Roaming\\nltk_data...\n",
      "[nltk_data]    |   Package indian is already up-to-date!\n",
      "[nltk_data]    | Downloading package jeita to\n",
      "[nltk_data]    |     C:\\Users\\zahin\\AppData\\Roaming\\nltk_data...\n",
      "[nltk_data]    |   Package jeita is already up-to-date!\n",
      "[nltk_data]    | Downloading package kimmo to\n",
      "[nltk_data]    |     C:\\Users\\zahin\\AppData\\Roaming\\nltk_data...\n",
      "[nltk_data]    |   Package kimmo is already up-to-date!\n",
      "[nltk_data]    | Downloading package knbc to\n",
      "[nltk_data]    |     C:\\Users\\zahin\\AppData\\Roaming\\nltk_data...\n",
      "[nltk_data]    |   Package knbc is already up-to-date!\n",
      "[nltk_data]    | Downloading package large_grammars to\n",
      "[nltk_data]    |     C:\\Users\\zahin\\AppData\\Roaming\\nltk_data...\n",
      "[nltk_data]    |   Package large_grammars is already up-to-date!\n",
      "[nltk_data]    | Downloading package lin_thesaurus to\n",
      "[nltk_data]    |     C:\\Users\\zahin\\AppData\\Roaming\\nltk_data...\n",
      "[nltk_data]    |   Package lin_thesaurus is already up-to-date!\n",
      "[nltk_data]    | Downloading package mac_morpho to\n",
      "[nltk_data]    |     C:\\Users\\zahin\\AppData\\Roaming\\nltk_data...\n",
      "[nltk_data]    |   Package mac_morpho is already up-to-date!\n",
      "[nltk_data]    | Downloading package machado to\n",
      "[nltk_data]    |     C:\\Users\\zahin\\AppData\\Roaming\\nltk_data...\n",
      "[nltk_data]    |   Package machado is already up-to-date!\n",
      "[nltk_data]    | Downloading package masc_tagged to\n",
      "[nltk_data]    |     C:\\Users\\zahin\\AppData\\Roaming\\nltk_data...\n",
      "[nltk_data]    |   Package masc_tagged is already up-to-date!\n",
      "[nltk_data]    | Downloading package maxent_ne_chunker to\n",
      "[nltk_data]    |     C:\\Users\\zahin\\AppData\\Roaming\\nltk_data...\n",
      "[nltk_data]    |   Package maxent_ne_chunker is already up-to-date!\n",
      "[nltk_data]    | Downloading package maxent_treebank_pos_tagger to\n",
      "[nltk_data]    |     C:\\Users\\zahin\\AppData\\Roaming\\nltk_data...\n",
      "[nltk_data]    |   Package maxent_treebank_pos_tagger is already up-\n",
      "[nltk_data]    |       to-date!\n",
      "[nltk_data]    | Downloading package moses_sample to\n",
      "[nltk_data]    |     C:\\Users\\zahin\\AppData\\Roaming\\nltk_data...\n",
      "[nltk_data]    |   Package moses_sample is already up-to-date!\n",
      "[nltk_data]    | Downloading package movie_reviews to\n",
      "[nltk_data]    |     C:\\Users\\zahin\\AppData\\Roaming\\nltk_data...\n",
      "[nltk_data]    |   Package movie_reviews is already up-to-date!\n",
      "[nltk_data]    | Downloading package mte_teip5 to\n",
      "[nltk_data]    |     C:\\Users\\zahin\\AppData\\Roaming\\nltk_data...\n",
      "[nltk_data]    |   Package mte_teip5 is already up-to-date!\n",
      "[nltk_data]    | Downloading package mwa_ppdb to\n",
      "[nltk_data]    |     C:\\Users\\zahin\\AppData\\Roaming\\nltk_data...\n",
      "[nltk_data]    |   Package mwa_ppdb is already up-to-date!\n",
      "[nltk_data]    | Downloading package names to\n",
      "[nltk_data]    |     C:\\Users\\zahin\\AppData\\Roaming\\nltk_data...\n",
      "[nltk_data]    |   Package names is already up-to-date!\n",
      "[nltk_data]    | Downloading package nombank.1.0 to\n",
      "[nltk_data]    |     C:\\Users\\zahin\\AppData\\Roaming\\nltk_data...\n",
      "[nltk_data]    |   Package nombank.1.0 is already up-to-date!\n",
      "[nltk_data]    | Downloading package nonbreaking_prefixes to\n",
      "[nltk_data]    |     C:\\Users\\zahin\\AppData\\Roaming\\nltk_data...\n",
      "[nltk_data]    |   Package nonbreaking_prefixes is already up-to-date!\n",
      "[nltk_data]    | Downloading package nps_chat to\n",
      "[nltk_data]    |     C:\\Users\\zahin\\AppData\\Roaming\\nltk_data...\n",
      "[nltk_data]    |   Package nps_chat is already up-to-date!\n",
      "[nltk_data]    | Downloading package omw to\n",
      "[nltk_data]    |     C:\\Users\\zahin\\AppData\\Roaming\\nltk_data...\n",
      "[nltk_data]    |   Package omw is already up-to-date!\n",
      "[nltk_data]    | Downloading package omw-1.4 to\n",
      "[nltk_data]    |     C:\\Users\\zahin\\AppData\\Roaming\\nltk_data...\n",
      "[nltk_data]    |   Package omw-1.4 is already up-to-date!\n",
      "[nltk_data]    | Downloading package opinion_lexicon to\n",
      "[nltk_data]    |     C:\\Users\\zahin\\AppData\\Roaming\\nltk_data...\n",
      "[nltk_data]    |   Package opinion_lexicon is already up-to-date!\n",
      "[nltk_data]    | Downloading package panlex_swadesh to\n",
      "[nltk_data]    |     C:\\Users\\zahin\\AppData\\Roaming\\nltk_data...\n",
      "[nltk_data]    |   Package panlex_swadesh is already up-to-date!\n",
      "[nltk_data]    | Downloading package paradigms to\n",
      "[nltk_data]    |     C:\\Users\\zahin\\AppData\\Roaming\\nltk_data...\n",
      "[nltk_data]    |   Package paradigms is already up-to-date!\n",
      "[nltk_data]    | Downloading package pe08 to\n",
      "[nltk_data]    |     C:\\Users\\zahin\\AppData\\Roaming\\nltk_data...\n",
      "[nltk_data]    |   Package pe08 is already up-to-date!\n",
      "[nltk_data]    | Downloading package perluniprops to\n",
      "[nltk_data]    |     C:\\Users\\zahin\\AppData\\Roaming\\nltk_data...\n",
      "[nltk_data]    |   Package perluniprops is already up-to-date!\n",
      "[nltk_data]    | Downloading package pil to\n",
      "[nltk_data]    |     C:\\Users\\zahin\\AppData\\Roaming\\nltk_data...\n",
      "[nltk_data]    |   Package pil is already up-to-date!\n",
      "[nltk_data]    | Downloading package pl196x to\n",
      "[nltk_data]    |     C:\\Users\\zahin\\AppData\\Roaming\\nltk_data...\n",
      "[nltk_data]    |   Package pl196x is already up-to-date!\n",
      "[nltk_data]    | Downloading package porter_test to\n",
      "[nltk_data]    |     C:\\Users\\zahin\\AppData\\Roaming\\nltk_data...\n",
      "[nltk_data]    |   Package porter_test is already up-to-date!\n",
      "[nltk_data]    | Downloading package ppattach to\n",
      "[nltk_data]    |     C:\\Users\\zahin\\AppData\\Roaming\\nltk_data...\n",
      "[nltk_data]    |   Package ppattach is already up-to-date!\n",
      "[nltk_data]    | Downloading package problem_reports to\n",
      "[nltk_data]    |     C:\\Users\\zahin\\AppData\\Roaming\\nltk_data...\n",
      "[nltk_data]    |   Package problem_reports is already up-to-date!\n",
      "[nltk_data]    | Downloading package product_reviews_1 to\n",
      "[nltk_data]    |     C:\\Users\\zahin\\AppData\\Roaming\\nltk_data...\n",
      "[nltk_data]    |   Package product_reviews_1 is already up-to-date!\n",
      "[nltk_data]    | Downloading package product_reviews_2 to\n",
      "[nltk_data]    |     C:\\Users\\zahin\\AppData\\Roaming\\nltk_data...\n",
      "[nltk_data]    |   Package product_reviews_2 is already up-to-date!\n",
      "[nltk_data]    | Downloading package propbank to\n",
      "[nltk_data]    |     C:\\Users\\zahin\\AppData\\Roaming\\nltk_data...\n",
      "[nltk_data]    |   Package propbank is already up-to-date!\n",
      "[nltk_data]    | Downloading package pros_cons to\n",
      "[nltk_data]    |     C:\\Users\\zahin\\AppData\\Roaming\\nltk_data...\n",
      "[nltk_data]    |   Package pros_cons is already up-to-date!\n",
      "[nltk_data]    | Downloading package ptb to\n",
      "[nltk_data]    |     C:\\Users\\zahin\\AppData\\Roaming\\nltk_data...\n",
      "[nltk_data]    |   Package ptb is already up-to-date!\n",
      "[nltk_data]    | Downloading package punkt to\n",
      "[nltk_data]    |     C:\\Users\\zahin\\AppData\\Roaming\\nltk_data...\n",
      "[nltk_data]    |   Package punkt is already up-to-date!\n",
      "[nltk_data]    | Downloading package qc to\n",
      "[nltk_data]    |     C:\\Users\\zahin\\AppData\\Roaming\\nltk_data...\n",
      "[nltk_data]    |   Package qc is already up-to-date!\n",
      "[nltk_data]    | Downloading package reuters to\n",
      "[nltk_data]    |     C:\\Users\\zahin\\AppData\\Roaming\\nltk_data...\n",
      "[nltk_data]    |   Package reuters is already up-to-date!\n",
      "[nltk_data]    | Downloading package rslp to\n",
      "[nltk_data]    |     C:\\Users\\zahin\\AppData\\Roaming\\nltk_data...\n",
      "[nltk_data]    |   Package rslp is already up-to-date!\n",
      "[nltk_data]    | Downloading package rte to\n",
      "[nltk_data]    |     C:\\Users\\zahin\\AppData\\Roaming\\nltk_data...\n",
      "[nltk_data]    |   Package rte is already up-to-date!\n",
      "[nltk_data]    | Downloading package sample_grammars to\n",
      "[nltk_data]    |     C:\\Users\\zahin\\AppData\\Roaming\\nltk_data...\n",
      "[nltk_data]    |   Package sample_grammars is already up-to-date!\n",
      "[nltk_data]    | Downloading package semcor to\n",
      "[nltk_data]    |     C:\\Users\\zahin\\AppData\\Roaming\\nltk_data...\n",
      "[nltk_data]    |   Package semcor is already up-to-date!\n",
      "[nltk_data]    | Downloading package senseval to\n",
      "[nltk_data]    |     C:\\Users\\zahin\\AppData\\Roaming\\nltk_data...\n",
      "[nltk_data]    |   Package senseval is already up-to-date!\n",
      "[nltk_data]    | Downloading package sentence_polarity to\n",
      "[nltk_data]    |     C:\\Users\\zahin\\AppData\\Roaming\\nltk_data...\n",
      "[nltk_data]    |   Package sentence_polarity is already up-to-date!\n",
      "[nltk_data]    | Downloading package sentiwordnet to\n",
      "[nltk_data]    |     C:\\Users\\zahin\\AppData\\Roaming\\nltk_data...\n",
      "[nltk_data]    |   Package sentiwordnet is already up-to-date!\n",
      "[nltk_data]    | Downloading package shakespeare to\n",
      "[nltk_data]    |     C:\\Users\\zahin\\AppData\\Roaming\\nltk_data...\n",
      "[nltk_data]    |   Package shakespeare is already up-to-date!\n",
      "[nltk_data]    | Downloading package sinica_treebank to\n",
      "[nltk_data]    |     C:\\Users\\zahin\\AppData\\Roaming\\nltk_data...\n",
      "[nltk_data]    |   Package sinica_treebank is already up-to-date!\n",
      "[nltk_data]    | Downloading package smultron to\n",
      "[nltk_data]    |     C:\\Users\\zahin\\AppData\\Roaming\\nltk_data...\n",
      "[nltk_data]    |   Package smultron is already up-to-date!\n",
      "[nltk_data]    | Downloading package snowball_data to\n",
      "[nltk_data]    |     C:\\Users\\zahin\\AppData\\Roaming\\nltk_data...\n",
      "[nltk_data]    |   Package snowball_data is already up-to-date!\n",
      "[nltk_data]    | Downloading package spanish_grammars to\n",
      "[nltk_data]    |     C:\\Users\\zahin\\AppData\\Roaming\\nltk_data...\n",
      "[nltk_data]    |   Package spanish_grammars is already up-to-date!\n",
      "[nltk_data]    | Downloading package state_union to\n",
      "[nltk_data]    |     C:\\Users\\zahin\\AppData\\Roaming\\nltk_data...\n",
      "[nltk_data]    |   Package state_union is already up-to-date!\n",
      "[nltk_data]    | Downloading package stopwords to\n",
      "[nltk_data]    |     C:\\Users\\zahin\\AppData\\Roaming\\nltk_data...\n",
      "[nltk_data]    |   Package stopwords is already up-to-date!\n",
      "[nltk_data]    | Downloading package subjectivity to\n",
      "[nltk_data]    |     C:\\Users\\zahin\\AppData\\Roaming\\nltk_data...\n",
      "[nltk_data]    |   Package subjectivity is already up-to-date!\n",
      "[nltk_data]    | Downloading package swadesh to\n",
      "[nltk_data]    |     C:\\Users\\zahin\\AppData\\Roaming\\nltk_data...\n",
      "[nltk_data]    |   Package swadesh is already up-to-date!\n",
      "[nltk_data]    | Downloading package switchboard to\n",
      "[nltk_data]    |     C:\\Users\\zahin\\AppData\\Roaming\\nltk_data...\n",
      "[nltk_data]    |   Package switchboard is already up-to-date!\n",
      "[nltk_data]    | Downloading package tagsets to\n",
      "[nltk_data]    |     C:\\Users\\zahin\\AppData\\Roaming\\nltk_data...\n",
      "[nltk_data]    |   Package tagsets is already up-to-date!\n",
      "[nltk_data]    | Downloading package timit to\n",
      "[nltk_data]    |     C:\\Users\\zahin\\AppData\\Roaming\\nltk_data...\n",
      "[nltk_data]    |   Package timit is already up-to-date!\n",
      "[nltk_data]    | Downloading package toolbox to\n",
      "[nltk_data]    |     C:\\Users\\zahin\\AppData\\Roaming\\nltk_data...\n",
      "[nltk_data]    |   Package toolbox is already up-to-date!\n",
      "[nltk_data]    | Downloading package treebank to\n",
      "[nltk_data]    |     C:\\Users\\zahin\\AppData\\Roaming\\nltk_data...\n",
      "[nltk_data]    |   Package treebank is already up-to-date!\n",
      "[nltk_data]    | Downloading package twitter_samples to\n",
      "[nltk_data]    |     C:\\Users\\zahin\\AppData\\Roaming\\nltk_data...\n",
      "[nltk_data]    |   Package twitter_samples is already up-to-date!\n",
      "[nltk_data]    | Downloading package udhr to\n",
      "[nltk_data]    |     C:\\Users\\zahin\\AppData\\Roaming\\nltk_data...\n",
      "[nltk_data]    |   Package udhr is already up-to-date!\n",
      "[nltk_data]    | Downloading package udhr2 to\n",
      "[nltk_data]    |     C:\\Users\\zahin\\AppData\\Roaming\\nltk_data...\n",
      "[nltk_data]    |   Package udhr2 is already up-to-date!\n",
      "[nltk_data]    | Downloading package unicode_samples to\n",
      "[nltk_data]    |     C:\\Users\\zahin\\AppData\\Roaming\\nltk_data...\n",
      "[nltk_data]    |   Package unicode_samples is already up-to-date!\n",
      "[nltk_data]    | Downloading package universal_tagset to\n",
      "[nltk_data]    |     C:\\Users\\zahin\\AppData\\Roaming\\nltk_data...\n",
      "[nltk_data]    |   Package universal_tagset is already up-to-date!\n",
      "[nltk_data]    | Downloading package universal_treebanks_v20 to\n",
      "[nltk_data]    |     C:\\Users\\zahin\\AppData\\Roaming\\nltk_data...\n",
      "[nltk_data]    |   Package universal_treebanks_v20 is already up-to-\n",
      "[nltk_data]    |       date!\n",
      "[nltk_data]    | Downloading package vader_lexicon to\n",
      "[nltk_data]    |     C:\\Users\\zahin\\AppData\\Roaming\\nltk_data...\n",
      "[nltk_data]    |   Package vader_lexicon is already up-to-date!\n",
      "[nltk_data]    | Downloading package verbnet to\n",
      "[nltk_data]    |     C:\\Users\\zahin\\AppData\\Roaming\\nltk_data...\n",
      "[nltk_data]    |   Package verbnet is already up-to-date!\n",
      "[nltk_data]    | Downloading package verbnet3 to\n",
      "[nltk_data]    |     C:\\Users\\zahin\\AppData\\Roaming\\nltk_data...\n",
      "[nltk_data]    |   Package verbnet3 is already up-to-date!\n",
      "[nltk_data]    | Downloading package webtext to\n",
      "[nltk_data]    |     C:\\Users\\zahin\\AppData\\Roaming\\nltk_data...\n",
      "[nltk_data]    |   Package webtext is already up-to-date!\n",
      "[nltk_data]    | Downloading package wmt15_eval to\n",
      "[nltk_data]    |     C:\\Users\\zahin\\AppData\\Roaming\\nltk_data...\n",
      "[nltk_data]    |   Package wmt15_eval is already up-to-date!\n",
      "[nltk_data]    | Downloading package word2vec_sample to\n",
      "[nltk_data]    |     C:\\Users\\zahin\\AppData\\Roaming\\nltk_data...\n",
      "[nltk_data]    |   Package word2vec_sample is already up-to-date!\n",
      "[nltk_data]    | Downloading package wordnet to\n",
      "[nltk_data]    |     C:\\Users\\zahin\\AppData\\Roaming\\nltk_data...\n",
      "[nltk_data]    |   Package wordnet is already up-to-date!\n",
      "[nltk_data]    | Downloading package wordnet2021 to\n",
      "[nltk_data]    |     C:\\Users\\zahin\\AppData\\Roaming\\nltk_data...\n",
      "[nltk_data]    |   Package wordnet2021 is already up-to-date!\n",
      "[nltk_data]    | Downloading package wordnet31 to\n",
      "[nltk_data]    |     C:\\Users\\zahin\\AppData\\Roaming\\nltk_data...\n",
      "[nltk_data]    |   Package wordnet31 is already up-to-date!\n",
      "[nltk_data]    | Downloading package wordnet_ic to\n",
      "[nltk_data]    |     C:\\Users\\zahin\\AppData\\Roaming\\nltk_data...\n",
      "[nltk_data]    |   Package wordnet_ic is already up-to-date!\n",
      "[nltk_data]    | Downloading package words to\n",
      "[nltk_data]    |     C:\\Users\\zahin\\AppData\\Roaming\\nltk_data...\n",
      "[nltk_data]    |   Package words is already up-to-date!\n",
      "[nltk_data]    | Downloading package ycoe to\n",
      "[nltk_data]    |     C:\\Users\\zahin\\AppData\\Roaming\\nltk_data...\n",
      "[nltk_data]    |   Package ycoe is already up-to-date!\n",
      "[nltk_data]    | \n",
      "[nltk_data]  Done downloading collection all\n"
     ]
    },
    {
     "ename": "ImportError",
     "evalue": "cannot import name 'Adam' from 'keras.optimizers' (C:\\Notebook\\lib\\site-packages\\keras\\optimizers.py)",
     "output_type": "error",
     "traceback": [
      "\u001b[1;31m---------------------------------------------------------------------------\u001b[0m",
      "\u001b[1;31mImportError\u001b[0m                               Traceback (most recent call last)",
      "\u001b[1;32m~\\AppData\\Local\\Temp/ipykernel_3552/20733372.py\u001b[0m in \u001b[0;36m<module>\u001b[1;34m\u001b[0m\n\u001b[0;32m     24\u001b[0m \u001b[1;32mfrom\u001b[0m \u001b[0mkeras\u001b[0m\u001b[1;33m.\u001b[0m\u001b[0minitializers\u001b[0m \u001b[1;32mimport\u001b[0m \u001b[0mConstant\u001b[0m\u001b[1;33m\u001b[0m\u001b[1;33m\u001b[0m\u001b[0m\n\u001b[0;32m     25\u001b[0m \u001b[1;32mfrom\u001b[0m \u001b[0msklearn\u001b[0m\u001b[1;33m.\u001b[0m\u001b[0mmodel_selection\u001b[0m \u001b[1;32mimport\u001b[0m \u001b[0mtrain_test_split\u001b[0m\u001b[1;33m\u001b[0m\u001b[1;33m\u001b[0m\u001b[0m\n\u001b[1;32m---> 26\u001b[1;33m \u001b[1;32mfrom\u001b[0m \u001b[0mkeras\u001b[0m\u001b[1;33m.\u001b[0m\u001b[0moptimizers\u001b[0m \u001b[1;32mimport\u001b[0m \u001b[0mAdam\u001b[0m\u001b[1;33m\u001b[0m\u001b[1;33m\u001b[0m\u001b[0m\n\u001b[0m\u001b[0;32m     27\u001b[0m \u001b[1;32mimport\u001b[0m \u001b[0mos\u001b[0m\u001b[1;33m\u001b[0m\u001b[1;33m\u001b[0m\u001b[0m\n",
      "\u001b[1;31mImportError\u001b[0m: cannot import name 'Adam' from 'keras.optimizers' (C:\\Notebook\\lib\\site-packages\\keras\\optimizers.py)"
     ]
    }
   ],
   "source": [
    "import pandas as pd\n",
    "import matplotlib.pyplot as plt\n",
    "import seaborn as sns\n",
    "import numpy as np\n",
    "import nltk\n",
    "nltk.download('all')\n",
    "from nltk.corpus import stopwords\n",
    "from nltk.util import ngrams\n",
    "from sklearn.feature_extraction.text import CountVectorizer\n",
    "from collections import defaultdict\n",
    "from collections import  Counter\n",
    "plt.style.use('ggplot')\n",
    "stop=set(stopwords.words('english'))\n",
    "import re\n",
    "\n",
    "from nltk.tokenize import word_tokenize\n",
    "import gensim\n",
    "import string\n",
    "from keras.preprocessing.text import Tokenizer\n",
    "from keras.preprocessing.sequence import pad_sequences\n",
    "from tqdm import tqdm\n",
    "from keras.models import Sequential\n",
    "from keras.layers import Embedding,LSTM,Dense,SpatialDropout1D\n",
    "from keras.initializers import Constant\n",
    "from sklearn.model_selection import train_test_split\n",
    "from keras.optimizers import Adam\n",
    "import os"
   ]
  },
  {
   "cell_type": "code",
   "execution_count": 67,
   "id": "287c84ab",
   "metadata": {},
   "outputs": [],
   "source": [
    "# importing nplaug\n",
    "\n",
    "import nlpaug.augmenter.char as nac\n",
    "import nlpaug.augmenter.word as naw\n",
    "import nlpaug.augmenter.sentence as nas\n",
    "import nlpaug.flow as nafc\n",
    "\n",
    "from nlpaug.util import Action"
   ]
  },
  {
   "cell_type": "code",
   "execution_count": 68,
   "id": "205e6eed",
   "metadata": {},
   "outputs": [
    {
     "name": "stdout",
     "output_type": "stream",
     "text": [
      "Requirement already satisfied: wget in c:\\notebook\\lib\\site-packages (3.2)\n",
      "Model at GoogleNews-vectors-negative300.bin\n"
     ]
    }
   ],
   "source": [
    "# Loading word2vec model\n",
    "!pip install wget\n",
    "import gzip\n",
    "import shutil\n",
    "import wget\n",
    "import os\n",
    "\n",
    "gn_vec_path = \"GoogleNews-vectors-negative300.bin\"\n",
    "if not os.path.exists(\"GoogleNews-vectors-negative300.bin\"):\n",
    "    if not os.path.exists(\"../Ch3/GoogleNews-vectors-negative300.bin\"):\n",
    "        # Downloading the reqired model\n",
    "        if not os.path.exists(\"../Ch3/GoogleNews-vectors-negative300.bin.gz\"):\n",
    "            if not os.path.exists(\"GoogleNews-vectors-negative300.bin.gz\"):\n",
    "                wget.download(\"https://s3.amazonaws.com/dl4j-distribution/GoogleNews-vectors-negative300.bin.gz\")\n",
    "            gn_vec_zip_path = \"GoogleNews-vectors-negative300.bin.gz\"\n",
    "        else:\n",
    "            gn_vec_zip_path = \"../Ch3/GoogleNews-vectors-negative300.bin.gz\"\n",
    "        # Extracting the required model\n",
    "        with gzip.open(gn_vec_zip_path, 'rb') as f_in:\n",
    "            with open(gn_vec_path, 'wb') as f_out:\n",
    "                shutil.copyfileobj(f_in, f_out)\n",
    "    else:\n",
    "        gn_vec_path = \"../Ch3/\" + gn_vec_path\n",
    "\n",
    "print(f\"Model at {gn_vec_path}\")"
   ]
  },
  {
   "cell_type": "code",
   "execution_count": 38,
   "id": "dfd447fe",
   "metadata": {},
   "outputs": [],
   "source": [
    "# Choosing which model to use for data augmentation\n",
    "# model_type: word2vec, glove or fasttext\n",
    "aug = naw.WordEmbsAug(\n",
    "    model_type='word2vec', model_path=gn_vec_path,\n",
    "    action=\"substitute\")"
   ]
  },
  {
   "cell_type": "code",
   "execution_count": 39,
   "id": "b3c56897",
   "metadata": {},
   "outputs": [
    {
     "name": "stdout",
     "output_type": "stream",
     "text": [
      "The quick brown fox jumps over the lazy dog .\n"
     ]
    }
   ],
   "source": [
    "text = 'The quick brown fox jumps over the lazy dog .'\n",
    "print(text)"
   ]
  },
  {
   "cell_type": "code",
   "execution_count": 69,
   "id": "68cb95ca",
   "metadata": {},
   "outputs": [
    {
     "name": "stdout",
     "output_type": "stream",
     "text": [
      "Original:\n",
      "The quick brown fox jumps over the lazy dog .\n",
      "Augmented Text:\n",
      "Today MEDTOX_develops brown fox jumps over the lazy dog.\n"
     ]
    }
   ],
   "source": [
    "# Trying out an example\n",
    "augmented_text = aug.augment(text)\n",
    "print(\"Original:\")\n",
    "print(text)\n",
    "print(\"Augmented Text:\")\n",
    "print(augmented_text)"
   ]
  },
  {
   "cell_type": "code",
   "execution_count": 41,
   "id": "4283ec34",
   "metadata": {},
   "outputs": [
    {
     "data": {
      "text/html": [
       "<div>\n",
       "<style scoped>\n",
       "    .dataframe tbody tr th:only-of-type {\n",
       "        vertical-align: middle;\n",
       "    }\n",
       "\n",
       "    .dataframe tbody tr th {\n",
       "        vertical-align: top;\n",
       "    }\n",
       "\n",
       "    .dataframe thead th {\n",
       "        text-align: right;\n",
       "    }\n",
       "</style>\n",
       "<table border=\"1\" class=\"dataframe\">\n",
       "  <thead>\n",
       "    <tr style=\"text-align: right;\">\n",
       "      <th></th>\n",
       "      <th>Outcome</th>\n",
       "      <th>mr_report</th>\n",
       "    </tr>\n",
       "  </thead>\n",
       "  <tbody>\n",
       "    <tr>\n",
       "      <th>0</th>\n",
       "      <td>0</td>\n",
       "      <td>Reason for Exam: CHRONIC LOWER BACK PAIN.  GETTING WORSE WITH TIME.  AFFECTING THE PATIENT'S LIF...</td>\n",
       "    </tr>\n",
       "    <tr>\n",
       "      <th>1</th>\n",
       "      <td>0</td>\n",
       "      <td>Narrative &amp; Impression  MR LUMBAR SPINE     Reason for Exam: KNOWN MULTILEVEL DEGENERATIVE DISC ...</td>\n",
       "    </tr>\n",
       "    <tr>\n",
       "      <th>2</th>\n",
       "      <td>0</td>\n",
       "      <td>MR LUMBAR SPINE       Reason for Exam: PROGRESSIVELY WORSENING RT SIDED LOWER BACK AND RT LEG BU...</td>\n",
       "    </tr>\n",
       "    <tr>\n",
       "      <th>3</th>\n",
       "      <td>0</td>\n",
       "      <td>MR CERVICAL SPINE      Reason for Exam: HAS HX OF MVA, SEVERE NECK AND BACK PAIN. NUMBNESS, WEAK...</td>\n",
       "    </tr>\n",
       "    <tr>\n",
       "      <th>4</th>\n",
       "      <td>0</td>\n",
       "      <td>MRI lumbar spine     Comparison: No prior     Technique: Routine MRI of the lumbar spine     FIN...</td>\n",
       "    </tr>\n",
       "  </tbody>\n",
       "</table>\n",
       "</div>"
      ],
      "text/plain": [
       "   Outcome  \\\n",
       "0        0   \n",
       "1        0   \n",
       "2        0   \n",
       "3        0   \n",
       "4        0   \n",
       "\n",
       "                                                                                             mr_report  \n",
       "0  Reason for Exam: CHRONIC LOWER BACK PAIN.  GETTING WORSE WITH TIME.  AFFECTING THE PATIENT'S LIF...  \n",
       "1  Narrative & Impression  MR LUMBAR SPINE     Reason for Exam: KNOWN MULTILEVEL DEGENERATIVE DISC ...  \n",
       "2  MR LUMBAR SPINE       Reason for Exam: PROGRESSIVELY WORSENING RT SIDED LOWER BACK AND RT LEG BU...  \n",
       "3  MR CERVICAL SPINE      Reason for Exam: HAS HX OF MVA, SEVERE NECK AND BACK PAIN. NUMBNESS, WEAK...  \n",
       "4  MRI lumbar spine     Comparison: No prior     Technique: Routine MRI of the lumbar spine     FIN...  "
      ]
     },
     "execution_count": 41,
     "metadata": {},
     "output_type": "execute_result"
    }
   ],
   "source": [
    "# Loading data\n",
    "df2 = pd.read_csv(r\"D:\\E\\Baikka\\Project\\New data\\KEC SAC radiology data for CS 8.3.2022.csv\",encoding='unicode_escape')\n",
    "df2['mr_report'] = df2['mr_report'].astype(str)\n",
    "\n",
    "df2.head()"
   ]
  },
  {
   "cell_type": "code",
   "execution_count": 70,
   "id": "0eccc879",
   "metadata": {},
   "outputs": [
    {
     "data": {
      "text/plain": [
       "(1162, 3)"
      ]
     },
     "execution_count": 70,
     "metadata": {},
     "output_type": "execute_result"
    }
   ],
   "source": [
    "# Original Shape\n",
    "df2.shape"
   ]
  },
  {
   "cell_type": "code",
   "execution_count": 43,
   "id": "3170b823",
   "metadata": {},
   "outputs": [
    {
     "data": {
      "text/plain": [
       "\"Reason for Exam: CHRONIC LOWER BACK PAIN.  GETTING WORSE WITH TIME.  AFFECTING THE PATIENT'S LIFE QUALITY.  LS-SPINE X-RAY SHOWED SPONDYLOLISTHESIS AND SEVERE DEGENERATIVE CHANGES.  \\xa0  MRI OF THE LUMBAR SPINE  \\xa0  TECHNIQUE: Routine MRI of the lumbar spine.  \\xa0  FINDINGS: There is a defect in the pars interarticularis of L5 bilaterally with grade 1 spondylolytic spondylolisthesis L5 on S1 identified. Approximately 10 mm of anterolisthesis of L5 on S1 demonstrated. The alignment of the posterior margins of the rest the lumbar vertebrae maintained. There are Modic endplate changes present at the L5-S1 level. There are focal lesions of T1 and T2 hyperintensity arising within the T12, L1 and L4 vertebral bodies likely representing small hemangiomas. No osseous destructive lesion. No compression fracture.  \\xa0  The spinal cord terminates at the T12-L1 disc interspace level with conus medullaris and cauda equina appearing normal.  \\xa0  L3-4 level: Minor desiccation with borderline bulging with no focal protrusion with facet joint hypertrophy with no nerve root impingement.  \\xa0  L4-5 level: There is borderline narrowing and desiccation of the L4-5 intervertebral disc. Shallow broad-based posterior protrusion of the L4-5 intervertebral disc identified. There is facet joint and ligamentum flavum hypertrophy. There is minor tapering of the lateral recess bilaterally with no significant central stenosis and there is no significant neural foraminal stenosis seen.  \\xa0  L5-S1 level: Grade 1 spondylitic spondylolisthesis L5 on S1. 10 mm of anterolisthesis L5 on S1 uncovering of the posterior aspect of the intervertebral disc with annular bulging. Facet joint hypertrophy. Bilateral neural foraminal stenosis more pronounced on the right. There is some degree of thickening of the right L5 nerve root most likely due to chronic irritation. Disc osseous complex does abut the transiting S1 nerve roots bilaterally with no compression.  \\xa0  IMPRESSION: Grade 1 spondylitic spinal listhesis L5 and S1 with bilateral pars defects of L5 demonstrated. Uncovering of the posterior aspect of the L5-S1 intervertebral disc with posterior superior bulging with facet joint hypertrophy with bilateral neural foraminal stenosis right greater than left and thickening of the right L5 nerve root.  \\xa0  Early disc degeneration at the L3-4 level. No nerve root impingement.  \\xa0  Shallow broad-based posterior protrusion of the L4-5 intervertebral disc with facet joint hypertrophy with no significant focal nerve root impingement. There is however mild tapering of the lateral recess bilaterally.\""
      ]
     },
     "execution_count": 43,
     "metadata": {},
     "output_type": "execute_result"
    }
   ],
   "source": [
    "text1 = df2.iloc[0]['mr_report']\n",
    "text1"
   ]
  },
  {
   "cell_type": "code",
   "execution_count": 44,
   "id": "163759ae",
   "metadata": {},
   "outputs": [
    {
     "name": "stdout",
     "output_type": "stream",
     "text": [
      "Augmented Text:\n",
      "Reason for Exam: CHRONIC LOWER BACK PAIN. GETTING WORSE WITH TIME. AFFECTING THE_CURRENT PATIENT ' S LIFE QUALITY. LS - SPINE X - RAY SHOWED SPONDYLOLISTHESIS AND SEVERE DEGENERATIVE CHANGES. MRI OF THE LUMBAR SPINE TECHNIQUE: Routine MRI of the lumbar spine. FINDINGS: There is a defect in the pars interarticularis of L5 bilaterally brings grade 1 spondylolytic spondylolisthesis L5 on S1 identified. Approximately 10 mm of anterolisthesis of L5 on S1 demonstrated. The alignment of the posterior margins of the rest the lumbar vertebrae maintained. There are Modic endplate changes present at the L5 - S1 level. There all focal lesions of T1 and T2 hyperintensity arising within the T12, L1 and L4 vertebral bodies likely representing small hemangiomas. No osseous destructive lesion. No compression fracture. The spinal cord terminates at the T12 - L1 disc interspace level with conus medullaris and cauda equina appearing normality. L3 - 4 level: Minor desiccation with borderline bulging with no focal protrusion with facet joint hypertrophy with no nerve root impingement. L4 - N_CC_TVPG level: There is downright_scary narrowing and desiccation of the L4 - 5 intervertebral disc. Shallow broad - based posterior protrusion of the L4 - 5 intervertebral disc identified. There is facet joint and ligamentum flavum hypertrophy. There is minor tapering of the lateral recess bilaterally with no significant central stenosis and there is no significant neural foraminal stenosis seen. L5 - S1 level: Grade 1 spondylitic spondylolisthesis L5 on S1. 10 mm of anterolisthesis L5 on S1 uncovering of the posterior aspect of the intervertebral disc with annular bulging. Facet joint hypertrophy. Bilateral neural foraminal stenosis more pronounced on the right. There is some degree of thickening of the right L5 nerve root most unlikey due to Opioid_dependence irritation. Disc osseous complex does abut the transiting S1 nerve roots bilaterally with no compression. IMPRESSION: Grade 1 spondylitic spinal listhesis L5 and S1 with bilateral straight_pars defects of L5 demonstrated. Uncovering of the posterior aspect of the L5 - S1 intervertebral disc with posterior superior bulging with facet joint hypertrophy with bilateral neural foraminal stenosis right greater than left and thickening of the right L5 nerve root. Early disc degeneration at the L3 - 4 level. No nerve root impingement. Shallow broad - based posterior protrusion of the L4 - 5 intervertebral disc with facet joint hypertrophy with no significant myofascial_trigger nerve root impingement. There is however mild tapering of the lateral recess bilaterally.\n",
      "Reason for Exam: CHRONIC LOWER BACK PAIN. GETTING WORSE WITH TIME. AFFECTING THE PATIENT ' S LIFE QUALITY. LS - SPINE X - RAY SHOWED SPONDYLOLISTHESIS AND SEVERE DEGENERATIVE CHANGES. MRI OF THE LUMBAR SPINE TECHNIQUE: Repetitive MRI of the lumbar spine. FINDINGS: There IS_NOT a defect in the pars interarticularis of L5 bilaterally with grade 1 spondylolytic spondylolisthesis L5 on S1 identified. Approximately 10 mm of anterolisthesis of L5 on S1 demonstrated. The alignment of the posterior margins of the rest the lumbar vertebrae maintained. There are Modic endplate changes present at the L5 - S1 level. There are focal lesions of T1 and T2 hyperintensity arising within the T12, L1 and L4 vertebral bodies likely representing small hemangiomas. No distal_femoral destructive lesion. No compression fracture. The spinal cord terminates at the T12 - L1 disc interspace level with conus medullaris and cauda equina appearing normal. L3 - 4 totem_poll: Minor desiccation with borderline bulging with no focal protrusion with facet joint hypertrophy with no nerve root impingement. L4 - 5 level: There is borderline narrowing and desiccation of them L4 - 5 intervertebral disc. Shallow broad - based posterior protrusion of the L4 - 5 intervertebral disc identified. There is facet joint and ligamentum flavum hypertrophy. There is minor tapering of the lateral recess bilaterally with no significant central stenosis and there is no significant neural foraminal stenosis seen. L5 - S1 level: Grade 1 spondylitic spondylolisthesis L5 on S1. 10 mm of anterolisthesis L5 on Fujitsu_Lifebook uncovering of the posterior aspect of the intervertebral disc with annular bulging. Facet joint hypertrophy. Bilateral neural foraminal stenosis more pronounced on the right. There is some degree of thickening of the right L5 nerve root most likely due to chronic irritation. Disc osseous complex does abut the transiting S1 nerve roots bilaterally with no compression. IMPRESSION: Grade 1 spondylitic spinal listhesis L5 and S1 with bilateral pars defects of L5 demonstrated. Uncovering of their posterior aspect of the Addition_aka - Counter_Strike_CEVO_Pro intervertebral disc with posterior superior bulging with facet joint hypertrophy with bilateral neural foraminal stenosis right greater than left and thickening of the right L5 nerve root. Early disc degeneration at the L3 - 4 level. No nerve root impingement. Shallow broad - based articular_surface protrusion of the L4 - 5 intervertebral disc with facet joint hypertrophy with no significant focal nerve root impingement. There is however mild tapering of the lateral recess bilaterally.\n",
      "Reason for Exam: CHRONIC LOWER BACK PAIN. GETTING WORSE WITH TIME. AFFECTING THE PATIENT ' S LIFE QUALITY. LS - SPINE X - RAY SHOWED SPONDYLOLISTHESIS AND SEVERE DEGENERATIVE ROTATION. MRI OF THE LUMBAR SPINE TECHNIQUE: Routine MRI of the lumbar spine. FINDINGS: This is a defect in the bogeying_Nos. interarticularis of L5 bilaterally with grade 1 spondylolytic spondylolisthesis L5 on S1 identified. Approximately 10 mm of anterolisthesis of L5 on S1 demonstrated. The alignment of the posterior margins of the rest the lumbar vertebrae maintained. There are Modic endplate changes present at the L5 - S1 level. There are focal lesions of SHDSL and T2 hyperintensity arising within the T12, L1 and L4 vertebral bodies likely representing small hemangiomas. No osseous destructive lesion. No compression fracture. The spinal cord terminates at the T12 - L1 disc interspace level with conus medullaris and cauda equina appearing normal. L3 - 4 level: Minor desiccation with borderline bulging with no focal protrusion with facet joint hypertrophy with no nerve root impingement. L4 - 5 level: There is borderline narrowing and desiccation of the L4 - 5 intervertebral disc. Shallow broad - based posterior protrusion of the L4 - 5 intervertebral disc identified. There is facet joint and ligamentum flavum hypertrophy. There is minor tapering of the lateral recess bilaterally with no significant central stenosis and there is no significant neural foraminal stenosis seen. L5 - S1 level: Grade 5 spondylitic spondylolisthesis L5 on S1. 10 mm of anterolisthesis L5 on FinePix_J## uncovering of the posterior aspect of the intervertebral disc with annular bulging. Facet joint hypertrophy. Bilateral neural foraminal stenosis more pronounced on the right. There wasn'ta some degree of thickening of the right L5 nerve root most likely due to chronic irritation. Disc osseous complex does abut the transiting S1 nerve roots bilaterally with no compression. IMPRESSION: Grade 1 spondylitic spinal listhesis L5 and S1 with bilateral pars defects of L5 demonstrated. Uncovering of the posterior aspect of the L5 - S1 intervertebral disc with posterior superior bulging with facet joint hypertrophy with bilateral neural foraminal stenosis right greater than hurdled_tackler and thickening of the right L5 nerve root. Counting disc degeneration at the L3 - 4 level. No nerve root impingement. Shallow broad - based posterior protrusion of the L4 - 5 intervertebral CD with facet joint hypertrophy with no significant focal nerve root impingement. There is however mild tapering of the lateral recess bilaterally.\n",
      "Reason for Exam: CHRONIC LOWER BACK PAIN. GETTING WORSE WITH TIME. AFFECTING THE PATIENT ' S LIFE QUALITY. LS - WAY_TO_THE X - RAY SHOWED SPONDYLOLISTHESIS AND SEVERE DEGENERATIVE CHANGES. MRI OF WHILE LUMBAR SPINE TECHNIQUE: Routine MRI of the lumbar spine. FINDINGS: There is a defect in the pars interarticularis of L5 bilaterally with graded 1 spondylolytic spondylolisthesis L5 on S1 identified. Approximately 10 mm of anterolisthesis of L5 on S1 demonstrated. The alignment of the posterior margins of the rest the lumbar vertebrae maintained. There are Modic endplate changes present at the L5 - S1 level. There are focal lesions of T1 and T2 hyperintensity arising within the T12, L1 and L4 calcaneus bodies likely representing small hemangiomas. No osseous destructive lesion. No compression fracture. The spinal cord terminates at the T12 - L1 disc interspace level with conus medullaris and cauda equina appearing normal. L3 - 4 level: Minor desiccation with borderline bulging with no focal protrusion with facet joint vasodilatation with no nerve root impingement. L4 - 5 level: There are borderline narrowing and desiccation of the L4 - 5 intervertebral disc. Shallow broad - based posterior protrusion of the L4 - 5 intervertebral disc identified. There is facet joint and ligamentum flavum hypertrophy. There is minor tapering of the lateral recess bilaterally into no significant central stenosis and there is no significant neural foraminal stenosis seen. L5 - S1 level: Grade 1 spondylitic spondylolisthesis L5 on S1. 10 mm of anterolisthesis L5 on S1 uncovering of the posterior aspect of the intervertebral disc with annular bulging. Facet joint hypertrophy. Bilateral neural foraminal stenosis more pronounced on those right. There is some degree of thickening of andthe right L5 nerve root most likely due to chronic irritation. Disc osseous complex does abut the transiting S1 nerve roots bilaterally with no compression. IMPRESSION: Grade 1 spondylitic spinal listhesis L5 and S1 with bilateral pars defects of L5 demonstrated. Uncovering of the posterior aspect of the L5 - S1 intervertebral disc with posterior superior bulging with facet joint hypertrophy with bilateral neural foraminal stenosis right greater than left and thickening of the right L5 nerve root. Early disc degeneration at the L3 - 4 level. No nerve root impingement. Shallow broad - based posterior protrusion of the L4 - 5 intervertebral digitally_remastered_versions with facet joint hypertrophy with no significant focal nerve root impingement. There is however mild tapering of the lateral recess bilaterally.\n",
      "Reason for Exam: CHRONIC LOWER BACK PAIN. GETTING WORSE WITH TIME. AFFECTING THE PATIENT ' S LIFE QUALITY. LS - SPINE X - RAY SHOWED SPONDYLOLISTHESIS AND SEVERE DEGENERATIVE CHANGES. MRI OF THE LUMBAR SPINE TECHNIQUE: Routine MRI of the lumbar spine. FINDINGS: There is a defect in the pars interarticularis of L5 bilaterally with grade 1 spondylolytic spondylolisthesis L5 on Integrated_Amplifier identified. Approximately 10 mm of anterolisthesis of L5 on S1 demonstrated. The alignment of the posterior margins of the rest the lumbar vertebrae maintained. There are Modic endplate changes present at the L5 - S1 level. There are focal lesions of T1 and T2 hyperintensity arising within the T12, L1 and L4 vertebral bodies likely representing small hemangiomas. Either osseous destructive lesion. No compression fracture. The spinal cord terminates at the T12 - L1 disc ulnar level with conus medullaris and cauda equina appearing normal. L3 - 4 level: Minor desiccation with borderline bulging with no focal protrude with facet joint hypertrophy with no nerve root impingement. L4 - 5 DXP_leverages: There is borderline narrowing and desiccation of the L4 - 5 intervertebral disc. Shallow broad - based posterior protrusion of the L4 - 5 intervertebral disc identified. There is facet joint and ligamentum flavum hypertrophy. There is minor tapering of the lateral recess bilaterally with no significant central stenosis and there is no significant neural foraminal stenosis seen. L5 - S1 level: Grade 1 spondylitic spondylolisthesis L5 on S1. 10 mm of anterolisthesis L5 on S1 uncovering of the posterior aspect of Rink_Rap intervertebral disc with annular bulging. Facet joint hypertrophy. Bilateral neural foraminal stenosis more pronounced on the right. There is some degree of thickening of the right L5 nerve root most likely due to chronic irritation. Disc osseous complex does abut the transiting S1 nerve roots bilaterally with no compression. IMPRESSION: Grade 1 spondylitic spinal listhesis L5 and S1 with bilateral pars defects of L5 demonstrated. Uncovering of the posterior concept of the L5 - S1 intervertebral disc with posterior superior bulging with facet joint hypertrophy with Bilateral_Investment neural foraminal stenosis right greater than coolly_sidefooted and thickening of the right L5 nerve root. Early disc degeneration at the L3 - 4 level. No nerve root impingement. Shallow broad - based posterior protrusion of its L4 - 5 intervertebral disc with facet joint hypertrophy with no significant focal nerve root impingement. There is however mild tapering of the lateral recess bilaterally.\n"
     ]
    }
   ],
   "source": [
    "aug.aug_p=0.2\n",
    "print(\"Augmented Text:\")\n",
    "for ii in range(5):\n",
    "    augmented_text = aug.augment(text1)\n",
    "    print(augmented_text)"
   ]
  },
  {
   "cell_type": "code",
   "execution_count": 45,
   "id": "a78f69d6",
   "metadata": {},
   "outputs": [
    {
     "name": "stdout",
     "output_type": "stream",
     "text": [
      "Shape of train (647, 2)\n",
      "Shape of Validation  (115, 2)\n"
     ]
    }
   ],
   "source": [
    "train,valid=train_test_split(df2,test_size=0.15)\n",
    "print('Shape of train',train.shape)\n",
    "print(\"Shape of Validation \",valid.shape)"
   ]
  },
  {
   "cell_type": "code",
   "execution_count": 71,
   "id": "b7138512",
   "metadata": {},
   "outputs": [],
   "source": [
    "# Data Augmentation for positive labels\n",
    "from sklearn.utils import shuffle\n",
    "\n",
    "def augment_text(df,samples=300,pr=0.2):\n",
    "    aug.aug_p=pr\n",
    "    new_text=[]\n",
    "    \n",
    "    ##dropping samples from validation\n",
    "    df_n=df[df.Outcome==1].reset_index(drop=True)\n",
    "\n",
    "    ## data augmentation loop\n",
    "    for i in tqdm(np.random.randint(0,len(df_n),samples)):\n",
    "        \n",
    "            text = df_n.iloc[i]['mr_report']\n",
    "            augmented_text = aug.augment(text)\n",
    "            new_text.append(augmented_text)\n",
    "    \n",
    "    \n",
    "    ## dataframe\n",
    "    new=pd.DataFrame({'mr_report':new_text,'Outcome':1})\n",
    "    df=shuffle(df.append(new).reset_index(drop=True))\n",
    "    return df"
   ]
  },
  {
   "cell_type": "code",
   "execution_count": 47,
   "id": "27c5de01",
   "metadata": {},
   "outputs": [
    {
     "name": "stderr",
     "output_type": "stream",
     "text": [
      "100%|████████████████████████████████████████████████████████████████████████████████| 400/400 [24:14<00:00,  3.64s/it]\n"
     ]
    }
   ],
   "source": [
    "train = augment_text(train,samples=400)   ## change samples to 0 for no augmentation\n",
    "df2 = train.append(valid).reset_index(drop=True)"
   ]
  },
  {
   "cell_type": "code",
   "execution_count": 72,
   "id": "abe031b2",
   "metadata": {},
   "outputs": [
    {
     "data": {
      "text/plain": [
       "(1162, 3)"
      ]
     },
     "execution_count": 72,
     "metadata": {},
     "output_type": "execute_result"
    }
   ],
   "source": [
    "# New dataframe shape\n",
    "df2.shape\n"
   ]
  },
  {
   "cell_type": "code",
   "execution_count": 49,
   "id": "0a136aad",
   "metadata": {},
   "outputs": [],
   "source": [
    "df2.to_csv('Full_SACv2.csv')"
   ]
  },
  {
   "cell_type": "code",
   "execution_count": 73,
   "id": "01ff5e35",
   "metadata": {},
   "outputs": [
    {
     "data": {
      "image/png": "[encoded data removed]",
      "text/plain": [
       "<Figure size 432x288 with 1 Axes>"
      ]
     },
     "metadata": {},
     "output_type": "display_data"
    }
   ],
   "source": [
    "# No more class imbalance\n",
    "ax = sns.countplot(x=\"Outcome\", data=df2)"
   ]
  },
  {
   "cell_type": "code",
   "execution_count": 51,
   "id": "f1bd7d1a",
   "metadata": {},
   "outputs": [
    {
     "data": {
      "text/html": [
       "<div>\n",
       "<style scoped>\n",
       "    .dataframe tbody tr th:only-of-type {\n",
       "        vertical-align: middle;\n",
       "    }\n",
       "\n",
       "    .dataframe tbody tr th {\n",
       "        vertical-align: top;\n",
       "    }\n",
       "\n",
       "    .dataframe thead th {\n",
       "        text-align: right;\n",
       "    }\n",
       "</style>\n",
       "<table border=\"1\" class=\"dataframe\">\n",
       "  <thead>\n",
       "    <tr style=\"text-align: right;\">\n",
       "      <th></th>\n",
       "      <th>Outcome</th>\n",
       "      <th>mr_report</th>\n",
       "      <th>text_clean</th>\n",
       "    </tr>\n",
       "  </thead>\n",
       "  <tbody>\n",
       "    <tr>\n",
       "      <th>0</th>\n",
       "      <td>0</td>\n",
       "      <td>Reason for Exam: CHRONIC, RECURRENT SEVERE LOWER BACKCAHE, STIFFNESS     NEVE ROOT IMPINGMENT?  ...</td>\n",
       "      <td>[reason, for, exam, chronic, recurrent, severe, lower, backcahe, stiffness, neve, root, impingme...</td>\n",
       "    </tr>\n",
       "    <tr>\n",
       "      <th>1</th>\n",
       "      <td>1</td>\n",
       "      <td>TECHNIQUE: Sagittal T1 and T2 images of the lumbosacral spine were obtained with axial T1 and T2...</td>\n",
       "      <td>[technique, sagittal, and, images, of, the, lumbosacral, spine, were, obtained, with, axial, and...</td>\n",
       "    </tr>\n",
       "    <tr>\n",
       "      <th>2</th>\n",
       "      <td>0</td>\n",
       "      <td>TECHNIQUE:    Noncontrast MRI of the lumbar spine protocol, with sagittal T1 and T2 sequences th...</td>\n",
       "      <td>[technique, noncontrast, mri, of, the, lumbar, spine, protocol, with, sagittal, and, sequences, ...</td>\n",
       "    </tr>\n",
       "    <tr>\n",
       "      <th>3</th>\n",
       "      <td>1</td>\n",
       "      <td>Narrative &amp; Impression MR LUMBAR SPINE Reason for Exam: PLEASSANT LADY WITH A PAST HX OF BREAST ...</td>\n",
       "      <td>[narrative, impression, mr, lumbar, spine, reason, for, exam, pleassant, lady, with, past, hx, o...</td>\n",
       "    </tr>\n",
       "    <tr>\n",
       "      <th>4</th>\n",
       "      <td>0</td>\n",
       "      <td>MR THORACIC SPINE          Reason for Exam: RECURRENT LOWER THORACIC AND LUMBAR PAIN x 1 YEAR.  ...</td>\n",
       "      <td>[mr, thoracic, spine, reason, for, exam, recurrent, lower, thoracic, and, lumbar, pain, year, ra...</td>\n",
       "    </tr>\n",
       "  </tbody>\n",
       "</table>\n",
       "</div>"
      ],
      "text/plain": [
       "   Outcome  \\\n",
       "0        0   \n",
       "1        1   \n",
       "2        0   \n",
       "3        1   \n",
       "4        0   \n",
       "\n",
       "                                                                                             mr_report  \\\n",
       "0  Reason for Exam: CHRONIC, RECURRENT SEVERE LOWER BACKCAHE, STIFFNESS     NEVE ROOT IMPINGMENT?  ...   \n",
       "1  TECHNIQUE: Sagittal T1 and T2 images of the lumbosacral spine were obtained with axial T1 and T2...   \n",
       "2  TECHNIQUE:    Noncontrast MRI of the lumbar spine protocol, with sagittal T1 and T2 sequences th...   \n",
       "3  Narrative & Impression MR LUMBAR SPINE Reason for Exam: PLEASSANT LADY WITH A PAST HX OF BREAST ...   \n",
       "4  MR THORACIC SPINE          Reason for Exam: RECURRENT LOWER THORACIC AND LUMBAR PAIN x 1 YEAR.  ...   \n",
       "\n",
       "                                                                                            text_clean  \n",
       "0  [reason, for, exam, chronic, recurrent, severe, lower, backcahe, stiffness, neve, root, impingme...  \n",
       "1  [technique, sagittal, and, images, of, the, lumbosacral, spine, were, obtained, with, axial, and...  \n",
       "2  [technique, noncontrast, mri, of, the, lumbar, spine, protocol, with, sagittal, and, sequences, ...  \n",
       "3  [narrative, impression, mr, lumbar, spine, reason, for, exam, pleassant, lady, with, past, hx, o...  \n",
       "4  [mr, thoracic, spine, reason, for, exam, recurrent, lower, thoracic, and, lumbar, pain, year, ra...  "
      ]
     },
     "execution_count": 51,
     "metadata": {},
     "output_type": "execute_result"
    }
   ],
   "source": [
    "df2['text_clean'] = df2['mr_report'].apply(lambda x: gensim.utils.simple_preprocess(x))\n",
    "df2.head()"
   ]
  },
  {
   "cell_type": "code",
   "execution_count": 62,
   "id": "0f3d4e5a",
   "metadata": {},
   "outputs": [],
   "source": [
    "X_train, X_test, y_train, y_test = train_test_split (df2['text_clean'], df2['Outcome'] , test_size=0.15)"
   ]
  },
  {
   "cell_type": "code",
   "execution_count": 63,
   "id": "b55fb703",
   "metadata": {},
   "outputs": [],
   "source": [
    "w2v_model = gensim.models.Word2Vec(X_train, vector_size=100, window=5, min_count=2)"
   ]
  },
  {
   "cell_type": "code",
   "execution_count": 64,
   "id": "80373a4b",
   "metadata": {},
   "outputs": [
    {
     "name": "stderr",
     "output_type": "stream",
     "text": [
      "C:\\Users\\zahin\\AppData\\Local\\Temp/ipykernel_3552/621311441.py:4: VisibleDeprecationWarning: Creating an ndarray from ragged nested sequences (which is a list-or-tuple of lists-or-tuples-or ndarrays with different lengths or shapes) is deprecated. If you meant to do this, you must specify 'dtype=object' when creating the ndarray.\n",
      "  X_train_vect = np.array([np.array([w2v_model.wv[i] for i in ls if i in words]) for ls in X_train])\n",
      "C:\\Users\\zahin\\AppData\\Local\\Temp/ipykernel_3552/621311441.py:5: VisibleDeprecationWarning: Creating an ndarray from ragged nested sequences (which is a list-or-tuple of lists-or-tuples-or ndarrays with different lengths or shapes) is deprecated. If you meant to do this, you must specify 'dtype=object' when creating the ndarray.\n",
      "  X_test_vect = np.array([np.array([w2v_model.wv[i] for i in ls if i in words]) for ls in X_test])\n"
     ]
    }
   ],
   "source": [
    "# Generate aggregated sentence vectors based on the word vectors for each word in the sentence\n",
    "\n",
    "words = set(w2v_model.wv.index_to_key )\n",
    "X_train_vect = np.array([np.array([w2v_model.wv[i] for i in ls if i in words]) for ls in X_train])\n",
    "X_test_vect = np.array([np.array([w2v_model.wv[i] for i in ls if i in words]) for ls in X_test])"
   ]
  },
  {
   "cell_type": "code",
   "execution_count": 65,
   "id": "ec82dcaa",
   "metadata": {},
   "outputs": [],
   "source": [
    "# Computing sentence vectors by averaging the word vectors for the words contained in the sentence\n",
    "\n",
    "X_train_vect_avg = []\n",
    "for v in X_train_vect:\n",
    "    if v.size:\n",
    "        X_train_vect_avg.append(v.mean(axis=0))\n",
    "    else:\n",
    "        X_train_vect_avg.append(np.zeros(100, dtype=float))\n",
    "        \n",
    "X_test_vect_avg = []\n",
    "for v in X_test_vect:\n",
    "    if v.size:\n",
    "        X_test_vect_avg.append(v.mean(axis=0))\n",
    "    else:\n",
    "        X_test_vect_avg.append(np.zeros(100, dtype=float))"
   ]
  },
  {
   "cell_type": "code",
   "execution_count": 66,
   "id": "094be86a",
   "metadata": {},
   "outputs": [
    {
     "name": "stdout",
     "output_type": "stream",
     "text": [
      "LR Accuracy Score ->  69.14285714285714\n",
      "F1-Score ->  0.6707317073170732\n"
     ]
    }
   ],
   "source": [
    "# fit the training dataset on the LR\n",
    "lr = LogisticRegressionCV(cv=5, max_iter = 10000, class_weight = 'balanced', random_state=0)\n",
    "lr.fit(X_train_vect_avg, y_train.values.ravel())\n",
    "\n",
    "# predicting the labels on validation dataset\n",
    "predictions_LR = lr.predict(X_test_vect_avg)\n",
    "\n",
    "print(\"LR Accuracy Score -> \",accuracy_score(predictions_LR, y_test)*100)\n",
    "print(\"F1-Score -> \",f1_score(predictions_LR, y_test))"
   ]
  },
  {
   "cell_type": "code",
   "execution_count": null,
   "id": "e346c167",
   "metadata": {},
   "outputs": [],
   "source": []
  }
 ],
 "metadata": {
  "kernelspec": {
   "display_name": "Python 3 (ipykernel)",
   "language": "python",
   "name": "python3"
  },
  "language_info": {
   "codemirror_mode": {
    "name": "ipython",
    "version": 3
   },
   "file_extension": ".py",
   "mimetype": "text/x-python",
   "name": "python",
   "nbconvert_exporter": "python",
   "pygments_lexer": "ipython3",
   "version": "3.9.7"
  }
 },
 "nbformat": 4,
 "nbformat_minor": 5
}
