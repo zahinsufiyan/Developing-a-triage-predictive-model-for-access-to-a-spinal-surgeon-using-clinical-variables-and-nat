{
 "cells": [
  {
   "cell_type": "code",
   "execution_count": 2,
   "id": "e533a60d",
   "metadata": {},
   "outputs": [
    {
     "ename": "ModuleNotFoundError",
     "evalue": "No module named 'tensorflow'",
     "output_type": "error",
     "traceback": [
      "\u001b[0;31m---------------------------------------------------------------------------\u001b[0m",
      "\u001b[0;31mModuleNotFoundError\u001b[0m                       Traceback (most recent call last)",
      "\u001b[1;32m/Users/shannon/Documents/CMPUT_690/spine-assessment-clinic/CMPUT_690_Project_BERT.ipynb Cell 1'\u001b[0m in \u001b[0;36m<cell line: 1>\u001b[0;34m()\u001b[0m\n\u001b[0;32m----> <a href='vscode-notebook-cell:/Users/shannon/Documents/CMPUT_690/spine-assessment-clinic/CMPUT_690_Project_BERT.ipynb#ch0000000?line=0'>1</a>\u001b[0m \u001b[39mimport\u001b[39;00m \u001b[39mtensorflow\u001b[39;00m \u001b[39mas\u001b[39;00m \u001b[39mtf\u001b[39;00m\n\u001b[1;32m      <a href='vscode-notebook-cell:/Users/shannon/Documents/CMPUT_690/spine-assessment-clinic/CMPUT_690_Project_BERT.ipynb#ch0000000?line=1'>2</a>\u001b[0m \u001b[39mimport\u001b[39;00m \u001b[39mtensorflow_hub\u001b[39;00m \u001b[39mas\u001b[39;00m \u001b[39mhub\u001b[39;00m\n\u001b[1;32m      <a href='vscode-notebook-cell:/Users/shannon/Documents/CMPUT_690/spine-assessment-clinic/CMPUT_690_Project_BERT.ipynb#ch0000000?line=2'>3</a>\u001b[0m \u001b[39mimport\u001b[39;00m \u001b[39mtensorflow_text\u001b[39;00m \u001b[39mas\u001b[39;00m \u001b[39mtext\u001b[39;00m\n",
      "\u001b[0;31mModuleNotFoundError\u001b[0m: No module named 'tensorflow'"
     ]
    }
   ],
   "source": [
    "import tensorflow as tf\n",
    "import tensorflow_hub as hub\n",
    "import tensorflow_text as text"
   ]
  },
  {
   "cell_type": "code",
   "execution_count": null,
   "id": "cf9c01e2",
   "metadata": {},
   "outputs": [],
   "source": []
  },
  {
   "cell_type": "code",
   "execution_count": null,
   "id": "a9bdb89c",
   "metadata": {},
   "outputs": [],
   "source": [
    "bert_preprocess = hub.KerasLayer(\"https://tfhub.dev/tensorflow/bert_en_uncased_preprocess/3\")\n",
    "bert_encoder = hub.KerasLayer(\"https://tfhub.dev/tensorflow/bert_en_uncased_L-12_H-768_A-12/4\")"
   ]
  },
  {
   "cell_type": "code",
   "execution_count": null,
   "id": "71e6b235",
   "metadata": {},
   "outputs": [],
   "source": [
    "import pandas as pd\n",
    "from sklearn.model_selection import train_test_split"
   ]
  },
  {
   "cell_type": "code",
   "execution_count": null,
   "id": "be25d576",
   "metadata": {},
   "outputs": [],
   "source": [
    "df = pd.read_csv(r\"D:\\E\\Baikka\\Project\\KEC SAC radiology data for CS 8.3.2022.csv\",encoding='utf-8')\n",
    "df['mr_report'] = df['mr_report'].astype(str)"
   ]
  },
  {
   "cell_type": "code",
   "execution_count": null,
   "id": "94172d01",
   "metadata": {},
   "outputs": [
    {
     "data": {
      "text/html": [
       "<div>\n",
       "<style scoped>\n",
       "    .dataframe tbody tr th:only-of-type {\n",
       "        vertical-align: middle;\n",
       "    }\n",
       "\n",
       "    .dataframe tbody tr th {\n",
       "        vertical-align: top;\n",
       "    }\n",
       "\n",
       "    .dataframe thead th {\n",
       "        text-align: right;\n",
       "    }\n",
       "</style>\n",
       "<table border=\"1\" class=\"dataframe\">\n",
       "  <thead>\n",
       "    <tr style=\"text-align: right;\">\n",
       "      <th></th>\n",
       "      <th>Outcome</th>\n",
       "      <th>mr_report</th>\n",
       "    </tr>\n",
       "  </thead>\n",
       "  <tbody>\n",
       "    <tr>\n",
       "      <th>0</th>\n",
       "      <td>0</td>\n",
       "      <td>Reason for Exam: CHRONIC LOWER BACK PAIN.  GET...</td>\n",
       "    </tr>\n",
       "    <tr>\n",
       "      <th>1</th>\n",
       "      <td>0</td>\n",
       "      <td>Reason for Exam: KNOWN MULTILEVEL DEGENERATIVE...</td>\n",
       "    </tr>\n",
       "    <tr>\n",
       "      <th>2</th>\n",
       "      <td>0</td>\n",
       "      <td>MR LUMBAR SPINE    Reason for Exam: PROGRESSIV...</td>\n",
       "    </tr>\n",
       "    <tr>\n",
       "      <th>3</th>\n",
       "      <td>0</td>\n",
       "      <td>MR CERVICAL SPINE    Reason for Exam: HAS HX O...</td>\n",
       "    </tr>\n",
       "    <tr>\n",
       "      <th>4</th>\n",
       "      <td>0</td>\n",
       "      <td>MRI lumbar spine     Comparison: No prior     ...</td>\n",
       "    </tr>\n",
       "  </tbody>\n",
       "</table>\n",
       "</div>"
      ],
      "text/plain": [
       "   Outcome                                          mr_report\n",
       "0        0  Reason for Exam: CHRONIC LOWER BACK PAIN.  GET...\n",
       "1        0  Reason for Exam: KNOWN MULTILEVEL DEGENERATIVE...\n",
       "2        0  MR LUMBAR SPINE    Reason for Exam: PROGRESSIV...\n",
       "3        0  MR CERVICAL SPINE    Reason for Exam: HAS HX O...\n",
       "4        0  MRI lumbar spine     Comparison: No prior     ..."
      ]
     },
     "execution_count": 12,
     "metadata": {},
     "output_type": "execute_result"
    }
   ],
   "source": [
    "df.head()"
   ]
  },
  {
   "cell_type": "code",
   "execution_count": null,
   "id": "0a14e168",
   "metadata": {},
   "outputs": [
    {
     "data": {
      "text/plain": [
       "142    Reason for Exam: R/O IMPINGEMENT SEVERE PAIN R...\n",
       "316    History: Right arm pain, weakness and numbness...\n",
       "212    Reason for Exam: NECK PAIN WITH WORSENING OF R...\n",
       "72     Reason for Exam: 1 MONTH HX OF PAIN RADIATING ...\n",
       "Name: mr_report, dtype: object"
      ]
     },
     "execution_count": 13,
     "metadata": {},
     "output_type": "execute_result"
    }
   ],
   "source": [
    "X_train, X_test, y_train, y_test = train_test_split(df['mr_report'],df['Outcome'], stratify=df['Outcome'])\n",
    "X_train.head(4)"
   ]
  },
  {
   "cell_type": "code",
   "execution_count": null,
   "id": "7f4b2dd9",
   "metadata": {},
   "outputs": [],
   "source": [
    "# Bert layers\n",
    "text_input = tf.keras.layers.Input(shape=(), dtype=tf.string, name='text')\n",
    "preprocessed_text = bert_preprocess(text_input)\n",
    "outputs = bert_encoder(preprocessed_text)\n",
    "\n",
    "# Neural network layers\n",
    "l = tf.keras.layers.Dropout(0.1, name=\"dropout\")(outputs['pooled_output'])\n",
    "l = tf.keras.layers.Dense(1, activation='sigmoid', name=\"output\")(l)\n",
    "\n",
    "# Use inputs and outputs to construct a final model\n",
    "model = tf.keras.Model(inputs=[text_input], outputs = [l])"
   ]
  },
  {
   "cell_type": "code",
   "execution_count": null,
   "id": "b4d6a4f2",
   "metadata": {},
   "outputs": [
    {
     "name": "stdout",
     "output_type": "stream",
     "text": [
      "Epoch 1/2\n",
      "9/9 [==============================] - 53s 5s/step - loss: 0.4829 - accuracy: 0.8273\n",
      "Epoch 2/2\n",
      "9/9 [==============================] - 44s 5s/step - loss: 0.4595 - accuracy: 0.8417\n"
     ]
    },
    {
     "data": {
      "text/plain": [
       "<keras.callbacks.History at 0x2af9f060220>"
      ]
     },
     "execution_count": 15,
     "metadata": {},
     "output_type": "execute_result"
    }
   ],
   "source": [
    "model.compile(optimizer='adam', loss='binary_crossentropy', metrics=['accuracy'])\n",
    "model.fit(X_train, y_train, epochs=2, batch_size = 32)"
   ]
  },
  {
   "cell_type": "code",
   "execution_count": null,
   "id": "af5c40bd",
   "metadata": {},
   "outputs": [
    {
     "name": "stdout",
     "output_type": "stream",
     "text": [
      "[0.12902561 0.10799339 0.1489943  0.10958728 0.12785512 0.15359366\n",
      " 0.12236315 0.10889408 0.10667577 0.10887396 0.10884365 0.13631803\n",
      " 0.11957696 0.09176418 0.10935745 0.11703837 0.12399232 0.14666778\n",
      " 0.17020515 0.11119166 0.10105175 0.11489993 0.12303671 0.11900082\n",
      " 0.11628246 0.1098333  0.11355963 0.11089167 0.12153462 0.11087748\n",
      " 0.1253325  0.15376154 0.14513978 0.11113068 0.1025767  0.12653339\n",
      " 0.13307104 0.09547913 0.13412371 0.11629295 0.12678683 0.1350261\n",
      " 0.12250009 0.13328579 0.12082794 0.14918372 0.14072093 0.12044653\n",
      " 0.13927028 0.115659   0.10242283 0.10629401 0.10756418 0.1713723\n",
      " 0.11397156 0.13143313 0.12987432 0.12911898 0.10530183 0.13270181\n",
      " 0.1727942  0.17298016 0.10355785 0.11688769 0.12946466 0.107728\n",
      " 0.15501672 0.1316188  0.11830351 0.0968731  0.09885541 0.13158682\n",
      " 0.12731162 0.11469534 0.14062062 0.1436153  0.13213447 0.11935875\n",
      " 0.16083208 0.12711576 0.12501052 0.12373018 0.13858604 0.12836272\n",
      " 0.1329805  0.09516835 0.13621691 0.10504806 0.12741715 0.12450475\n",
      " 0.13979164 0.10645407 0.11674413]\n"
     ]
    }
   ],
   "source": [
    "y_predicted = model.predict(X_test)\n",
    "y_predicted = y_predicted.flatten()\n",
    "print(y_predicted)"
   ]
  },
  {
   "cell_type": "code",
   "execution_count": null,
   "id": "21dc5e8a",
   "metadata": {},
   "outputs": [],
   "source": []
  }
 ],
 "metadata": {
  "kernelspec": {
   "display_name": "Python 3 (ipykernel)",
   "language": "python",
   "name": "python3"
  },
  "language_info": {
   "codemirror_mode": {
    "name": "ipython",
    "version": 3
   },
   "file_extension": ".py",
   "mimetype": "text/x-python",
   "name": "python",
   "nbconvert_exporter": "python",
   "pygments_lexer": "ipython3",
   "version": "3.10.2"
  }
 },
 "nbformat": 4,
 "nbformat_minor": 5
}
