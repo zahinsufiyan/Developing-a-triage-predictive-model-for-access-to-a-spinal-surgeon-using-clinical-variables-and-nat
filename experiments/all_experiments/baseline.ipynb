{
 "cells": [
  {
   "cell_type": "code",
   "execution_count": 9,
   "metadata": {},
   "outputs": [],
   "source": [
    "import numpy as np\n",
    "import pandas as pd\n",
    "from sklearn.feature_extraction.text import CountVectorizer, TfidfVectorizer\n",
    "from sklearn.dummy import DummyClassifier\n",
    "from sklearn.model_selection import KFold\n",
    "from sklearn.metrics import accuracy_score, precision_score, recall_score, f1_score"
   ]
  },
  {
   "cell_type": "code",
   "execution_count": 10,
   "metadata": {},
   "outputs": [],
   "source": [
    "random_state = 42\n",
    "np.random.seed(random_state)"
   ]
  },
  {
   "cell_type": "code",
   "execution_count": 11,
   "metadata": {},
   "outputs": [
    {
     "data": {
      "text/html": [
       "<div>\n",
       "<style scoped>\n",
       "    .dataframe tbody tr th:only-of-type {\n",
       "        vertical-align: middle;\n",
       "    }\n",
       "\n",
       "    .dataframe tbody tr th {\n",
       "        vertical-align: top;\n",
       "    }\n",
       "\n",
       "    .dataframe thead th {\n",
       "        text-align: right;\n",
       "    }\n",
       "</style>\n",
       "<table border=\"1\" class=\"dataframe\">\n",
       "  <thead>\n",
       "    <tr style=\"text-align: right;\">\n",
       "      <th></th>\n",
       "      <th>study_id</th>\n",
       "      <th>label</th>\n",
       "      <th>text</th>\n",
       "    </tr>\n",
       "  </thead>\n",
       "  <tbody>\n",
       "    <tr>\n",
       "      <th>0</th>\n",
       "      <td>2</td>\n",
       "      <td>0</td>\n",
       "      <td>Reason for Exam: CHRONIC LOWER BACK PAIN.  GET...</td>\n",
       "    </tr>\n",
       "    <tr>\n",
       "      <th>1</th>\n",
       "      <td>3</td>\n",
       "      <td>0</td>\n",
       "      <td>Reason for Exam: KNOWN MULTILEVEL DEGENERATIVE...</td>\n",
       "    </tr>\n",
       "    <tr>\n",
       "      <th>2</th>\n",
       "      <td>4</td>\n",
       "      <td>0</td>\n",
       "      <td>MR LUMBAR SPINE    Reason for Exam: PROGRESSIV...</td>\n",
       "    </tr>\n",
       "    <tr>\n",
       "      <th>3</th>\n",
       "      <td>5</td>\n",
       "      <td>0</td>\n",
       "      <td>MR CERVICAL SPINE    Reason for Exam: HAS HX O...</td>\n",
       "    </tr>\n",
       "    <tr>\n",
       "      <th>4</th>\n",
       "      <td>6</td>\n",
       "      <td>0</td>\n",
       "      <td>MRI lumbar spine     Comparison: No prior     ...</td>\n",
       "    </tr>\n",
       "  </tbody>\n",
       "</table>\n",
       "</div>"
      ],
      "text/plain": [
       "   study_id  label                                               text\n",
       "0         2      0  Reason for Exam: CHRONIC LOWER BACK PAIN.  GET...\n",
       "1         3      0  Reason for Exam: KNOWN MULTILEVEL DEGENERATIVE...\n",
       "2         4      0  MR LUMBAR SPINE    Reason for Exam: PROGRESSIV...\n",
       "3         5      0  MR CERVICAL SPINE    Reason for Exam: HAS HX O...\n",
       "4         6      0  MRI lumbar spine     Comparison: No prior     ..."
      ]
     },
     "execution_count": 11,
     "metadata": {},
     "output_type": "execute_result"
    }
   ],
   "source": [
    "data_path = \"KEC_SAC_radiology_data_for_CS_8.3.2022.csv\"\n",
    "data = pd.read_csv(data_path, header=0, names=[\"study_id\", \"label\", \"text\"])\n",
    "data.head()"
   ]
  },
  {
   "cell_type": "markdown",
   "metadata": {},
   "source": [
    "# Baseline Unigrams\n",
    "* Lowercase all words (distinction between uppercase and lowercase is not important)\n",
    "* Remove words that occur in more 90% of training texts (hopefully removes stop words such as 'a' and 'the' that don't provide much meaning)\n",
    "* Remove words that occur in less than 1% training texts (easy way to remove mispelled words)"
   ]
  },
  {
   "cell_type": "code",
   "execution_count": 12,
   "metadata": {},
   "outputs": [
    {
     "name": "stdout",
     "output_type": "stream",
     "text": [
      "Fold 1\n",
      "Accuracy -> 0.7200\n",
      "F1-Score -> 0.0000\n",
      "Precision -> 0.0000\n",
      "Recall -> 0.0000\n",
      "Fold 2\n",
      "Accuracy -> 0.8378\n",
      "F1-Score -> 0.4000\n",
      "Precision -> 0.5714\n",
      "Recall -> 0.3077\n",
      "Fold 3\n",
      "Accuracy -> 0.7027\n",
      "F1-Score -> 0.2143\n",
      "Precision -> 0.1765\n",
      "Recall -> 0.2727\n",
      "Fold 4\n",
      "Accuracy -> 0.6892\n",
      "F1-Score -> 0.0800\n",
      "Precision -> 0.0714\n",
      "Recall -> 0.0909\n",
      "Fold 5\n",
      "Accuracy -> 0.6757\n",
      "F1-Score -> 0.0000\n",
      "Precision -> 0.0000\n",
      "Recall -> 0.0000\n"
     ]
    }
   ],
   "source": [
    "k = 5\n",
    "fold = 0\n",
    "\n",
    "accuracy = 0\n",
    "f1 = 0\n",
    "precision = 0\n",
    "recall = 0\n",
    "\n",
    "folds = KFold(n_splits=k, random_state=random_state, shuffle=True)\n",
    "\n",
    "for train_index, test_index in folds.split(data['text'], data['label']):\n",
    "    fold += 1\n",
    "    X_train, Y_train = data['text'][train_index], data['label'][train_index]\n",
    "    X_test, Y_test = data['text'][test_index], data['label'][test_index]\n",
    "    \n",
    "    vectorizer = TfidfVectorizer(lowercase=True, max_df=0.90, min_df=0.01)\n",
    "\n",
    "    X_train = vectorizer.fit_transform(X_train)\n",
    "    X_test = vectorizer.transform(X_test)\n",
    "    \n",
    "    \n",
    "    dum = DummyClassifier(strategy='stratified', random_state=random_state)\n",
    "    dum = dum.fit(X_train, Y_train)\n",
    "    \n",
    "    Y_pred = dum.predict(X_test)\n",
    "    \n",
    "    accuracy += accuracy_score(Y_pred, Y_test)/k\n",
    "    f1 += f1_score(Y_pred, Y_test)/k\n",
    "    precision += precision_score(Y_pred, Y_test)/k\n",
    "    recall += recall_score(Y_pred, Y_test)/k\n",
    "    \n",
    "    print(f\"Fold {fold}\")\n",
    "    print(f\"Accuracy -> {accuracy_score(Y_pred, Y_test):0.4f}\")\n",
    "    print(f\"F1-Score -> {f1_score(Y_pred, Y_test):0.4f}\")\n",
    "    print(f\"Precision -> {precision_score(Y_pred, Y_test):0.4f}\")\n",
    "    print(f\"Recall -> {recall_score(Y_pred, Y_test):0.4f}\")\n"
   ]
  },
  {
   "cell_type": "code",
   "execution_count": 13,
   "metadata": {},
   "outputs": [
    {
     "name": "stdout",
     "output_type": "stream",
     "text": [
      "Accuracy -> 0.7251\n",
      "F1-Score -> 0.1389\n",
      "Precision -> 0.1639\n",
      "Recall -> 0.1343\n"
     ]
    }
   ],
   "source": [
    "print(f\"Accuracy -> {accuracy:0.4f}\")\n",
    "print(f\"F1-Score -> {f1:0.4f}\")\n",
    "print(f\"Precision -> {precision:0.4f}\")\n",
    "print(f\"Recall -> {recall:0.4f}\")"
   ]
  }
 ],
 "metadata": {
  "interpreter": {
   "hash": "aee8b7b246df8f9039afb4144a1f6fd8d2ca17a180786b69acc140d282b71a49"
  },
  "kernelspec": {
   "display_name": "Python 3.10.2 64-bit",
   "language": "python",
   "name": "python3"
  },
  "language_info": {
   "codemirror_mode": {
    "name": "ipython",
    "version": 3
   },
   "file_extension": ".py",
   "mimetype": "text/x-python",
   "name": "python",
   "nbconvert_exporter": "python",
   "pygments_lexer": "ipython3",
   "version": "3.10.2"
  },
  "orig_nbformat": 4
 },
 "nbformat": 4,
 "nbformat_minor": 2
}
