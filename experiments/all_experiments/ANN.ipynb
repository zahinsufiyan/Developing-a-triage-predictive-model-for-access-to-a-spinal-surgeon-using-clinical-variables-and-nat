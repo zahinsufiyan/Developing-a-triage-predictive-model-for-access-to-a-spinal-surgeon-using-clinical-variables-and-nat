{
 "cells": [
  {
   "cell_type": "code",
   "execution_count": 197,
   "metadata": {},
   "outputs": [],
   "source": [
    "import numpy as np\n",
    "import pandas as pd\n",
    "from sklearn.neural_network import MLPClassifier\n",
    "from sklearn.feature_extraction.text import CountVectorizer, TfidfVectorizer\n",
    "from sklearn.linear_model import LogisticRegression\n",
    "from sklearn.svm import SVC\n",
    "from sklearn.model_selection import KFold\n",
    "from sklearn.metrics import accuracy_score, precision_score, recall_score, f1_score"
   ]
  },
  {
   "cell_type": "code",
   "execution_count": 198,
   "metadata": {},
   "outputs": [],
   "source": [
    "random_state = 42\n",
    "np.random.seed(random_state)"
   ]
  },
  {
   "cell_type": "code",
   "execution_count": 199,
   "metadata": {},
   "outputs": [
    {
     "data": {
      "text/html": [
       "<div>\n",
       "<style scoped>\n",
       "    .dataframe tbody tr th:only-of-type {\n",
       "        vertical-align: middle;\n",
       "    }\n",
       "\n",
       "    .dataframe tbody tr th {\n",
       "        vertical-align: top;\n",
       "    }\n",
       "\n",
       "    .dataframe thead th {\n",
       "        text-align: right;\n",
       "    }\n",
       "</style>\n",
       "<table border=\"1\" class=\"dataframe\">\n",
       "  <thead>\n",
       "    <tr style=\"text-align: right;\">\n",
       "      <th></th>\n",
       "      <th>study_id</th>\n",
       "      <th>label</th>\n",
       "      <th>text</th>\n",
       "    </tr>\n",
       "  </thead>\n",
       "  <tbody>\n",
       "    <tr>\n",
       "      <th>0</th>\n",
       "      <td>2</td>\n",
       "      <td>0</td>\n",
       "      <td>Reason for Exam: CHRONIC LOWER BACK PAIN.  GET...</td>\n",
       "    </tr>\n",
       "    <tr>\n",
       "      <th>1</th>\n",
       "      <td>3</td>\n",
       "      <td>0</td>\n",
       "      <td>Reason for Exam: KNOWN MULTILEVEL DEGENERATIVE...</td>\n",
       "    </tr>\n",
       "    <tr>\n",
       "      <th>2</th>\n",
       "      <td>4</td>\n",
       "      <td>0</td>\n",
       "      <td>MR LUMBAR SPINE    Reason for Exam: PROGRESSIV...</td>\n",
       "    </tr>\n",
       "    <tr>\n",
       "      <th>3</th>\n",
       "      <td>5</td>\n",
       "      <td>0</td>\n",
       "      <td>MR CERVICAL SPINE    Reason for Exam: HAS HX O...</td>\n",
       "    </tr>\n",
       "    <tr>\n",
       "      <th>4</th>\n",
       "      <td>6</td>\n",
       "      <td>0</td>\n",
       "      <td>MRI lumbar spine     Comparison: No prior     ...</td>\n",
       "    </tr>\n",
       "  </tbody>\n",
       "</table>\n",
       "</div>"
      ],
      "text/plain": [
       "   study_id  label                                               text\n",
       "0         2      0  Reason for Exam: CHRONIC LOWER BACK PAIN.  GET...\n",
       "1         3      0  Reason for Exam: KNOWN MULTILEVEL DEGENERATIVE...\n",
       "2         4      0  MR LUMBAR SPINE    Reason for Exam: PROGRESSIV...\n",
       "3         5      0  MR CERVICAL SPINE    Reason for Exam: HAS HX O...\n",
       "4         6      0  MRI lumbar spine     Comparison: No prior     ..."
      ]
     },
     "execution_count": 199,
     "metadata": {},
     "output_type": "execute_result"
    }
   ],
   "source": [
    "data_path = \"KEC_SAC_radiology_data_for_CS_8.3.2022.csv\"\n",
    "data = pd.read_csv(data_path, header=0, names=[\"study_id\", \"label\", \"text\"])\n",
    "data.head()"
   ]
  },
  {
   "cell_type": "code",
   "execution_count": 200,
   "metadata": {},
   "outputs": [
    {
     "name": "stdout",
     "output_type": "stream",
     "text": [
      "Fold 1\n",
      "Accuracy -> 0.7333\n",
      "F1-Score -> 0.1667\n",
      "Precision -> 0.2500\n",
      "Recall -> 0.1250\n",
      "Fold 2\n",
      "Accuracy -> 0.8649\n",
      "F1-Score -> 0.2857\n",
      "Precision -> 0.2857\n",
      "Recall -> 0.2857\n",
      "Fold 3\n",
      "Accuracy -> 0.8108\n",
      "F1-Score -> 0.4167\n",
      "Precision -> 0.2941\n",
      "Recall -> 0.7143\n",
      "Fold 4\n",
      "Accuracy -> 0.7973\n",
      "F1-Score -> 0.5161\n",
      "Precision -> 0.5714\n",
      "Recall -> 0.4706\n",
      "Fold 5\n",
      "Accuracy -> 0.7703\n",
      "F1-Score -> 0.1905\n",
      "Precision -> 0.1538\n",
      "Recall -> 0.2500\n"
     ]
    }
   ],
   "source": [
    "k = 5\n",
    "fold = 0\n",
    "\n",
    "accuracy = 0\n",
    "f1 = 0\n",
    "precision = 0\n",
    "recall = 0\n",
    "\n",
    "folds = KFold(n_splits=k, random_state=random_state, shuffle=True)\n",
    "\n",
    "for train_index, test_index in folds.split(data['text'], data['label']):\n",
    "    fold += 1\n",
    "    X_train, Y_train = data['text'][train_index], data['label'][train_index]\n",
    "    X_test, Y_test = data['text'][test_index], data['label'][test_index]\n",
    "    \n",
    "    vectorizer = CountVectorizer(max_features = 500, lowercase=True, max_df=0.90, min_df=0.01)\n",
    "\n",
    "    X_train = vectorizer.fit_transform(X_train)\n",
    "    X_test = vectorizer.transform(X_test)\n",
    "    \n",
    "    # lr = LogisticRegression(penalty='l1', solver='liblinear', C=0.16, random_state=random_state, class_weight='balanced')\n",
    "    # lr.fit(X_train, Y_train)\n",
    "    # Y_pred_lr = lr.predict(X_test)\n",
    "    \n",
    "    \n",
    "    # SVM = SVC(C=9, kernel='linear', degree=3, gamma='auto')\n",
    "    # SVM.fit(X_train, Y_train)\n",
    "    # Y_pred_SVM = SVM.predict(X_test)\n",
    "    \n",
    "    ANN = MLPClassifier(solver='lbfgs', hidden_layer_sizes = (50,), learning_rate_init = 0.00003, random_state=random_state)\n",
    "    ANN.fit(X_train, Y_train)\n",
    "    Y_pred = ANN.predict(X_test)\n",
    "    \n",
    "    accuracy += accuracy_score(Y_pred, Y_test)/k\n",
    "    f1 += f1_score(Y_pred, Y_test)/k\n",
    "    precision += precision_score(Y_pred, Y_test)/k\n",
    "    recall += recall_score(Y_pred, Y_test)/k\n",
    "    \n",
    "    print(f\"Fold {fold}\")\n",
    "    print(f\"Accuracy -> {accuracy_score(Y_pred, Y_test):0.4f}\")\n",
    "    print(f\"F1-Score -> {f1_score(Y_pred, Y_test):0.4f}\")\n",
    "    print(f\"Precision -> {precision_score(Y_pred, Y_test):0.4f}\")\n",
    "    print(f\"Recall -> {recall_score(Y_pred, Y_test):0.4f}\")\n"
   ]
  },
  {
   "cell_type": "code",
   "execution_count": 201,
   "metadata": {},
   "outputs": [
    {
     "name": "stdout",
     "output_type": "stream",
     "text": [
      "Accuracy -> 0.7953\n",
      "F1-Score -> 0.3151\n",
      "Precision -> 0.3110\n",
      "Recall -> 0.3691\n"
     ]
    }
   ],
   "source": [
    "print(f\"Accuracy -> {accuracy:0.4f}\")\n",
    "print(f\"F1-Score -> {f1:0.4f}\")\n",
    "print(f\"Precision -> {precision:0.4f}\")\n",
    "print(f\"Recall -> {recall:0.4f}\")"
   ]
  }
 ],
 "metadata": {
  "interpreter": {
   "hash": "aee8b7b246df8f9039afb4144a1f6fd8d2ca17a180786b69acc140d282b71a49"
  },
  "kernelspec": {
   "display_name": "Python 3.10.2 64-bit",
   "language": "python",
   "name": "python3"
  },
  "language_info": {
   "codemirror_mode": {
    "name": "ipython",
    "version": 3
   },
   "file_extension": ".py",
   "mimetype": "text/x-python",
   "name": "python",
   "nbconvert_exporter": "python",
   "pygments_lexer": "ipython3",
   "version": "3.10.2"
  },
  "orig_nbformat": 4
 },
 "nbformat": 4,
 "nbformat_minor": 2
}
