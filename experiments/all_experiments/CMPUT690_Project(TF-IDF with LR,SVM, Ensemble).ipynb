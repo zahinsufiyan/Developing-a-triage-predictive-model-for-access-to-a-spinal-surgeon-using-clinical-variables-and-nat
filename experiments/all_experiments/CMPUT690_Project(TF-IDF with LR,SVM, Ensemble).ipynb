{
 "cells": [
  {
   "cell_type": "code",
   "execution_count": 1,
   "id": "36bc0e47",
   "metadata": {},
   "outputs": [],
   "source": [
    "import pandas as pd\n",
    "import numpy as np\n",
    "from nltk.tokenize import word_tokenize\n",
    "from nltk import pos_tag\n",
    "from nltk.corpus import stopwords\n",
    "from nltk.stem import WordNetLemmatizer\n",
    "from sklearn.preprocessing import LabelEncoder\n",
    "from collections import defaultdict\n",
    "from nltk.corpus import wordnet as wn\n",
    "from sklearn.feature_extraction.text import TfidfVectorizer\n",
    "from sklearn import model_selection, naive_bayes, svm\n",
    "from sklearn.metrics import accuracy_score, precision_score, recall_score\n",
    "from sklearn.metrics import f1_score\n",
    "from sklearn.linear_model import LogisticRegressionCV\n",
    "from sklearn.linear_model import LogisticRegression\n",
    "from sklearn.ensemble import VotingClassifier"
   ]
  },
  {
   "cell_type": "code",
   "execution_count": 2,
   "id": "9152a3da",
   "metadata": {},
   "outputs": [
    {
     "name": "stderr",
     "output_type": "stream",
     "text": [
      "[nltk_data] Error loading stopwords: <urlopen error [SSL:\n",
      "[nltk_data]     CERTIFICATE_VERIFY_FAILED] certificate verify failed:\n",
      "[nltk_data]     unable to get local issuer certificate (_ssl.c:997)>\n"
     ]
    },
    {
     "data": {
      "text/plain": [
       "False"
      ]
     },
     "execution_count": 2,
     "metadata": {},
     "output_type": "execute_result"
    }
   ],
   "source": [
    "import nltk\n",
    "nltk.download('stopwords')"
   ]
  },
  {
   "cell_type": "code",
   "execution_count": 3,
   "id": "6fbfd9c5",
   "metadata": {},
   "outputs": [],
   "source": [
    "np.random.seed(100)"
   ]
  },
  {
   "cell_type": "code",
   "execution_count": 4,
   "id": "fb510b9b",
   "metadata": {},
   "outputs": [],
   "source": [
    "df = pd.read_csv(\"KEC_SAC_radiology_data_for_CS_8.3.2022.csv\", header=0, names=[\"study_id\", \"label\", \"mr_report\"])"
   ]
  },
  {
   "cell_type": "code",
   "execution_count": 5,
   "id": "791a2a15",
   "metadata": {},
   "outputs": [
    {
     "data": {
      "text/html": [
       "<div>\n",
       "<style scoped>\n",
       "    .dataframe tbody tr th:only-of-type {\n",
       "        vertical-align: middle;\n",
       "    }\n",
       "\n",
       "    .dataframe tbody tr th {\n",
       "        vertical-align: top;\n",
       "    }\n",
       "\n",
       "    .dataframe thead th {\n",
       "        text-align: right;\n",
       "    }\n",
       "</style>\n",
       "<table border=\"1\" class=\"dataframe\">\n",
       "  <thead>\n",
       "    <tr style=\"text-align: right;\">\n",
       "      <th></th>\n",
       "      <th>study_id</th>\n",
       "      <th>label</th>\n",
       "      <th>mr_report</th>\n",
       "    </tr>\n",
       "  </thead>\n",
       "  <tbody>\n",
       "    <tr>\n",
       "      <th>0</th>\n",
       "      <td>2</td>\n",
       "      <td>0</td>\n",
       "      <td>Reason for Exam: CHRONIC LOWER BACK PAIN.  GET...</td>\n",
       "    </tr>\n",
       "    <tr>\n",
       "      <th>1</th>\n",
       "      <td>3</td>\n",
       "      <td>0</td>\n",
       "      <td>Reason for Exam: KNOWN MULTILEVEL DEGENERATIVE...</td>\n",
       "    </tr>\n",
       "    <tr>\n",
       "      <th>2</th>\n",
       "      <td>4</td>\n",
       "      <td>0</td>\n",
       "      <td>MR LUMBAR SPINE    Reason for Exam: PROGRESSIV...</td>\n",
       "    </tr>\n",
       "    <tr>\n",
       "      <th>3</th>\n",
       "      <td>5</td>\n",
       "      <td>0</td>\n",
       "      <td>MR CERVICAL SPINE    Reason for Exam: HAS HX O...</td>\n",
       "    </tr>\n",
       "    <tr>\n",
       "      <th>4</th>\n",
       "      <td>6</td>\n",
       "      <td>0</td>\n",
       "      <td>MRI lumbar spine     Comparison: No prior     ...</td>\n",
       "    </tr>\n",
       "  </tbody>\n",
       "</table>\n",
       "</div>"
      ],
      "text/plain": [
       "   study_id  label                                          mr_report\n",
       "0         2      0  Reason for Exam: CHRONIC LOWER BACK PAIN.  GET...\n",
       "1         3      0  Reason for Exam: KNOWN MULTILEVEL DEGENERATIVE...\n",
       "2         4      0  MR LUMBAR SPINE    Reason for Exam: PROGRESSIV...\n",
       "3         5      0  MR CERVICAL SPINE    Reason for Exam: HAS HX O...\n",
       "4         6      0  MRI lumbar spine     Comparison: No prior     ..."
      ]
     },
     "execution_count": 5,
     "metadata": {},
     "output_type": "execute_result"
    }
   ],
   "source": [
    "df.head()"
   ]
  },
  {
   "cell_type": "code",
   "execution_count": 6,
   "id": "8625c397",
   "metadata": {},
   "outputs": [
    {
     "name": "stdout",
     "output_type": "stream",
     "text": [
      "[368 203   1  27 151   7  67 296 120  72  18  61 329  93 352 209 243 132\n",
      " 344 255 119 164 337  88 303 274 247  49 356 184 258 238 275 229 193 141\n",
      " 159 331 224 148 291 227 200 262 239 264 307 150 283 195  15  78 191 237\n",
      " 363 325 144 277 235 103 189 306 340  23 261  10 280  59 179  74 328 210\n",
      "  19 297  42  66 215 154 302 330 231  41 312  33 241 216 315 202 113  68\n",
      " 350 300 319 318 100  32 259 339  57  26 305 263 295  30 130 171 349   3\n",
      " 206 167 341 260  52  51 111 114 268 310 234 198 147  70 192 115 250 270\n",
      "  95 133  38 162 348  98 246 240  45 102]\n"
     ]
    },
    {
     "data": {
      "text/plain": [
       "(235, 4)"
      ]
     },
     "execution_count": 6,
     "metadata": {},
     "output_type": "execute_result"
    }
   ],
   "source": [
    "# dropiing few negative outcomes to maintain balance\n",
    "remove_n = 136\n",
    "drop_indices = np.random.choice(df[(df.label == 0)].index, remove_n, replace=False)\n",
    "print(drop_indices)\n",
    "df2 = df.drop(drop_indices)\n",
    "df2.reset_index(inplace=True)\n",
    "df2.shape"
   ]
  },
  {
   "cell_type": "code",
   "execution_count": 7,
   "id": "f3cedf1b",
   "metadata": {},
   "outputs": [
    {
     "data": {
      "text/html": [
       "<div>\n",
       "<style scoped>\n",
       "    .dataframe tbody tr th:only-of-type {\n",
       "        vertical-align: middle;\n",
       "    }\n",
       "\n",
       "    .dataframe tbody tr th {\n",
       "        vertical-align: top;\n",
       "    }\n",
       "\n",
       "    .dataframe thead th {\n",
       "        text-align: right;\n",
       "    }\n",
       "</style>\n",
       "<table border=\"1\" class=\"dataframe\">\n",
       "  <thead>\n",
       "    <tr style=\"text-align: right;\">\n",
       "      <th></th>\n",
       "      <th>index</th>\n",
       "      <th>study_id</th>\n",
       "      <th>label</th>\n",
       "      <th>mr_report</th>\n",
       "    </tr>\n",
       "  </thead>\n",
       "  <tbody>\n",
       "    <tr>\n",
       "      <th>0</th>\n",
       "      <td>0</td>\n",
       "      <td>2</td>\n",
       "      <td>0</td>\n",
       "      <td>Reason for Exam: CHRONIC LOWER BACK PAIN.  GET...</td>\n",
       "    </tr>\n",
       "    <tr>\n",
       "      <th>1</th>\n",
       "      <td>2</td>\n",
       "      <td>4</td>\n",
       "      <td>0</td>\n",
       "      <td>MR LUMBAR SPINE    Reason for Exam: PROGRESSIV...</td>\n",
       "    </tr>\n",
       "    <tr>\n",
       "      <th>2</th>\n",
       "      <td>4</td>\n",
       "      <td>6</td>\n",
       "      <td>0</td>\n",
       "      <td>MRI lumbar spine     Comparison: No prior     ...</td>\n",
       "    </tr>\n",
       "    <tr>\n",
       "      <th>3</th>\n",
       "      <td>5</td>\n",
       "      <td>7</td>\n",
       "      <td>0</td>\n",
       "      <td>MRI CERVICAL SPINE  HISTORY: Sensory changes w...</td>\n",
       "    </tr>\n",
       "    <tr>\n",
       "      <th>4</th>\n",
       "      <td>6</td>\n",
       "      <td>8</td>\n",
       "      <td>0</td>\n",
       "      <td>Reason for Exam: LOW BACK PAIN, PAIN AND NUMBN...</td>\n",
       "    </tr>\n",
       "    <tr>\n",
       "      <th>...</th>\n",
       "      <td>...</td>\n",
       "      <td>...</td>\n",
       "      <td>...</td>\n",
       "      <td>...</td>\n",
       "    </tr>\n",
       "    <tr>\n",
       "      <th>230</th>\n",
       "      <td>365</td>\n",
       "      <td>491</td>\n",
       "      <td>0</td>\n",
       "      <td>Technique: MRI lumbar spine routine protocol w...</td>\n",
       "    </tr>\n",
       "    <tr>\n",
       "      <th>231</th>\n",
       "      <td>366</td>\n",
       "      <td>493</td>\n",
       "      <td>0</td>\n",
       "      <td>Reason for Exam: LONG STANDING H/O LOWER BACK ...</td>\n",
       "    </tr>\n",
       "    <tr>\n",
       "      <th>232</th>\n",
       "      <td>367</td>\n",
       "      <td>494</td>\n",
       "      <td>0</td>\n",
       "      <td>TECHNIQUE: Sagittal T2, sagittal T1, axial T2,...</td>\n",
       "    </tr>\n",
       "    <tr>\n",
       "      <th>233</th>\n",
       "      <td>369</td>\n",
       "      <td>498</td>\n",
       "      <td>0</td>\n",
       "      <td>Reason for Exam: CERVICAL RADICULOPATHY. PAIN ...</td>\n",
       "    </tr>\n",
       "    <tr>\n",
       "      <th>234</th>\n",
       "      <td>370</td>\n",
       "      <td>499</td>\n",
       "      <td>0</td>\n",
       "      <td>Reason for Exam: CHRONIC BACK PAIN X 9 YEARS, ...</td>\n",
       "    </tr>\n",
       "  </tbody>\n",
       "</table>\n",
       "<p>235 rows × 4 columns</p>\n",
       "</div>"
      ],
      "text/plain": [
       "     index  study_id  label                                          mr_report\n",
       "0        0         2      0  Reason for Exam: CHRONIC LOWER BACK PAIN.  GET...\n",
       "1        2         4      0  MR LUMBAR SPINE    Reason for Exam: PROGRESSIV...\n",
       "2        4         6      0  MRI lumbar spine     Comparison: No prior     ...\n",
       "3        5         7      0  MRI CERVICAL SPINE  HISTORY: Sensory changes w...\n",
       "4        6         8      0  Reason for Exam: LOW BACK PAIN, PAIN AND NUMBN...\n",
       "..     ...       ...    ...                                                ...\n",
       "230    365       491      0  Technique: MRI lumbar spine routine protocol w...\n",
       "231    366       493      0  Reason for Exam: LONG STANDING H/O LOWER BACK ...\n",
       "232    367       494      0  TECHNIQUE: Sagittal T2, sagittal T1, axial T2,...\n",
       "233    369       498      0  Reason for Exam: CERVICAL RADICULOPATHY. PAIN ...\n",
       "234    370       499      0  Reason for Exam: CHRONIC BACK PAIN X 9 YEARS, ...\n",
       "\n",
       "[235 rows x 4 columns]"
      ]
     },
     "execution_count": 7,
     "metadata": {},
     "output_type": "execute_result"
    }
   ],
   "source": [
    "df2[:300]"
   ]
  },
  {
   "cell_type": "markdown",
   "id": "f14394dc",
   "metadata": {},
   "source": [
    "# Data pre-processing"
   ]
  },
  {
   "cell_type": "code",
   "execution_count": 8,
   "id": "37bfa276",
   "metadata": {},
   "outputs": [],
   "source": [
    "# Removing blank rows if any.\n",
    "df['mr_report'].dropna(inplace=True)"
   ]
  },
  {
   "cell_type": "code",
   "execution_count": 9,
   "id": "3b5e9075",
   "metadata": {},
   "outputs": [],
   "source": [
    "# Changing all the text to lower case.\n",
    "df2['mr_report'] = [entry.lower() for entry in df2['mr_report']]"
   ]
  },
  {
   "cell_type": "code",
   "execution_count": 10,
   "id": "4559e18b",
   "metadata": {},
   "outputs": [],
   "source": [
    "# Tokenization : Each entry in the mri_report will be broken into set of words\n",
    "df2['mr_report']= [word_tokenize(entry) for entry in df2['mr_report']]"
   ]
  },
  {
   "cell_type": "code",
   "execution_count": 11,
   "id": "fd221b97",
   "metadata": {},
   "outputs": [],
   "source": [
    "# Removing Stop words, Non-Numeric and perfom Word Stemming/Lemmenting\n",
    "\n",
    "# WordNetLemmatizer requires Pos tags to understand if the word is noun or verb or adjective etc. By default it is set to Noun\n",
    "tag_map = defaultdict(lambda : wn.NOUN)\n",
    "tag_map['J'] = wn.ADJ\n",
    "tag_map['V'] = wn.VERB\n",
    "tag_map['R'] = wn.ADV\n",
    "\n",
    "\n",
    "\n",
    "for index,entry in enumerate(df2['mr_report']):\n",
    "    # Declaring Empty List to store the words that follow the rules for this step\n",
    "    Final_words = []\n",
    "    # Initializing WordNetLemmatizer()\n",
    "    word_Lemmatized = WordNetLemmatizer()\n",
    "    # pos_tag function below will provide the 'tag' i.e if the word is Noun(N) or Verb(V) or something else.\n",
    "    for word, tag in pos_tag(entry):\n",
    "        # Below condition is to check for Stop words and consider only alphabets\n",
    "        if word not in stopwords.words('english') and word.isalpha():\n",
    "            word_Final = word_Lemmatized.lemmatize(word,tag_map[tag[0]])\n",
    "            Final_words.append(word_Final)\n",
    "    # The final processed set of words for each iteration will be stored in 'text_final'\n",
    "    df2.loc[index,'text_final'] = str(Final_words)"
   ]
  },
  {
   "cell_type": "code",
   "execution_count": 12,
   "id": "b3f1bb5b",
   "metadata": {},
   "outputs": [],
   "source": [
    "Train_X, Test_X, Train_Y, Test_Y = model_selection.train_test_split(df2['text_final'],df2['label'],test_size=0.2)"
   ]
  },
  {
   "cell_type": "code",
   "execution_count": 13,
   "id": "1bba99df",
   "metadata": {},
   "outputs": [
    {
     "name": "stdout",
     "output_type": "stream",
     "text": [
      "170    ['mr', 'lumbar', 'spine', 'reason', 'exam', 'o...\n",
      "110    ['ct', 'lumbar', 'spine', 'imaging', 'obtain',...\n",
      "148    ['history', 'pathology', 'low', 'back', 'pain'...\n",
      "29     ['mr', 'lumbar', 'spine', 'location', 'exam', ...\n",
      "135    ['procedure', 'date', 'procedure', 'name', 'mr...\n",
      "199    ['history', 'right', 'arm', 'pain', 'weakness'...\n",
      "53     ['mri', 'lumbar', 'spine', 'history', 'increas...\n",
      "106    ['technique', 'sagittal', 'imaging', 'cervical...\n",
      "172    ['mr', 'lumbar', 'spine', 'reason', 'exam', 'w...\n",
      "224    ['technique', 'routine', 'non', 'enhance', 'pr...\n",
      "Name: text_final, dtype: object\n"
     ]
    }
   ],
   "source": [
    "print(Train_X[:10])"
   ]
  },
  {
   "cell_type": "code",
   "execution_count": 14,
   "id": "398fc57e",
   "metadata": {},
   "outputs": [
    {
     "name": "stdout",
     "output_type": "stream",
     "text": [
      "170    1\n",
      "110    0\n",
      "148    0\n",
      "29     0\n",
      "135    0\n",
      "199    1\n",
      "53     1\n",
      "106    1\n",
      "172    0\n",
      "224    0\n",
      "Name: label, dtype: int64\n"
     ]
    }
   ],
   "source": [
    "print(Train_Y[:10])"
   ]
  },
  {
   "cell_type": "code",
   "execution_count": 15,
   "id": "073e6e1b",
   "metadata": {},
   "outputs": [],
   "source": [
    "# Term Frequency: This summarizes how often a given word appears within a document\n",
    "# Inverse Document Frequency: This down scales words that appear a lot across documents.\n",
    "\n",
    "# fit the TG-IDF model on the whole mri_report. \n",
    "# This will help TF-IDF build a vocabulary of words which it has learned from the MRI data \n",
    "# and it will assign a unique integer number to each of these words.\n",
    "\n",
    "\n",
    "Tfidf_vect = TfidfVectorizer(max_features=5000)\n",
    "Tfidf_vect.fit(Train_X)\n",
    "\n",
    "# Finally we will transform Train_X and Test_X to vectorized Train_X_Tfidf and Test_X_Tfidf\n",
    "# Each row will be a list of unique integer number and its associated importance calculated by TF-IDF.\n",
    "Train_X_Tfidf = Tfidf_vect.transform(Train_X)\n",
    "Test_X_Tfidf = Tfidf_vect.transform(Test_X)"
   ]
  },
  {
   "cell_type": "code",
   "execution_count": 16,
   "id": "170c7dcc",
   "metadata": {},
   "outputs": [
    {
     "name": "stdout",
     "output_type": "stream",
     "text": [
      "{'mr': 959, 'lumbar': 870, 'spine': 1471, 'reason': 1269, 'exam': 525, 'ongoing': 1057, 'radicular': 1255, 'sx': 1554, 'symptom': 1558, 'left': 816, 'foot': 599, 'leg': 818, 'surgical': 1544, 'target': 1568, 'intervention': 759, 'history': 676, 'radiate': 1250, 'technique': 1573, 'sagittal': 1366, 'axial': 144, 'sequence': 1402, 'acquire': 15, 'comparison': 261, 'january': 784, 'finding': 579, 'vertebral': 1702, 'body': 167, 'normal': 1026, 'alignment': 48, 'height': 655, 'maintain': 879, 'marrow': 894, 'signal': 1430, 'conus': 313, 'end': 499, 'significant': 1432, 'abnormality': 3, 'spinal': 1470, 'canal': 197, 'neural': 999, 'foramen': 600, 'widely': 1734, 'patent': 1116, 'minor': 942, 'loss': 864, 'disc': 437, 'desiccation': 399, 'posterior': 1173, 'protrusion': 1229, 'impinge': 708, 'anterior': 74, 'aspect': 117, 'thecal': 1585, 'sac': 1357, 'ap': 86, 'diameter': 424, 'mildly': 936, 'narrow': 985, 'stenosis': 1498, 'mild': 934, 'narrowing': 987, 'right': 1342, 'lateral': 807, 'recess': 1276, 'focal': 595, 'nerve': 997, 'root': 1348, 'compromise': 276, 'due': 464, 'far': 559, 'extension': 542, 'osteophyte': 1074, 'advance': 34, 'slightly': 1451, 'previous': 1201, 'prominent': 1221, 'leave': 815, 'identify': 698, 'slight': 1450, 'result': 1326, 'impingement': 709, 'descend': 394, 'remain': 1301, 'degenerative': 376, 'change': 228, 'facet': 556, 'joint': 785, 'great': 644, 'large': 803, 'parasagittal': 1099, 'fill': 574, 'side': 1428, 'appear': 89, 'significantly': 1433, 'regional': 1293, 'soft': 1458, 'tissue': 1607, 'impression': 714, 'present': 1193, 'progress': 1213, 'study': 1515, 'also': 52, 'ct': 344, 'imaging': 705, 'obtain': 1046, 'straightening': 1507, 'lordosis': 862, 'space': 1463, 'preserve': 1195, 'irregularity': 778, 'superior': 1536, 'endplate': 500, 'paravertebral': 1102, 'value': 1689, 'retropulsed': 1334, 'fragment': 612, 'however': 681, 'tiny': 1605, 'lucency': 869, 'involve': 772, 'base': 153, 'transverse': 1631, 'process': 1209, 'second': 1386, 'well': 1727, 'coronal': 320, 'quite': 1248, 'corticated': 328, 'bulge': 184, 'marked': 892, 'inferiorly': 735, 'effacement': 478, 'perineural': 1130, 'fat': 560, 'bilaterally': 162, 'level': 825, 'central': 216, 'prominence': 1220, 'vague': 1688, 'density': 388, 'see': 1388, 'location': 857, 'within': 1736, 'although': 56, 'potentially': 1182, 'artifactual': 115, 'urinary': 1679, 'bladder': 164, 'somewhat': 1460, 'distended': 452, 'compressive': 275, 'injury': 741, 'swell': 1553, 'suspect': 1549, 'may': 902, 'do': 455, 'november': 1034, 'lucencies': 868, 'describe': 396, 'relate': 1294, 'clinical': 243, 'correlation': 323, 'require': 1313, 'questionable': 1247, 'added': 21, 'exclude': 528, 'extruded': 552, 'material': 897, 'suggest': 1530, 'review': 1339, 'pathology': 1118, 'low': 865, 'back': 145, 'pain': 1089, 'legs': 819, 'claudication': 238, 'numb': 1038, 'none': 1023, 'numbness': 1040, 'rule': 1356, 'degrade': 378, 'artifact': 114, 'presumably': 1198, 'patient': 1119, 'habitus': 649, 'demonstrate': 382, 'position': 1164, 'minimal': 940, 'foraminal': 604, 'circumferential': 235, 'approximately': 99, 'mm': 948, 'grade': 640, 'retrolisthesis': 1330, 'bilateral': 161, 'convincing': 316, 'evidence': 522, 'exit': 531, 'moderate': 950, 'epidural': 510, 'keep': 792, 'component': 272, 'lipomatosis': 848, 'raise': 1263, 'possibility': 1168, 'upon': 1675, 'downward': 460, 'traversing': 1637, 'severe': 1413, 'pronounced': 1223, 'suspected': 1550, 'compression': 274, 'exiting': 532, 'note': 1031, 'make': 882, 'ovoid': 1085, 'fusiform': 625, 'structure': 1514, 'paraspinal': 1100, 'multifidus': 965, 'muscle': 972, 'extend': 539, 'measure': 906, 'cm': 248, 'craniocaudad': 334, 'intramuscular': 766, 'lipoma': 847, 'multilevel': 967, 'pronounce': 1222, 'addition': 23, 'grey': 645, 'nun': 1041, 'community': 258, 'hospital': 679, 'gnh': 637, 'radiology': 1262, 'accession': 9, 'towards': 1620, 'weakness': 1722, 'since': 1437, 'last': 804, 'year': 1749, 'nkda': 1016, 'pmhx': 1157, 'stress': 1509, 'anxiety': 83, 'medication': 911, 'xray': 1747, 'show': 1426, 'radiculopathy': 1256, 'perform': 1127, 'assume': 125, 'type': 1649, 'vertebra': 1701, 'medullaris': 915, 'terminates': 1581, 'thoracic': 1596, 'upper': 1676, 'intervertebral': 760, 'bulging': 185, 'disease': 444, 'hypertrophic': 690, 'hypertrophy': 691, 'procedure': 1208, 'date': 356, 'name': 983, 'contrast': 311, 'likely': 840, 'cause': 210, 'paresthsia': 1106, 'arm': 106, 'hand': 651, 'carry': 203, 'lbs': 813, 'in': 716, 'chronic': 234, 'sit': 1439, 'stand': 1490, 'stool': 1504, 'extending': 540, 'know': 796, 'osteoarthritis': 1073, 'deformity': 373, 'positive': 1167, 'slr': 1454, 'multisequence': 970, 'multiplanar': 968, 'unenhanced': 1665, 'cervical': 225, 'august': 140, 'march': 888, 'reversal': 1337, 'anterolisthesis': 77, 'along': 51, 'destructive': 405, 'lesion': 821, 'obvious': 1047, 'fracture': 611, 'cervicomedullary': 226, 'junction': 790, 'unremarkable': 1671, 'cord': 318, 'complex': 270, 'account': 12, 'evident': 523, 'eccentric': 472, 'flatten': 585, 'ventral': 1695, 'without': 1737, 'uncovertebral': 1659, 'segment': 1390, 'levoconvex': 826, 'scoliosis': 1382, 'otherwise': 1078, 'terminate': 1580, 'normally': 1027, 'osteophytosis': 1077, 'thickening': 1589, 'ligamenta': 835, 'flava': 588, 'combination': 253, 'incompletely': 721, 'evaluate': 519, 'good': 639, 'dedicated': 365, 'atrophy': 133, 'compare': 260, 'mri': 960, 'june': 791, 'medic': 910, 'image': 703, 'motion': 956, 'millimeter': 938, 'particularly': 1112, 'edematous': 476, 'developed': 411, 'adjacent': 28, 'morphology': 955, 'new': 1013, 'small': 1455, 'synovial': 1562, 'cyst': 350, 'posteriorly': 1174, 'herniation': 668, 'moderately': 951, 'efface': 477, 'dorsal': 459, 'csf': 343, 'consistent': 297, 'unchanged': 1655, 'contribute': 312, 'develop': 410, 'definitive': 371, 'development': 412, 'progression': 1214, 'persistent': 1135, 'relatively': 1297, 'stable': 1488, 'patchy': 1115, 'definite': 370, 'increase': 723, 'routine': 1353, 'protocol': 1226, 'tip': 1606, 'locate': 856, 'asymmetric': 126, 'wedging': 1724, 'oblique': 1043, 'line': 845, 'flow': 593, 'traverse': 1636, 'associated': 124, 'edema': 475, 'similar': 1434, 'radiograph': 1257, 'february': 564, 'dense': 387, 'sclerosis': 1380, 'additional': 24, 'paracentral': 1095, 'impress': 713, 'oa': 1042, 'milder': 935, 'latter': 809, 'spurring': 1487, 'mark': 891, 'superimpose': 1534, 'least': 814, 'advanced': 35, 'per': 1125, 'technologist': 1574, 'uncomfortable': 1656, 'scanner': 1373, 'could': 329, 'tolerate': 1612, 'rebooked': 1272, 'prior': 1204, 'december': 359, 'abnormal': 2, 'hyperintense': 684, 'compatible': 262, 'limited': 844, 'wk': 1738, 'lt': 867, 'sciatic': 1378, 'unable': 1652, 'walk': 1716, 'radiates': 1251, 'seem': 1389, 'like': 839, 'distribution': 454, 'onset': 1058, 'neurological': 1006, 'week': 1725, 'sciatica': 1379, 'levoscoliosis': 828, 'decrease': 362, 'throughout': 1599, 'indicate': 728, 'diffuse': 431, 'subarticular': 1517, 'produce': 1210, 'fatty': 561, 'superiorly': 1537, 'extrude': 551, 'cc': 212, 'tx': 1648, 'arise': 105, 'combine': 254, 'transiting': 1626, 'indicates': 729, 'broad': 180, 'summary': 1532, 'extrusion': 554, 'non': 1019, 'enhance': 501, 'normenclature': 1028, 'posterolateral': 1176, 'irritate': 779, 'transversing': 1633, 'annular': 72, 'defect': 366, 'size': 1442, 'limb': 841, 'stir': 1503, 'congruent': 286, 'craniocervical': 336, 'adequate': 26, 'magnum': 878, 'malalignment': 883, 'usual': 1681, 'marginal': 890, 'modic': 952, 'alteration': 54, 'degree': 379, 'overgrowth': 1083, 'posterolaterally': 1177, 'correspond': 324, 'indentation': 726, 'subarachnoid': 1516, 'subtle': 1529, 'contouring': 310, 'frank': 613, 'centrally': 218, 'foramina': 602, 'stenosed': 1497, 'indent': 725, 'allow': 50, 'opinion': 1061, 'detailed': 407, 'multiple': 969, 'outline': 1079, 'electronically': 489, 'sign': 1429, 'george': 632, 'lauf': 810, 'frcpc': 615, 'mst': 961, 'probable': 1205, 'minimally': 941, 'possible': 1169, 'incidental': 717, 'partially': 1110, 'include': 719, 'detail': 406, 'dictation': 427, 'shem': 1419, 'dharampaul': 419, 'md': 904, 'transcription': 1623, 'pt': 1239, 'complaining': 266, 'lbp': 812, 'issue': 782, 'attach': 134, 'lately': 806, 'motor': 957, 'sxs': 1555, 'therefore': 1587, 'need': 995, 'repeat': 1307, 'caliber': 195, 'spur': 1486, 'generalize': 629, 'ligamentum': 838, 'flavum': 589, 'arthrosis': 111, 'overall': 1082, 'progressive': 1215, 'lumen': 874, 'effect': 481, 'combined': 255, 'couple': 330, 'potential': 1181, 'noncontrast': 1022, 'entire': 507, 'july': 788, 'five': 582, 'lordotic': 863, 'curvature': 348, 'visualized': 1711, 'portion': 1163, 'retroperitoneum': 1333, 'limit': 842, 'paraspinous': 1101, 'musculature': 973, 'appearance': 90, 'sacroiliac': 1361, 'fissure': 581, 'arthropathy': 110, 'background': 147, 'narrative': 984, 'misericordia': 946, 'mch': 903, 'op': 1059, 'admit': 31, 'neck': 994, 'shoulder': 1425, 'hx': 682, 'spondylosis': 1484, 'define': 369, 'intra': 761, 'extradural': 546, 'mass': 895, 'osteophytic': 1076, 'paracentrally': 1096, 'direct': 435, 'proximal': 1232, 'protrude': 1227, 'thigh': 1591, 'constant': 299, 'parestheisa': 1103, 'april': 102, 'curve': 349, 'convex': 314, 'designated': 401, 'unaffected': 1653, 'si': 1427, 'symmetric': 1556, 'please': 1152, 'correlate': 321, 'dermatome': 393, 'severity': 1415, 'metallic': 922, 'fixation': 583, 'plate': 1151, 'screw': 1384, 'intraspinous': 767, 'region': 1292, 'ferromagnetic': 570, 'fluid': 594, 'intensity': 747, 'collection': 250, 'communicate': 257, 'dural': 466, 'tube': 1644, 'must': 974, 'represent': 1311, 'form': 607, 'meningocele': 919, 'pseudomeningocele': 1237, 'ii': 700, 'draw': 462, 'significance': 1431, 'unknown': 1670, 'resection': 1315, 'maximum': 901, 'dimension': 433, 'ligamentous': 837, 'unusual': 1673, 'uncertain': 1654, 'oct': 1051, 'purpose': 1242, 'report': 1310, 'designate': 400, 'acute': 20, 'aggressive': 43, 'osseous': 1069, 'retroperitoneal': 1332, 'relevant': 1299, 'described': 397, 'punctate': 1241, 'high': 672, 'neuroforaminal': 1003, 'cranial': 333, 'inferior': 734, 'caudal': 208, 'contact': 303, 'displace': 446, 'displacement': 447, 'bony': 169, 'encroachment': 498, 'bone': 168, 'multi': 963, 'sequential': 1403, 'center': 213, 'localizer': 855, 'hemangioma': 658, 'fully': 622, 'characterize': 230, 'examination': 526, 'less': 822, 'extent': 544, 'imaged': 704, 'partial': 1109, 'predominantly': 1188, 'grossly': 648, 'atlantoaxial': 129, 'statistically': 1495, 'basis': 154, 'bad': 148, 'uncover': 1657, 'appreciate': 93, 'spondylotic': 1485, 'ankylosis': 71, 'nonspecific': 1025, 'query': 1245, 'technical': 1572, 'straighten': 1506, 'levorotoscoliosis': 827, 'tearing': 1571, 'margin': 889, 'shallow': 1416, 'altered': 55, 'rotation': 1350, 'major': 881, 'intravertebral': 769, 'label': 799, 'associate': 123, 'consequence': 289, 'spondylolisthesis': 1481, 'document': 457, 'post': 1171, 'mva': 975, 'hip': 675, 'herniated': 667, 'weight': 1726, 'schmorl': 1376, 'node': 1017, 'trauma': 1634, 'hyperintensities': 685, 'underlie': 1661, 'rest': 1325, 'compress': 273, 'benign': 157, 'discuss': 443, 'hajar': 650, 'recommend': 1277, 'tender': 1576, 'lumbosacral': 873, 'gluteal': 636, 'radiation': 1253, 'worsening': 1744, 'transitional': 1628, 'anatomy': 64, 'noted': 1032, 'enlarge': 503, 'pseudoarticulating': 1236, 'sacrum': 1363, 'scatter': 1375, 'versus': 1700, 'exert': 529, 'tear': 1570, 'cerebellar': 223, 'tonsil': 1613, 'situate': 1440, 'fossa': 610, 'contour': 309, 'desiccate': 398, 'around': 107, 'demonstrates': 384, 'flattening': 586, 'severely': 1414, 'would': 1746, 'involved': 773, 'sympt': 1557, 'brain': 175, 'medullary': 916, 'anteriorly': 75, 'occur': 1050, 'cephalocaudad': 222, 'near': 992, 'medial': 908, 'opening': 1060, 'abut': 5, 'clinic': 242, 'want': 1718, 'updated': 1674, 'buckle': 182, 'volume': 1713, 'descending': 395, 'unfolding': 1667, 'effusion': 482, 'increased': 724, 'particular': 1111, 'abuts': 7, 'october': 1052, 'complete': 268, 'remainder': 1302, 'generally': 631, 'lie': 830, 'discs': 442, 'posterocentral': 1175, 'cauda': 207, 'equina': 512, 'metaplasia': 923, 'superadded': 1533, 'urgent': 1677, 'consultation': 302, 'male': 884, 'recent': 1274, 'find': 578, 'filum': 576, 'importance': 712, 'intact': 745, 'concern': 280, 'intraforaminal': 765, 'neuroforamina': 1002, 'crowding': 341, 'clear': 239, 'irritation': 780, 'fairly': 557, 'visualize': 1710, 'predental': 1184, 'respect': 1320, 'uncovering': 1658, 'straddle': 1505, 'midline': 928, 'surface': 1541, 'amount': 60, 'vacuum': 1687, 'phenomenon': 1137, 'pons': 1162, 'simply': 1436, 'reflect': 1287, 'ischemic': 781, 'especially': 515, 'hypertension': 689, 'diabetes': 420, 'kyphotic': 798, 'superimposed': 1535, 'strike': 1510, 'additionally': 25, 'advise': 37, 'plain': 1148, 'film': 575, 'besides': 159, 'mid': 926, 'migration': 933, 'sequester': 1404, 'together': 1611, 'medially': 909, 'even': 521, 'ca': 191, 'request': 1312, 'referral': 1286, 'assessment': 121, 'secondary': 1387, 'par': 1093, 'aside': 116, 'discogenic': 440, 'extraspinal': 549, 'unroofing': 1672, 'impingment': 711, 'utilizing': 1685, 'scan': 1372, 'spasm': 1465, 'currently': 347, 'standard': 1491, 'consist': 295, 'several': 1412, 'acquisition': 16, 'anterolateral': 76, 'prevertebral': 1200, 'anterosuperior': 82, 'posteromedial': 1178, 'encroach': 496, 'reduce': 1282, 'affect': 38, 'peripheral': 1131, 'formation': 608, 'vary': 1692, 'remote': 1305, 'mildmoderate': 937, 'resultant': 1327, 'thicken': 1588, 'concentric': 279, 'debilitating': 357, 'radiating': 1252, 'reduction': 1283, 'annulus': 73, 'past': 1114, 'interspaces': 755, 'spondylolysis': 1482, 'tingle': 1602, 'sensation': 1393, 'sacralization': 1359, 'assess': 119, 'focus': 597, 'pole': 1160, 'kidney': 794, 'setting': 1410, 'assessed': 120, 'adnexa': 32, 'ovarian': 1081, 'dedicate': 364, 'ultrasound': 1651, 'confirm': 284, 'simple': 1435, 'cystic': 351, 'nature': 991, 'skeleton': 1445, 'subsequent': 1524, 'visualization': 1709, 'sleeve': 1448, 'point': 1158, 'anteroposterior': 79, 'borderline': 170, 'early': 471, 'sleeves': 1449, 'myelopathic': 980, 'clinically': 244, 'consider': 291, 'still': 1502, 'minute': 945, 'september': 1399, 'insight': 743, 'hermitage': 665, 'positional': 1165, 'satisfactory': 1368, 'either': 485, 'conduction': 282, 'kyphosis': 797, 'apex': 87, 'suspicious': 1552, 'detect': 408, 'bulk': 186, 'uv': 1686, 'degeneration': 375, 'midcervical': 927, 'para': 1094, 'impinges': 710, 'intrathecal': 768, 'available': 141, 'time': 1601, 'characteristic': 229, 'horizontal': 678, 'contain': 305, 'drop': 463, 'prolapse': 1218, 'number': 1039, 'apparent': 88, 'calibre': 196, 'plane': 1149, 'nucleus': 1037, 'pulposus': 1240, 'multifactorial': 964, 'interarticularis': 749, 'dominant': 458, 'spondylitic': 1477, 'probably': 1206, 'month': 953, 'top': 1616, 'buttock': 190, 'shoot': 1422, 'toe': 1609, 'interfere': 750, 'sleep': 1447, 'daily': 353, 'activity': 19, 'pre': 1183, 'neurosurgeon': 1011, 'longer': 859, 'free': 616, 'conjunction': 288, 'abutment': 6, 'extraforaminal': 547, 'partly': 1113, 'appropriately': 97, 'distally': 451, 'exhibit': 530, 'conclusion': 281, 'broadbased': 181, 'cube': 345, 'reformats': 1289, 'gross': 647, 'effaces': 479, 'multifocal': 966, 'orthopaedic': 1067, 'surgery': 1543, 'original': 1066, 'linear': 846, 'area': 103, 'generalized': 630, 'focally': 596, 'subcutaneous': 1520, 'overlie': 1084, 'noncomplex': 1021, 'appearing': 91, 'encapsulate': 494, 'nonaggressive': 1020, 'lipomatous': 849, 'myelomalacia': 979, 'elsewhere': 492, 'uah': 1650, 'pedicle': 1122, 'congenitally': 285, 'short': 1424, 'achondroplasia': 14, 'stiffness': 1501, 'iv': 783, 'indication': 730, 'female': 568, 'gadolinium': 628, 'hypointensity': 694, 'replacement': 1309, 'extrudsion': 553, 'forearm': 605, 'intermittent': 752, 'developmentally': 414, 'rt': 1354, 'involvement': 774, 'approximate': 98, 'laterally': 808, 'explain': 537, 'rad': 1249, 'dextroconvex': 417, 'frankly': 614, 'expansile': 533, 'encroaches': 497, 'interspace': 754, 'respond': 1323, 'injection': 739, 'ass': 118, 'inerval': 731, 'worsen': 1743, 'medium': 914, 'visible': 1708, 'surround': 1545, 'improve': 715, 'conservative': 290, 'utilized': 1684, 'symptomatology': 1559, 'respectively': 1322, 'migraine': 931, 'resoponding': 1319, 'relaxant': 1298, 'nsaid': 1035, 'damage': 354, 'etiology': 518, 'eccentrically': 473, 'lesser': 823, 'neurosurgical': 1012, 'helpful': 657, 'sensory': 1395, 'deficit': 368, 'lower': 866, 'neurology': 1007, 'neuropathy': 1009, 'emg': 493, 'extensive': 543, 'though': 1598, 'respective': 1321, 'spinereason': 1472, 'backache': 146, 'spondyloisthesis': 1480, 'one': 1056, 'preferentially': 1190, 'conjoin': 287, 'minorly': 943, 'extremity': 550, 'provide': 1230, 'accompany': 10, 'subluxed': 1523, 'minuscule': 944, 'diffusion': 432, 'atheromatous': 128, 'abdominal': 0, 'aorta': 84, 'iliac': 702, 'artery': 108, 'maximal': 900, 'atrophic': 132, 'psoas': 1238, 'many': 887, 'buckling': 183, 'enhancement': 502, 'underwent': 1664, 'decompression': 361, 'fusion': 626, 'dysesthesia': 469, 'shooting': 1423, 'start': 1493, 'residual': 1317, 'responsible': 1324, 'hernia': 666, 'laminectomy': 802, 'element': 490, 'transpedicular': 1629, 'rod': 1345, 'strongly': 1512, 'comparable': 259, 'preoperative': 1192, 'refer': 1284, 'corresponding': 325, 'anatomically': 63, 'postsurgical': 1180, 'complicating': 271, 'feature': 563, 'burning': 189, 'quality': 1244, 'positioning': 1166, 'wks': 1739, 'anatomical': 62, 'lipping': 850, 'transversely': 1632, 'orient': 1065, 'band': 150, 'hypointense': 693, 'across': 17, 'favor': 562, 'rather': 1264, 'true': 1642, 'conspicuous': 298, 'exacerbate': 524, 'essentially': 516, 'crescentic': 338, 'give': 634, 'provided': 1231, 'warrant': 1719, 'recurrent': 1280, 'midthoracic': 930, 'mention': 920, 'homogeneous': 677, 'striking': 1511, 'immediately': 706, 'prudent': 1233, 'eft': 483, 'ago': 44, 'netcare': 998, 'copy': 317, 'rightward': 1343, 'slippage': 1452, 'except': 527, 'primarily': 1203, 'markedly': 893, 'substantial': 1527, 'subluxation': 1522, 'electrodiagnostic': 488, 'candidate': 199, 'whole': 1733, 'ank': 68, 'spon': 1476, 'vs': 1714, 'dish': 445, 'spondyloarthropathy': 1479, 'full': 621, 'expected': 535, 'bulky': 187, 'substantially': 1528, 'survey': 1546, 'syrinx': 1563, 'corner': 319, 'inflammatory': 737, 'replace': 1308, 'bridge': 178, 'ossification': 1071, 'bridging': 179, 'terminalis': 1579, 'trace': 1622, 'erosion': 514, 'unexpected': 1666, 'sacral': 1358, 'heterogeneous': 670, 'nodular': 1018, 'susceptibility': 1548, 'total': 1618, 'prostate': 1224, 'attachment': 135, 'strain': 1508, 'labral': 800, 'anteroposteriorly': 80, 'thoracolumbar': 1597, 'pattern': 1120, 'idiopathic': 699, 'skeletal': 1444, 'hyperostosis': 688, 'sacroiliitis': 1362, 'active': 18, 'prostatic': 1225, 'yr': 1752, 'massage': 896, 'continue': 308, 'carpenter': 202, 'spondylolytic': 1483, 'listhesis': 851, 'arthritis': 109, 'chest': 233, 'calcified': 193, 'unfortunately': 1668, 'optimal': 1062, 'rudimentary': 1355, 'thinning': 1594, 'calcific': 192, 'ossific': 1070, 'incomplete': 720, 'segmentation': 1391, 'developmental': 413, 'tingling': 1603, 'try': 1643, 'gabapentin': 627, 'appt': 101, 'addendum': 22, 'final': 577, 'paragraph': 1097, 'say': 1370, 'sebaceous': 1385, 'verify': 1699, 'nivmand': 1015, 'khorramiarani': 793, 'pm': 1156, 'depression': 391, 'centered': 215, 'get': 633, 'fetal': 571, 'lobulations': 854, 'lobulated': 853, 'amirjani': 59, 'nothing': 1033, 'intracranial': 763, 'femoral': 569, 'sequestered': 1405, 'periphery': 1132, 'hyperintensity': 686, 'underlying': 1662, 'demonstrated': 383, 'jump': 789, 'truck': 1641, 'reflex': 1288, 'indeterminate': 727, 'project': 1217, 'biochemical': 163, 'psa': 1234, 'role': 1347, 'evaluation': 520, 'nuclear': 1036, 'medicine': 912, 'concave': 278, 'progressively': 1216, 'burn': 188, 'radiographs': 1259, 'zone': 1754, 'careful': 201, 'procedural': 1207, 'lift': 832, 'bag': 149, 'trivial': 1640, 'extrarenal': 548, 'pelvis': 1123, 'iii': 701, 'lady': 801, 'hypermobile': 687, 'ed': 474, 'aortic': 85, 'aneurysm': 67, 'mic': 925, 'century': 221, 'park': 1107, 'scout': 1383, 'view': 1706, 'degenerate': 374, 'clumping': 247, 'irregular': 777, 'renal': 1306, 'hilum': 674, 'hilar': 673, 'elective': 486, 'paresthesiae': 1105, 'interval': 758, 'hemicord': 660, 'tonsillar': 1614, 'considerably': 293, 'phn': 1138, 'br': 172, 'gradient': 641, 'subendplate': 1521, 'nearly': 993, 'meet': 917, 'criterion': 339, 'designation': 402, 'lytic': 877, 'radiological': 1260, 'content': 306, 'narrowed': 986, 'long': 858, 'diminish': 434, 'deposit': 390, 'state': 1494, 'perhaps': 1128, 'shift': 1420, 'really': 1268, 'appreciable': 92, 'tarlov': 1569, 'barely': 151, 'pleassant': 1153, 'breast': 177, 'cancer': 198, 'suggestive': 1531, 'look': 861, 'bc': 155, 'degerative': 377, 'affting': 39, 'reassess': 1271, 'brace': 173, 'columbia': 251, 'age': 40, 'ligamental': 836, 'relative': 1296, 'preservation': 1194, 'unimpeded': 1669, 'notably': 1030, 'osteoarthritic': 1072, 'outside': 1080, 'worker': 1741, 'compensation': 263, 'board': 166, 'professional': 1211, 'whether': 1731, 'related': 1295, 'part': 1108, 'question': 1246, 'official': 1054, 'diagnostic': 422, 'use': 1680, 'help': 656, 'wcb': 1720, 'caseworker': 204, 'decide': 360, 'mvc': 976, 'remodeling': 1304, 'round': 1352, 'circumscribe': 236, 'foregut': 606, 'duplication': 465, 'sheath': 1418, 'tumor': 1645, 'work': 1740, 'fell': 566, 'injure': 740, 'take': 1565, 'ambulance': 57, 'er': 513, 'toradol': 1617, 'lifting': 833, 'enough': 505, 'paul': 1121, 'healthcare': 654, 'centre': 219, 'possibly': 1170, 'tofield': 1610, 'health': 653, 'standing': 1492, 'radiographic': 1258, 'six': 1441, 'nonribbearing': 1024, 'today': 1608, 'requisition': 1314, 'triangular': 1638, 'shape': 1417, 'midpole': 929, 'cortical': 327, 'scarring': 1374, 'entirely': 508, 'specific': 1468, 'different': 428, 'myeloma': 978, 'metastasis': 924, 'cytometry': 352, 'granular': 642, 'lymphocytic': 876, 'leukemia': 824, 'thus': 1600, 'differential': 429, 'consideration': 294, 'ligament': 834, 'odontoid': 1053, 'foramena': 601, 'fused': 624, 'metal': 921, 'optimally': 1063, 'ankle': 69, 'south': 1462, 'pointe': 1159, 'synergy': 1561, 'wellness': 1728, 'rib': 1340, 'lumbarized': 872, 'continous': 307, 'follow': 598, 'ahead': 45, 'old': 1055, 'correlating': 322, 'radical': 1254, 'pai': 1088, 'despite': 403, 'competitive': 265, 'management': 886, 'sag': 1365, 'ax': 143, 'flair': 584, 'supratentorial': 1539, 'white': 1732, 'matter': 898, 'subcortical': 1519, 'centrum': 220, 'semiovale': 1392, 'frontal': 619, 'lobe': 852, 'hemorrhage': 662, 'ventricle': 1697, 'basal': 152, 'cistern': 237, 'intraaxial': 762, 'void': 1712, 'skull': 1446, 'orbit': 1064, 'sinus': 1438, 'nasopharynx': 989, 'reactive': 1267, 'substance': 1526, 'vessel': 1704, 'two': 1647, 'tripped': 1639, 'weak': 1721, 'previously': 1202, 'asymmetrically': 127, 'expect': 534, 'supraright': 1538, 'predominance': 1186, 'specifically': 1469, 'subchondral': 1518, 'sclerotic': 1381, 'discitis': 439, 'abscess': 4, 'sequela': 1401, 'infection': 733, 'planning': 1150, 'interpretation': 753, 'preserved': 1196, 'intend': 746, 'resolve': 1318, 'subsequently': 1525, 'reformatted': 1290, 'mineralization': 939, 'episode': 511, 'incontinence': 722, 'saddle': 1364, 'anesthesia': 66, 'mobile': 949, 'presume': 1199, 'intrinsic': 770, 'discharge': 438, 'put': 1243, 'flex': 590, 'flooring': 592, 'installer': 744, 'termination': 1582, 'clump': 246, 'become': 156, 'cortex': 326, 'definitively': 372, 'reveal': 1335, 'service': 1408, 'deficient': 367, 'judge': 787, 'worse': 1742, 'lg': 829, 'bmi': 165, 'mottle': 958, 'hypoxic': 697, 'caudally': 209, 'remains': 1303, 'adequately': 27, 'discopathy': 441, 'constellation': 300, 'inlet': 742, 'attenuation': 137, 'attenuate': 136, 'pad': 1087, 'mediolateral': 913, 'effacing': 480, 'deviation': 416, 'underdeveloped': 1660, 'neuropraxia': 1010, 'utilize': 1683, 'pressure': 1197, 'hypoesthesia': 692, 'areflexic': 104, 'dx': 468, 'hyporeflexia': 696, 'dessication': 404, 'variant': 1691, 'touch': 1619, 'retain': 1328, 'foraminae': 603, 'preliminary': 1191, 'pickard': 1143, 'telephone': 1575, 'hour': 680, 'knee': 795, 'vertical': 1703, 'hydration': 683, 'yo': 1751, 'piriformis': 1146, 'syndrome': 1560, 'cry': 342, 'able': 1, 'radiologist': 1261, 'difficulty': 430, 'investigation': 771, 'contacting': 304, 'craniocaudal': 335, 'enlarging': 504, 'fibroid': 572, 'uterus': 1682, 'colic': 249, 'rectal': 1278, 'walking': 1717, 'negative': 996, 'multisequential': 971, 'sacralized': 1360, 'progessive': 1212, 'harrington': 652, 'reverse': 1338, 'spleen': 1474, 'splenomegaly': 1475, 'persist': 1134, 'frequent': 617, 'fall': 558, 'westview': 1730, 'man': 885, 'bilat': 160, 'worst': 1745, 'cerebral': 224, 'palsy': 1091, 'hered': 664, 'spastic': 1466, 'paraplegia': 1098, 'test': 1583, 'pending': 1124, 'spasticity': 1467, 'dramatically': 461, 'night': 1014, 'ehl': 484, 'structural': 1513, 'neurogenic': 1004, 'information': 738, 'seven': 1411, 'panus': 1092, 'ridging': 1341, 'flattens': 587, 'revealing': 1336, 'bertolotti': 158, 'pll': 1155, 'taper': 1566, 'thinned': 1593, 'reasonably': 1270, 'vestigial': 1705, 'transition': 1627, 'undersurface': 1663, 'dehydration': 380, 'roughly': 1351, 'percent': 1126, 'frfse': 618, 'fse': 620, 'occult': 1049, 'approach': 94, 'close': 245, 'approaching': 95, 'myelopathy': 981, 'myelitis': 977, 'encephalomalacia': 495, 'categorization': 205, 'category': 206, 'awaiting': 142, 'transit': 1625, 'duration': 467, 'deteriorate': 409, 'flexion': 591, 'climb': 241, 'stair': 1489, 'complains': 267, 'retention': 1329, 'twice': 1646, 'denies': 386, 'dermatomal': 392, 'sequestration': 1406, 'fibrosis': 573, 'predominately': 1189, 'delay': 381, 'ventrally': 1696, 'osteophytes': 1075, 'tingly': 1604, 'surviver': 1547, 'inter': 748, 'suspicion': 1551, 'cranioforaminal': 337, 'vascular': 1693, 'life': 831, 'tapering': 1567, 'brachial': 174, 'plexus': 1154, 'atroghy': 131, 'grip': 646, 'data': 355, 'appropriate': 96, 'lung': 875, 'dibilitating': 425, 'hepatic': 663, 'steatosis': 1496, 'series': 1407, 'venous': 1694, 'system': 1564, 'directly': 436, 'separate': 1397, 'term': 1578, 'consistency': 296, 'attributable': 138, 'thickness': 1590, 'fuse': 623, 'deviate': 415, 'limitation': 843, 'dictate': 426, 'resident': 1316, 'roger': 1346, 'croutze': 340, 'thomas': 1595, 'arthur': 112, 'yeo': 1750, 'doctor': 456, 'abuzehar': 8, 'salahdine': 1367, 'occipital': 1048, 'finger': 580, 'atlantooccipital': 130, 'stepwise': 1500, 'town': 1621, 'wait': 1715, 'chart': 231, 'transfer': 1624, 'wedge': 1723, 'comprssion': 277, 'red': 1281, 'fecal': 565, 'slowly': 1453, 'involvment': 775, 'urgently': 1678, 'orthopedic': 1068, 'surgeon': 1542, 'lumbarization': 871, 'perisitent': 1133, 'electric': 487, 'shock': 1421, 'incidentally': 718, 'lat': 805, 'heterogenous': 671, 'clearly': 240, 'sparing': 1464, 'exposed': 538, 'laxity': 811, 'centeralize': 214, 'centralize': 217, 'paresthesia': 1104, 'perianal': 1129, 'thank': 1584, 'obscure': 1045, 'depict': 389, 'postoperative': 1179, 'capacious': 200, 'elongated': 491, 'articular': 113, 'pillar': 1144, 'longitudinal': 860, 'enter': 506, 'consult': 301, 'pack': 1086, 'alter': 53, 'physical': 1140, 'anteroright': 81, 'ch': 227, 'recentlyhe': 1275, 'physio': 1141, 'session': 1409, 'go': 638, 'ir': 776, 'hematopoietic': 659, 'mechanical': 907, 'obliteration': 1044, 'migrate': 932, 'compensatory': 264, 'widening': 1735, 'distal': 450, 'ankylose': 70, 'spondylitis': 1478, 'predictable': 1185, 'recur': 1279, 'ambulation': 58, 'neuropathic': 1008, 'poly': 1161, 'column': 252, 'assimilation': 122, 'tenderness': 1577, 'pseudoarthrosis': 1235, 'alar': 46, 'completely': 269, 'hypoplastic': 695, 'regard': 1291, 'notable': 1029, 'stenotic': 1499, 'experience': 536, 'pin': 1145, 'sensitivity': 1394, 'accounting': 13, 'morphologically': 954, 'yrs': 1753, 'cramp': 332, 'calf': 194, 'forward': 609, 'relief': 1300, 'pair': 1090, 'exuberant': 555, 'disproportionately': 449, 'xrays': 1748, 'eagel': 470, 'therapy': 1586, 'saturation': 1369, 'intersperse': 756, 'protruded': 1228, 'granulation': 643, 'spinous': 1473, 'convince': 315, 'joseph': 786, 'sommerfeldt': 1461, 'rdrhc': 1265, 'neuro': 1000, 'impact': 707, 'adls': 29, 'attricuted': 139, 'diagnosis': 421, 'predominant': 1187, 'rotary': 1349, 'dextroscoliosis': 418, 'considerable': 292, 'traumatic': 1635, 'prolonged': 1219, 'aggravate': 41, 'smooth': 1457, 'virtually': 1707, 'decreased': 363, 'come': 256, 'approximation': 100, 'bottom': 171, 'reference': 1285, 'physiologic': 1142, 'intermediate': 751, 'maintained': 880, 'leftward': 817, 'confidently': 283, 'felt': 567, 'extends': 541, 'reaction': 1266, 'interspinous': 757, 'thin': 1592, 'distortion': 453, 'westlock': 1729, 'align': 47, 'neuroforamen': 1001, 'neurologic': 1005, 'adverse': 36, 'septated': 1398, 'adnexal': 33, 'current': 346, 'native': 990, 'dialysis': 423, 'transplant': 1630, 'dec': 358, 'mean': 905, 'sep': 1396, 'allin': 49, 'anteromedially': 78, 'smoker': 1456, 'accord': 11, 'heterogeneity': 669, 'anemia': 65, 'cbc': 211, 'recall': 1273, 'check': 232, 'cover': 331, 'administration': 30, 'intradural': 764, 'extra': 545, 'rim': 1344, 'solid': 1459, 'inferomedially': 736, 'meningioma': 918, 'schwannoma': 1377, 'displaces': 448, 'myxopapillary': 982, 'ependymoma': 509, 'phx': 1139, 'retrolithiasis': 1331, 'length': 820, 'sure': 1540, 'miss': 947, 'pathologu': 1117, 'aggravatomg': 42, 'pertinent': 1136, 'postcontrast': 1172, 'infarction': 732, 'demyelinate': 385, 'ventricular': 1698, 'tonsils': 1615, 'brainstem': 176, 'hemisphere': 661, 'scallop': 1371, 'pituitary': 1147, 'gland': 635, 'anatomic': 61, 'variance': 1690, 'mucosal': 962, 'maxillary': 899, 'ethmoidal': 517, 'nasal': 988, 'septum': 1400, 'sized': 1443}\n"
     ]
    }
   ],
   "source": [
    "#  the vocabulary that it has learned from the mri_report\n",
    "print(Tfidf_vect.vocabulary_)"
   ]
  },
  {
   "cell_type": "code",
   "execution_count": 17,
   "id": "67420487",
   "metadata": {},
   "outputs": [
    {
     "name": "stdout",
     "output_type": "stream",
     "text": [
      "  (0, 1734)\t0.09788374301413733\n",
      "  (0, 1702)\t0.03990885537914796\n",
      "  (0, 1607)\t0.038989228077125654\n",
      "  (0, 1585)\t0.05376729930405794\n",
      "  (0, 1573)\t0.02029496450403266\n",
      "  (0, 1568)\t0.15934057653846403\n",
      "  (0, 1558)\t0.10147808536257155\n",
      "  (0, 1554)\t0.13302721860158848\n",
      "  (0, 1544)\t0.09788374301413733\n",
      "  (0, 1515)\t0.03739218041168359\n",
      "  (0, 1498)\t0.09333859960186729\n",
      "  (0, 1471)\t0.04789385280558253\n",
      "  (0, 1470)\t0.07675963776907553\n",
      "  (0, 1458)\t0.03985971454945999\n",
      "  (0, 1451)\t0.15943885819783996\n",
      "  (0, 1450)\t0.041273179065230606\n",
      "  (0, 1433)\t0.050739042681285776\n",
      "  (0, 1432)\t0.12600761391920332\n",
      "  (0, 1430)\t0.018770649603581994\n",
      "  (0, 1428)\t0.03595511912918879\n",
      "  (0, 1402)\t0.03464888908734105\n",
      "  (0, 1366)\t0.023936352512184837\n",
      "  (0, 1357)\t0.054133129202132944\n",
      "  (0, 1348)\t0.15044547083232296\n",
      "  (0, 1342)\t0.06882503976629768\n",
      "  :\t:\n",
      "  (187, 298)\t0.1433616925627286\n",
      "  (187, 297)\t0.061447943184314555\n",
      "  (187, 274)\t0.09437397601838389\n",
      "  (187, 270)\t0.06544110461574688\n",
      "  (187, 261)\t0.024610383912388734\n",
      "  (187, 228)\t0.051943889501916606\n",
      "  (187, 225)\t0.22904386615511407\n",
      "  (187, 223)\t0.1268385231980454\n",
      "  (187, 216)\t0.04744868104485174\n",
      "  (187, 176)\t0.08191374937841406\n",
      "  (187, 175)\t0.2735463491286564\n",
      "  (187, 123)\t0.04145084170751351\n",
      "  (187, 117)\t0.03499627240492757\n",
      "  (187, 102)\t0.05815368418511434\n",
      "  (187, 98)\t0.07592788479312657\n",
      "  (187, 89)\t0.027640674934319744\n",
      "  (187, 76)\t0.0683865872821641\n",
      "  (187, 61)\t0.08191374937841406\n",
      "  (187, 55)\t0.07592788479312657\n",
      "  (187, 54)\t0.0634192615990227\n",
      "  (187, 51)\t0.044626522088864376\n",
      "  (187, 36)\t0.15185576958625313\n",
      "  (187, 28)\t0.04651372085402863\n",
      "  (187, 3)\t0.034393618991814624\n",
      "  (187, 2)\t0.18342992530252633\n"
     ]
    }
   ],
   "source": [
    "# Printing the vectorized data\n",
    "print(Train_X_Tfidf)"
   ]
  },
  {
   "cell_type": "markdown",
   "id": "d92bb320",
   "metadata": {},
   "source": [
    "# Using Support Vector Machine\n"
   ]
  },
  {
   "cell_type": "code",
   "execution_count": 18,
   "id": "657e1f2f",
   "metadata": {},
   "outputs": [
    {
     "name": "stdout",
     "output_type": "stream",
     "text": [
      "SVM Accuracy Score ->  68.08510638297872\n",
      "F1-Score ->  0.2105263157894737\n",
      "Precision ->  0.25\n",
      "Recall ->  0.18181818181818182\n"
     ]
    }
   ],
   "source": [
    "# fit the training dataset on the SVM\n",
    "SVM = svm.SVC(C=9, kernel='linear', degree=3, gamma='auto')\n",
    "SVM.fit(Train_X_Tfidf,Train_Y)\n",
    "\n",
    "# predicting the labels on validation dataset\n",
    "predictions_SVM = SVM.predict(Test_X_Tfidf)\n",
    "\n",
    "# Use accuracy_score function to get the accuracy\n",
    "print(\"SVM Accuracy Score -> \",accuracy_score(predictions_SVM, Test_Y)*100)\n",
    "print(\"F1-Score -> \",f1_score(predictions_SVM, Test_Y))\n",
    "print(\"Precision -> \",precision_score(predictions_SVM, Test_Y))\n",
    "print(\"Recall -> \", recall_score(predictions_SVM, Test_Y))"
   ]
  },
  {
   "cell_type": "code",
   "execution_count": 19,
   "id": "f91dd7ef",
   "metadata": {},
   "outputs": [
    {
     "name": "stdout",
     "output_type": "stream",
     "text": [
      "SVM Accuracy Score and F1-Score when c= 1 -> 80.85106382978722 and 0.0\n",
      "SVM Accuracy Score and F1-Score when c= 2 -> 72.3404255319149 and 0.23529411764705882\n",
      "SVM Accuracy Score and F1-Score when c= 3 -> 70.2127659574468 and 0.22222222222222224\n",
      "SVM Accuracy Score and F1-Score when c= 4 -> 70.2127659574468 and 0.22222222222222224\n",
      "SVM Accuracy Score and F1-Score when c= 5 -> 68.08510638297872 and 0.2105263157894737\n",
      "SVM Accuracy Score and F1-Score when c= 6 -> 68.08510638297872 and 0.2105263157894737\n",
      "SVM Accuracy Score and F1-Score when c= 7 -> 68.08510638297872 and 0.2105263157894737\n",
      "SVM Accuracy Score and F1-Score when c= 8 -> 68.08510638297872 and 0.2105263157894737\n",
      "SVM Accuracy Score and F1-Score when c= 9 -> 68.08510638297872 and 0.2105263157894737\n",
      "SVM Accuracy Score and F1-Score when c= 10 -> 68.08510638297872 and 0.2105263157894737\n"
     ]
    }
   ],
   "source": [
    "c_range = [ 1, 2, 3, 4, 5, 6, 7, 8, 9, 10]\n",
    "\n",
    "c_scores = []\n",
    "f_scores = []\n",
    "\n",
    "# we will loop through reasonable values of c\n",
    "for c in c_range:\n",
    "    \n",
    "    # fit the training dataset on the SVM\n",
    "    SVM = svm.SVC(C=c, kernel='linear', degree=3, gamma='auto')\n",
    "    SVM.fit(Train_X_Tfidf,Train_Y)\n",
    "    # predicting the labels on validation dataset\n",
    "    predictions_SVM = SVM.predict(Test_X_Tfidf)\n",
    "    \n",
    "    accuracy = accuracy_score(predictions_SVM, Test_Y)*100\n",
    "    f1 = f1_score(predictions_SVM, Test_Y)\n",
    "    \n",
    "    c_scores.append(accuracy)\n",
    "    f_scores.append(f1)\n",
    "    \n",
    "    print(\"SVM Accuracy Score and F1-Score when c=\", c, \"->\", accuracy_score(predictions_SVM, Test_Y)*100, \"and\", f1_score(predictions_SVM, Test_Y))\n",
    "\n"
   ]
  },
  {
   "cell_type": "markdown",
   "id": "51451493",
   "metadata": {},
   "source": [
    "# Using Logistic Regression"
   ]
  },
  {
   "cell_type": "code",
   "execution_count": 20,
   "id": "e69b3a4f",
   "metadata": {},
   "outputs": [
    {
     "name": "stdout",
     "output_type": "stream",
     "text": [
      "LR Accuracy Score ->  65.95744680851064\n",
      "F1-Score ->  0.2\n",
      "Precision ->  0.25\n",
      "Recall ->  0.18181818181818182\n"
     ]
    }
   ],
   "source": [
    "# fit the training dataset on the LR\n",
    "lr = LogisticRegressionCV(cv=5, class_weight = 'balanced', random_state=0)\n",
    "lr.fit(Train_X_Tfidf,Train_Y)\n",
    "\n",
    "# predicting the labels on validation dataset\n",
    "predictions_LR = lr.predict(Test_X_Tfidf)\n",
    "\n",
    "print(\"LR Accuracy Score -> \",accuracy_score(predictions_LR, Test_Y)*100)\n",
    "print(\"F1-Score -> \",f1_score(predictions_LR, Test_Y))\n",
    "print(\"Precision -> \",precision_score(predictions_SVM, Test_Y))\n",
    "print(\"Recall -> \", recall_score(predictions_SVM, Test_Y))"
   ]
  },
  {
   "cell_type": "markdown",
   "id": "a06cc90e",
   "metadata": {},
   "source": [
    "# Using Voting Ensembles"
   ]
  },
  {
   "cell_type": "code",
   "execution_count": 21,
   "id": "1ef144dd",
   "metadata": {},
   "outputs": [
    {
     "name": "stdout",
     "output_type": "stream",
     "text": [
      "Hard voting Accuracy Score ->  70.2127659574468\n",
      "Hard voting F1-Score ->  0.22222222222222224\n",
      "Precision ->  0.25\n",
      "Recall ->  0.18181818181818182\n"
     ]
    }
   ],
   "source": [
    "clf1 = LogisticRegression(multi_class='multinomial', class_weight = 'balanced', random_state=0)\n",
    "clf2 = svm.SVC(C=9, kernel='linear', degree=3, gamma='auto')\n",
    "\n",
    "eclf1 = VotingClassifier(estimators=[('lr', clf1), ('svm', clf2)], voting='hard')\n",
    "eclf1 = eclf1.fit(Train_X_Tfidf,Train_Y)\n",
    "predictions_eclf1 = eclf1.predict(Test_X_Tfidf)\n",
    "print(\"Hard voting Accuracy Score -> \",accuracy_score(predictions_eclf1, Test_Y)*100)\n",
    "print(\"Hard voting F1-Score -> \",f1_score(predictions_eclf1, Test_Y))\n",
    "print(\"Precision -> \",precision_score(predictions_SVM, Test_Y))\n",
    "print(\"Recall -> \", recall_score(predictions_SVM, Test_Y))\n",
    "\n"
   ]
  },
  {
   "cell_type": "markdown",
   "id": "8d9247a7",
   "metadata": {},
   "source": [
    "# Keywords"
   ]
  },
  {
   "cell_type": "code",
   "execution_count": 22,
   "id": "bb332551",
   "metadata": {},
   "outputs": [
    {
     "name": "stdout",
     "output_type": "stream",
     "text": [
      "Keywords Accuracy Score ->  70.2127659574468\n",
      "Keywords voting F1-Score ->  0.22222222222222224\n",
      "Precision ->  0.25\n",
      "Recall ->  0.18181818181818182\n"
     ]
    }
   ],
   "source": [
    "KEYWORDS = ['urgent', 'urgently', 'urgency', 'prudent',\n",
    "            'advanced', 'serious', 'seriously', 'critical', 'critically',\n",
    "            'crucial', 'dire', 'emergency',\n",
    "            'surgery', 'surgical', 'consultation', 'advised',\n",
    "            'tumor', 'tumour']\n",
    "i = 0\n",
    "for text in Test_X:\n",
    "    contains_keyword = 0\n",
    "    count = 0\n",
    "    for word in KEYWORDS:\n",
    "        if word in text:\n",
    "            count += 1\n",
    "\n",
    "    if count >= 3:\n",
    "        contains_keyword = 1\n",
    "    if predictions_eclf1[i] == 0:\n",
    "        predictions_eclf1[i] = contains_keyword\n",
    "    i += 1\n",
    "\n",
    "print(\"Keywords Accuracy Score -> \",accuracy_score(predictions_eclf1, Test_Y)*100)\n",
    "print(\"Keywords voting F1-Score -> \",f1_score(predictions_eclf1, Test_Y))\n",
    "print(\"Precision -> \",precision_score(predictions_SVM, Test_Y))\n",
    "print(\"Recall -> \", recall_score(predictions_SVM, Test_Y))\n"
   ]
  },
  {
   "cell_type": "code",
   "execution_count": null,
   "id": "dcfe853e",
   "metadata": {},
   "outputs": [],
   "source": []
  }
 ],
 "metadata": {
  "kernelspec": {
   "display_name": "Python 3 (ipykernel)",
   "language": "python",
   "name": "python3"
  },
  "language_info": {
   "codemirror_mode": {
    "name": "ipython",
    "version": 3
   },
   "file_extension": ".py",
   "mimetype": "text/x-python",
   "name": "python",
   "nbconvert_exporter": "python",
   "pygments_lexer": "ipython3",
   "version": "3.10.2"
  }
 },
 "nbformat": 4,
 "nbformat_minor": 5
}
